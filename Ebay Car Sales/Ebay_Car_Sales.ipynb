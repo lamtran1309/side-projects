{
  "nbformat": 4,
  "nbformat_minor": 0,
  "metadata": {
    "colab": {
      "name": "Ebay Car Sales.ipynb",
      "version": "0.3.2",
      "provenance": [],
      "collapsed_sections": []
    },
    "kernelspec": {
      "name": "python3",
      "display_name": "Python 3"
    },
    "accelerator": "GPU"
  },
  "cells": [
    {
      "cell_type": "markdown",
      "metadata": {
        "id": "nXGXaGgjV6fj",
        "colab_type": "text"
      },
      "source": [
        "# Ebay Car Sales Data\n",
        "This project aims to investigate the variation in the number of used cars from eBay kleinanzeigen website. The dataset was downloaded from Kaggle with slight pre-defined alterations, including 50,000 data points extracted from the originial dataset. <br>\n"
      ]
    },
    {
      "cell_type": "markdown",
      "metadata": {
        "id": "U2FaR3JEYXAq",
        "colab_type": "text"
      },
      "source": [
        "Data dictionary is listed below with explanation:\n",
        "* **dateCrawled** - When this ad was first crawled. All field-values are taken from this date.\n",
        "* **name** - Name of the car.\n",
        "* **seller** - Whether the seller is private or a dealer.\n",
        "* **offerType** - The type of listing\n",
        "* **price** - The price on the ad to sell the car.\n",
        "* **abtest** - Whether the listing is included in an A/B test.\n",
        "* **vehicleType** - The vehicle Type.\n",
        "* **yearOfRegistration** - The year in which which year the car was first registered.\n",
        "* **gearbox** - The transmission type.\n",
        "* **powerPS** - The power of the car in PS.\n",
        "* **model** - The car model name.\n",
        "* **kilometer** - How many kilometers the car has driven.\n",
        "* **monthOfRegistration** - The month in which which year the car was first registered.\n",
        "* **fuelType** - What type of fuel the car uses.\n",
        "* **brand** - The brand of the car.\n",
        "* **notRepairedDamage** - If the car has a damage which is not yet repaired.\n",
        "* **dateCreated** - The date on which the eBay listing was created.\n",
        "* **nrOfPictures** - The number of pictures in the ad.\n",
        "* **postalCode** - The postal code for the location of the vehicle.\n",
        "* **lastSeenOnline** - When the crawler saw this ad last online.\n"
      ]
    },
    {
      "cell_type": "markdown",
      "metadata": {
        "id": "15L2ArzHZc9K",
        "colab_type": "text"
      },
      "source": [
        "##Loading and Cleaning data"
      ]
    },
    {
      "cell_type": "code",
      "metadata": {
        "id": "ZYl4tasUVnnQ",
        "colab_type": "code",
        "colab": {}
      },
      "source": [
        "# Including necessary libraries for investigation\n",
        "import numpy as np\n",
        "import pandas as pd"
      ],
      "execution_count": 0,
      "outputs": []
    },
    {
      "cell_type": "code",
      "metadata": {
        "id": "Qn4Z_fOLZ2L3",
        "colab_type": "code",
        "colab": {}
      },
      "source": [
        "# Load file from Github\n",
        "url = \"https://raw.githubusercontent.com/lamtran1309/side-projects/master/Ebay%20Car%20Sales/autos.csv?token=AI4VQC4KD3DBIQSFQYZOLMK5HO2QA\"\n",
        "df = pd.read_csv(url, encoding =\"Latin-1\")"
      ],
      "execution_count": 0,
      "outputs": []
    },
    {
      "cell_type": "code",
      "metadata": {
        "id": "ZVV6Sn8Vawjd",
        "colab_type": "code",
        "outputId": "02db5ed1-3036-4e09-f96f-88c327495531",
        "colab": {
          "base_uri": "https://localhost:8080/",
          "height": 778
        }
      },
      "source": [
        "df.head(11) #print the first ten records with header as the first row"
      ],
      "execution_count": 3,
      "outputs": [
        {
          "output_type": "execute_result",
          "data": {
            "text/html": [
              "<div>\n",
              "<style scoped>\n",
              "    .dataframe tbody tr th:only-of-type {\n",
              "        vertical-align: middle;\n",
              "    }\n",
              "\n",
              "    .dataframe tbody tr th {\n",
              "        vertical-align: top;\n",
              "    }\n",
              "\n",
              "    .dataframe thead th {\n",
              "        text-align: right;\n",
              "    }\n",
              "</style>\n",
              "<table border=\"1\" class=\"dataframe\">\n",
              "  <thead>\n",
              "    <tr style=\"text-align: right;\">\n",
              "      <th></th>\n",
              "      <th>dateCrawled</th>\n",
              "      <th>name</th>\n",
              "      <th>seller</th>\n",
              "      <th>offerType</th>\n",
              "      <th>price</th>\n",
              "      <th>abtest</th>\n",
              "      <th>vehicleType</th>\n",
              "      <th>yearOfRegistration</th>\n",
              "      <th>gearbox</th>\n",
              "      <th>powerPS</th>\n",
              "      <th>model</th>\n",
              "      <th>odometer</th>\n",
              "      <th>monthOfRegistration</th>\n",
              "      <th>fuelType</th>\n",
              "      <th>brand</th>\n",
              "      <th>notRepairedDamage</th>\n",
              "      <th>dateCreated</th>\n",
              "      <th>nrOfPictures</th>\n",
              "      <th>postalCode</th>\n",
              "      <th>lastSeen</th>\n",
              "    </tr>\n",
              "  </thead>\n",
              "  <tbody>\n",
              "    <tr>\n",
              "      <th>0</th>\n",
              "      <td>2016-03-26 17:47:46</td>\n",
              "      <td>Peugeot_807_160_NAVTECH_ON_BOARD</td>\n",
              "      <td>privat</td>\n",
              "      <td>Angebot</td>\n",
              "      <td>$5,000</td>\n",
              "      <td>control</td>\n",
              "      <td>bus</td>\n",
              "      <td>2004</td>\n",
              "      <td>manuell</td>\n",
              "      <td>158</td>\n",
              "      <td>andere</td>\n",
              "      <td>150,000km</td>\n",
              "      <td>3</td>\n",
              "      <td>lpg</td>\n",
              "      <td>peugeot</td>\n",
              "      <td>nein</td>\n",
              "      <td>2016-03-26 00:00:00</td>\n",
              "      <td>0</td>\n",
              "      <td>79588</td>\n",
              "      <td>2016-04-06 06:45:54</td>\n",
              "    </tr>\n",
              "    <tr>\n",
              "      <th>1</th>\n",
              "      <td>2016-04-04 13:38:56</td>\n",
              "      <td>BMW_740i_4_4_Liter_HAMANN_UMBAU_Mega_Optik</td>\n",
              "      <td>privat</td>\n",
              "      <td>Angebot</td>\n",
              "      <td>$8,500</td>\n",
              "      <td>control</td>\n",
              "      <td>limousine</td>\n",
              "      <td>1997</td>\n",
              "      <td>automatik</td>\n",
              "      <td>286</td>\n",
              "      <td>7er</td>\n",
              "      <td>150,000km</td>\n",
              "      <td>6</td>\n",
              "      <td>benzin</td>\n",
              "      <td>bmw</td>\n",
              "      <td>nein</td>\n",
              "      <td>2016-04-04 00:00:00</td>\n",
              "      <td>0</td>\n",
              "      <td>71034</td>\n",
              "      <td>2016-04-06 14:45:08</td>\n",
              "    </tr>\n",
              "    <tr>\n",
              "      <th>2</th>\n",
              "      <td>2016-03-26 18:57:24</td>\n",
              "      <td>Volkswagen_Golf_1.6_United</td>\n",
              "      <td>privat</td>\n",
              "      <td>Angebot</td>\n",
              "      <td>$8,990</td>\n",
              "      <td>test</td>\n",
              "      <td>limousine</td>\n",
              "      <td>2009</td>\n",
              "      <td>manuell</td>\n",
              "      <td>102</td>\n",
              "      <td>golf</td>\n",
              "      <td>70,000km</td>\n",
              "      <td>7</td>\n",
              "      <td>benzin</td>\n",
              "      <td>volkswagen</td>\n",
              "      <td>nein</td>\n",
              "      <td>2016-03-26 00:00:00</td>\n",
              "      <td>0</td>\n",
              "      <td>35394</td>\n",
              "      <td>2016-04-06 20:15:37</td>\n",
              "    </tr>\n",
              "    <tr>\n",
              "      <th>3</th>\n",
              "      <td>2016-03-12 16:58:10</td>\n",
              "      <td>Smart_smart_fortwo_coupe_softouch/F1/Klima/Pan...</td>\n",
              "      <td>privat</td>\n",
              "      <td>Angebot</td>\n",
              "      <td>$4,350</td>\n",
              "      <td>control</td>\n",
              "      <td>kleinwagen</td>\n",
              "      <td>2007</td>\n",
              "      <td>automatik</td>\n",
              "      <td>71</td>\n",
              "      <td>fortwo</td>\n",
              "      <td>70,000km</td>\n",
              "      <td>6</td>\n",
              "      <td>benzin</td>\n",
              "      <td>smart</td>\n",
              "      <td>nein</td>\n",
              "      <td>2016-03-12 00:00:00</td>\n",
              "      <td>0</td>\n",
              "      <td>33729</td>\n",
              "      <td>2016-03-15 03:16:28</td>\n",
              "    </tr>\n",
              "    <tr>\n",
              "      <th>4</th>\n",
              "      <td>2016-04-01 14:38:50</td>\n",
              "      <td>Ford_Focus_1_6_Benzin_TÜV_neu_ist_sehr_gepfleg...</td>\n",
              "      <td>privat</td>\n",
              "      <td>Angebot</td>\n",
              "      <td>$1,350</td>\n",
              "      <td>test</td>\n",
              "      <td>kombi</td>\n",
              "      <td>2003</td>\n",
              "      <td>manuell</td>\n",
              "      <td>0</td>\n",
              "      <td>focus</td>\n",
              "      <td>150,000km</td>\n",
              "      <td>7</td>\n",
              "      <td>benzin</td>\n",
              "      <td>ford</td>\n",
              "      <td>nein</td>\n",
              "      <td>2016-04-01 00:00:00</td>\n",
              "      <td>0</td>\n",
              "      <td>39218</td>\n",
              "      <td>2016-04-01 14:38:50</td>\n",
              "    </tr>\n",
              "    <tr>\n",
              "      <th>5</th>\n",
              "      <td>2016-03-21 13:47:45</td>\n",
              "      <td>Chrysler_Grand_Voyager_2.8_CRD_Aut.Limited_Sto...</td>\n",
              "      <td>privat</td>\n",
              "      <td>Angebot</td>\n",
              "      <td>$7,900</td>\n",
              "      <td>test</td>\n",
              "      <td>bus</td>\n",
              "      <td>2006</td>\n",
              "      <td>automatik</td>\n",
              "      <td>150</td>\n",
              "      <td>voyager</td>\n",
              "      <td>150,000km</td>\n",
              "      <td>4</td>\n",
              "      <td>diesel</td>\n",
              "      <td>chrysler</td>\n",
              "      <td>NaN</td>\n",
              "      <td>2016-03-21 00:00:00</td>\n",
              "      <td>0</td>\n",
              "      <td>22962</td>\n",
              "      <td>2016-04-06 09:45:21</td>\n",
              "    </tr>\n",
              "    <tr>\n",
              "      <th>6</th>\n",
              "      <td>2016-03-20 17:55:21</td>\n",
              "      <td>VW_Golf_III_GT_Special_Electronic_Green_Metall...</td>\n",
              "      <td>privat</td>\n",
              "      <td>Angebot</td>\n",
              "      <td>$300</td>\n",
              "      <td>test</td>\n",
              "      <td>limousine</td>\n",
              "      <td>1995</td>\n",
              "      <td>manuell</td>\n",
              "      <td>90</td>\n",
              "      <td>golf</td>\n",
              "      <td>150,000km</td>\n",
              "      <td>8</td>\n",
              "      <td>benzin</td>\n",
              "      <td>volkswagen</td>\n",
              "      <td>NaN</td>\n",
              "      <td>2016-03-20 00:00:00</td>\n",
              "      <td>0</td>\n",
              "      <td>31535</td>\n",
              "      <td>2016-03-23 02:48:59</td>\n",
              "    </tr>\n",
              "    <tr>\n",
              "      <th>7</th>\n",
              "      <td>2016-03-16 18:55:19</td>\n",
              "      <td>Golf_IV_1.9_TDI_90PS</td>\n",
              "      <td>privat</td>\n",
              "      <td>Angebot</td>\n",
              "      <td>$1,990</td>\n",
              "      <td>control</td>\n",
              "      <td>limousine</td>\n",
              "      <td>1998</td>\n",
              "      <td>manuell</td>\n",
              "      <td>90</td>\n",
              "      <td>golf</td>\n",
              "      <td>150,000km</td>\n",
              "      <td>12</td>\n",
              "      <td>diesel</td>\n",
              "      <td>volkswagen</td>\n",
              "      <td>nein</td>\n",
              "      <td>2016-03-16 00:00:00</td>\n",
              "      <td>0</td>\n",
              "      <td>53474</td>\n",
              "      <td>2016-04-07 03:17:32</td>\n",
              "    </tr>\n",
              "    <tr>\n",
              "      <th>8</th>\n",
              "      <td>2016-03-22 16:51:34</td>\n",
              "      <td>Seat_Arosa</td>\n",
              "      <td>privat</td>\n",
              "      <td>Angebot</td>\n",
              "      <td>$250</td>\n",
              "      <td>test</td>\n",
              "      <td>NaN</td>\n",
              "      <td>2000</td>\n",
              "      <td>manuell</td>\n",
              "      <td>0</td>\n",
              "      <td>arosa</td>\n",
              "      <td>150,000km</td>\n",
              "      <td>10</td>\n",
              "      <td>NaN</td>\n",
              "      <td>seat</td>\n",
              "      <td>nein</td>\n",
              "      <td>2016-03-22 00:00:00</td>\n",
              "      <td>0</td>\n",
              "      <td>7426</td>\n",
              "      <td>2016-03-26 18:18:10</td>\n",
              "    </tr>\n",
              "    <tr>\n",
              "      <th>9</th>\n",
              "      <td>2016-03-16 13:47:02</td>\n",
              "      <td>Renault_Megane_Scenic_1.6e_RT_Klimaanlage</td>\n",
              "      <td>privat</td>\n",
              "      <td>Angebot</td>\n",
              "      <td>$590</td>\n",
              "      <td>control</td>\n",
              "      <td>bus</td>\n",
              "      <td>1997</td>\n",
              "      <td>manuell</td>\n",
              "      <td>90</td>\n",
              "      <td>megane</td>\n",
              "      <td>150,000km</td>\n",
              "      <td>7</td>\n",
              "      <td>benzin</td>\n",
              "      <td>renault</td>\n",
              "      <td>nein</td>\n",
              "      <td>2016-03-16 00:00:00</td>\n",
              "      <td>0</td>\n",
              "      <td>15749</td>\n",
              "      <td>2016-04-06 10:46:35</td>\n",
              "    </tr>\n",
              "    <tr>\n",
              "      <th>10</th>\n",
              "      <td>2016-03-15 01:41:36</td>\n",
              "      <td>VW_Golf_Tuning_in_siber/grau</td>\n",
              "      <td>privat</td>\n",
              "      <td>Angebot</td>\n",
              "      <td>$999</td>\n",
              "      <td>test</td>\n",
              "      <td>NaN</td>\n",
              "      <td>2017</td>\n",
              "      <td>manuell</td>\n",
              "      <td>90</td>\n",
              "      <td>NaN</td>\n",
              "      <td>150,000km</td>\n",
              "      <td>4</td>\n",
              "      <td>benzin</td>\n",
              "      <td>volkswagen</td>\n",
              "      <td>nein</td>\n",
              "      <td>2016-03-14 00:00:00</td>\n",
              "      <td>0</td>\n",
              "      <td>86157</td>\n",
              "      <td>2016-04-07 03:16:21</td>\n",
              "    </tr>\n",
              "  </tbody>\n",
              "</table>\n",
              "</div>"
            ],
            "text/plain": [
              "            dateCrawled  ...             lastSeen\n",
              "0   2016-03-26 17:47:46  ...  2016-04-06 06:45:54\n",
              "1   2016-04-04 13:38:56  ...  2016-04-06 14:45:08\n",
              "2   2016-03-26 18:57:24  ...  2016-04-06 20:15:37\n",
              "3   2016-03-12 16:58:10  ...  2016-03-15 03:16:28\n",
              "4   2016-04-01 14:38:50  ...  2016-04-01 14:38:50\n",
              "5   2016-03-21 13:47:45  ...  2016-04-06 09:45:21\n",
              "6   2016-03-20 17:55:21  ...  2016-03-23 02:48:59\n",
              "7   2016-03-16 18:55:19  ...  2016-04-07 03:17:32\n",
              "8   2016-03-22 16:51:34  ...  2016-03-26 18:18:10\n",
              "9   2016-03-16 13:47:02  ...  2016-04-06 10:46:35\n",
              "10  2016-03-15 01:41:36  ...  2016-04-07 03:16:21\n",
              "\n",
              "[11 rows x 20 columns]"
            ]
          },
          "metadata": {
            "tags": []
          },
          "execution_count": 3
        }
      ]
    },
    {
      "cell_type": "code",
      "metadata": {
        "id": "2YXKleOLa7FO",
        "colab_type": "code",
        "outputId": "eb423a47-44d7-4c15-b3b1-81dcbc95b42a",
        "colab": {
          "base_uri": "https://localhost:8080/",
          "height": 472
        }
      },
      "source": [
        "# Summary info about the dataset:\n",
        "df.info()"
      ],
      "execution_count": 4,
      "outputs": [
        {
          "output_type": "stream",
          "text": [
            "<class 'pandas.core.frame.DataFrame'>\n",
            "RangeIndex: 50000 entries, 0 to 49999\n",
            "Data columns (total 20 columns):\n",
            "dateCrawled            50000 non-null object\n",
            "name                   50000 non-null object\n",
            "seller                 50000 non-null object\n",
            "offerType              50000 non-null object\n",
            "price                  50000 non-null object\n",
            "abtest                 50000 non-null object\n",
            "vehicleType            44905 non-null object\n",
            "yearOfRegistration     50000 non-null int64\n",
            "gearbox                47320 non-null object\n",
            "powerPS                50000 non-null int64\n",
            "model                  47242 non-null object\n",
            "odometer               50000 non-null object\n",
            "monthOfRegistration    50000 non-null int64\n",
            "fuelType               45518 non-null object\n",
            "brand                  50000 non-null object\n",
            "notRepairedDamage      40171 non-null object\n",
            "dateCreated            50000 non-null object\n",
            "nrOfPictures           50000 non-null int64\n",
            "postalCode             50000 non-null int64\n",
            "lastSeen               50000 non-null object\n",
            "dtypes: int64(5), object(15)\n",
            "memory usage: 7.6+ MB\n"
          ],
          "name": "stdout"
        }
      ]
    },
    {
      "cell_type": "markdown",
      "metadata": {
        "id": "2RzHINOndg3p",
        "colab_type": "text"
      },
      "source": [
        "It can be seen from the summary above that the dataset has 20 columns in total. Some columns, such as `vehicleType`, `gearbox` or `fuelType` have null values. In addition, the column names were written in camelcase instead of preferred snakecase. Therefore, the column names will be modified accordingly in the next step. "
      ]
    },
    {
      "cell_type": "markdown",
      "metadata": {
        "id": "BmoBMVREcctR",
        "colab_type": "text"
      },
      "source": [
        "## Cleaning Column Names"
      ]
    },
    {
      "cell_type": "code",
      "metadata": {
        "id": "R02IaQUabSOu",
        "colab_type": "code",
        "outputId": "55e2811d-ca7b-46bc-b534-9b1635e01a11",
        "colab": {
          "base_uri": "https://localhost:8080/",
          "height": 126
        }
      },
      "source": [
        "# Original column names\n",
        "df.columns"
      ],
      "execution_count": 5,
      "outputs": [
        {
          "output_type": "execute_result",
          "data": {
            "text/plain": [
              "Index(['dateCrawled', 'name', 'seller', 'offerType', 'price', 'abtest',\n",
              "       'vehicleType', 'yearOfRegistration', 'gearbox', 'powerPS', 'model',\n",
              "       'odometer', 'monthOfRegistration', 'fuelType', 'brand',\n",
              "       'notRepairedDamage', 'dateCreated', 'nrOfPictures', 'postalCode',\n",
              "       'lastSeen'],\n",
              "      dtype='object')"
            ]
          },
          "metadata": {
            "tags": []
          },
          "execution_count": 5
        }
      ]
    },
    {
      "cell_type": "code",
      "metadata": {
        "id": "vC0E8EOxenCs",
        "colab_type": "code",
        "colab": {}
      },
      "source": [
        "# Modify the camelcase column names to snakecase column names\n",
        "df.columns = [\n",
        "    'date_crawled', 'name', 'seller', 'offer_type', 'price', 'abtest',\n",
        "    'vehicle_type', 'registration_year', 'gearbox', 'power_ps', 'model',\n",
        "    'odometer_km', 'registration_month', 'fuel_type', 'brand',\n",
        "    'unrepaired_damage', 'ad_created', 'nr_of_pictures', 'postal_code',\n",
        "    'last_seen'\n",
        "]"
      ],
      "execution_count": 0,
      "outputs": []
    },
    {
      "cell_type": "code",
      "metadata": {
        "id": "HRMtOA5Uezqs",
        "colab_type": "code",
        "outputId": "c23ebfe8-19d9-4cfb-e490-b00d36b4a515",
        "colab": {
          "base_uri": "https://localhost:8080/",
          "height": 133
        }
      },
      "source": [
        "df.head(1)"
      ],
      "execution_count": 7,
      "outputs": [
        {
          "output_type": "execute_result",
          "data": {
            "text/html": [
              "<div>\n",
              "<style scoped>\n",
              "    .dataframe tbody tr th:only-of-type {\n",
              "        vertical-align: middle;\n",
              "    }\n",
              "\n",
              "    .dataframe tbody tr th {\n",
              "        vertical-align: top;\n",
              "    }\n",
              "\n",
              "    .dataframe thead th {\n",
              "        text-align: right;\n",
              "    }\n",
              "</style>\n",
              "<table border=\"1\" class=\"dataframe\">\n",
              "  <thead>\n",
              "    <tr style=\"text-align: right;\">\n",
              "      <th></th>\n",
              "      <th>date_crawled</th>\n",
              "      <th>name</th>\n",
              "      <th>seller</th>\n",
              "      <th>offer_type</th>\n",
              "      <th>price</th>\n",
              "      <th>abtest</th>\n",
              "      <th>vehicle_type</th>\n",
              "      <th>registration_year</th>\n",
              "      <th>gearbox</th>\n",
              "      <th>power_ps</th>\n",
              "      <th>model</th>\n",
              "      <th>odometer_km</th>\n",
              "      <th>registration_month</th>\n",
              "      <th>fuel_type</th>\n",
              "      <th>brand</th>\n",
              "      <th>unrepaired_damage</th>\n",
              "      <th>ad_created</th>\n",
              "      <th>nr_of_pictures</th>\n",
              "      <th>postal_code</th>\n",
              "      <th>last_seen</th>\n",
              "    </tr>\n",
              "  </thead>\n",
              "  <tbody>\n",
              "    <tr>\n",
              "      <th>0</th>\n",
              "      <td>2016-03-26 17:47:46</td>\n",
              "      <td>Peugeot_807_160_NAVTECH_ON_BOARD</td>\n",
              "      <td>privat</td>\n",
              "      <td>Angebot</td>\n",
              "      <td>$5,000</td>\n",
              "      <td>control</td>\n",
              "      <td>bus</td>\n",
              "      <td>2004</td>\n",
              "      <td>manuell</td>\n",
              "      <td>158</td>\n",
              "      <td>andere</td>\n",
              "      <td>150,000km</td>\n",
              "      <td>3</td>\n",
              "      <td>lpg</td>\n",
              "      <td>peugeot</td>\n",
              "      <td>nein</td>\n",
              "      <td>2016-03-26 00:00:00</td>\n",
              "      <td>0</td>\n",
              "      <td>79588</td>\n",
              "      <td>2016-04-06 06:45:54</td>\n",
              "    </tr>\n",
              "  </tbody>\n",
              "</table>\n",
              "</div>"
            ],
            "text/plain": [
              "          date_crawled  ...            last_seen\n",
              "0  2016-03-26 17:47:46  ...  2016-04-06 06:45:54\n",
              "\n",
              "[1 rows x 20 columns]"
            ]
          },
          "metadata": {
            "tags": []
          },
          "execution_count": 7
        }
      ]
    },
    {
      "cell_type": "markdown",
      "metadata": {
        "id": "k4jeNxPGfPiA",
        "colab_type": "text"
      },
      "source": [
        "## Starting Investigation and Data Cleaning\n",
        "As text columns are less valuable with regards to information, more focus is shifted to numeric data. "
      ]
    },
    {
      "cell_type": "code",
      "metadata": {
        "id": "M3HbE76ve9MM",
        "colab_type": "code",
        "outputId": "e613b04d-4c86-4f04-d0a1-845c32047756",
        "colab": {
          "base_uri": "https://localhost:8080/",
          "height": 288
        }
      },
      "source": [
        "df.describe()"
      ],
      "execution_count": 8,
      "outputs": [
        {
          "output_type": "execute_result",
          "data": {
            "text/html": [
              "<div>\n",
              "<style scoped>\n",
              "    .dataframe tbody tr th:only-of-type {\n",
              "        vertical-align: middle;\n",
              "    }\n",
              "\n",
              "    .dataframe tbody tr th {\n",
              "        vertical-align: top;\n",
              "    }\n",
              "\n",
              "    .dataframe thead th {\n",
              "        text-align: right;\n",
              "    }\n",
              "</style>\n",
              "<table border=\"1\" class=\"dataframe\">\n",
              "  <thead>\n",
              "    <tr style=\"text-align: right;\">\n",
              "      <th></th>\n",
              "      <th>registration_year</th>\n",
              "      <th>power_ps</th>\n",
              "      <th>registration_month</th>\n",
              "      <th>nr_of_pictures</th>\n",
              "      <th>postal_code</th>\n",
              "    </tr>\n",
              "  </thead>\n",
              "  <tbody>\n",
              "    <tr>\n",
              "      <th>count</th>\n",
              "      <td>50000.000000</td>\n",
              "      <td>50000.000000</td>\n",
              "      <td>50000.000000</td>\n",
              "      <td>50000.0</td>\n",
              "      <td>50000.000000</td>\n",
              "    </tr>\n",
              "    <tr>\n",
              "      <th>mean</th>\n",
              "      <td>2005.073280</td>\n",
              "      <td>116.355920</td>\n",
              "      <td>5.723360</td>\n",
              "      <td>0.0</td>\n",
              "      <td>50813.627300</td>\n",
              "    </tr>\n",
              "    <tr>\n",
              "      <th>std</th>\n",
              "      <td>105.712813</td>\n",
              "      <td>209.216627</td>\n",
              "      <td>3.711984</td>\n",
              "      <td>0.0</td>\n",
              "      <td>25779.747957</td>\n",
              "    </tr>\n",
              "    <tr>\n",
              "      <th>min</th>\n",
              "      <td>1000.000000</td>\n",
              "      <td>0.000000</td>\n",
              "      <td>0.000000</td>\n",
              "      <td>0.0</td>\n",
              "      <td>1067.000000</td>\n",
              "    </tr>\n",
              "    <tr>\n",
              "      <th>25%</th>\n",
              "      <td>1999.000000</td>\n",
              "      <td>70.000000</td>\n",
              "      <td>3.000000</td>\n",
              "      <td>0.0</td>\n",
              "      <td>30451.000000</td>\n",
              "    </tr>\n",
              "    <tr>\n",
              "      <th>50%</th>\n",
              "      <td>2003.000000</td>\n",
              "      <td>105.000000</td>\n",
              "      <td>6.000000</td>\n",
              "      <td>0.0</td>\n",
              "      <td>49577.000000</td>\n",
              "    </tr>\n",
              "    <tr>\n",
              "      <th>75%</th>\n",
              "      <td>2008.000000</td>\n",
              "      <td>150.000000</td>\n",
              "      <td>9.000000</td>\n",
              "      <td>0.0</td>\n",
              "      <td>71540.000000</td>\n",
              "    </tr>\n",
              "    <tr>\n",
              "      <th>max</th>\n",
              "      <td>9999.000000</td>\n",
              "      <td>17700.000000</td>\n",
              "      <td>12.000000</td>\n",
              "      <td>0.0</td>\n",
              "      <td>99998.000000</td>\n",
              "    </tr>\n",
              "  </tbody>\n",
              "</table>\n",
              "</div>"
            ],
            "text/plain": [
              "       registration_year      power_ps  ...  nr_of_pictures   postal_code\n",
              "count       50000.000000  50000.000000  ...         50000.0  50000.000000\n",
              "mean         2005.073280    116.355920  ...             0.0  50813.627300\n",
              "std           105.712813    209.216627  ...             0.0  25779.747957\n",
              "min          1000.000000      0.000000  ...             0.0   1067.000000\n",
              "25%          1999.000000     70.000000  ...             0.0  30451.000000\n",
              "50%          2003.000000    105.000000  ...             0.0  49577.000000\n",
              "75%          2008.000000    150.000000  ...             0.0  71540.000000\n",
              "max          9999.000000  17700.000000  ...             0.0  99998.000000\n",
              "\n",
              "[8 rows x 5 columns]"
            ]
          },
          "metadata": {
            "tags": []
          },
          "execution_count": 8
        }
      ]
    },
    {
      "cell_type": "markdown",
      "metadata": {
        "id": "biqoIWLqheg_",
        "colab_type": "text"
      },
      "source": [
        "Comparing this summary table to original dataset, we can notice that there are some attributes that should be appeared but missing due to its type in string: such as `price` and `odometer`."
      ]
    },
    {
      "cell_type": "code",
      "metadata": {
        "id": "woUPG5gggHL8",
        "colab_type": "code",
        "outputId": "dbfb639a-314a-4319-abeb-5dc31e756fa6",
        "colab": {
          "base_uri": "https://localhost:8080/",
          "height": 54
        }
      },
      "source": [
        "df[\"price\"].unique()"
      ],
      "execution_count": 9,
      "outputs": [
        {
          "output_type": "execute_result",
          "data": {
            "text/plain": [
              "array(['$5,000', '$8,500', '$8,990', ..., '$385', '$22,200', '$16,995'],\n",
              "      dtype=object)"
            ]
          },
          "metadata": {
            "tags": []
          },
          "execution_count": 9
        }
      ]
    },
    {
      "cell_type": "code",
      "metadata": {
        "id": "TnP47IVth3Ca",
        "colab_type": "code",
        "colab": {}
      },
      "source": [
        "#Since the value was written in string, we will convert it to float number\n",
        "df[\"price\"] = df[\"price\"].str.replace(\"$\",\"\") # remove the $ sign\n",
        "df[\"price\"] = df[\"price\"].str.replace(\",\",\"\") # remove the , sign\n",
        "df[\"price\"] = df[\"price\"].astype(float)       # convert into float number"
      ],
      "execution_count": 0,
      "outputs": []
    },
    {
      "cell_type": "code",
      "metadata": {
        "id": "MfIwkEoQietL",
        "colab_type": "code",
        "colab": {}
      },
      "source": [
        "#Similar procedure is conducted for odometer_km\n",
        "df[\"odometer_km\"] = df[\"odometer_km\"].str.replace(\"km\",\"\") # remove the $ sign\n",
        "df[\"odometer_km\"] = df[\"odometer_km\"].str.replace(\",\",\"\") # remove the , sign\n",
        "df[\"odometer_km\"] = df[\"odometer_km\"].astype(float)       # convert into float number"
      ],
      "execution_count": 0,
      "outputs": []
    },
    {
      "cell_type": "markdown",
      "metadata": {
        "id": "ab8h2XYeixjf",
        "colab_type": "text"
      },
      "source": [
        "## Studying the Price and Odometer Columns\n",
        "Two attributes are studied in details in terms of a number of factors"
      ]
    },
    {
      "cell_type": "code",
      "metadata": {
        "id": "-5uI5H37igar",
        "colab_type": "code",
        "outputId": "dd4b5e92-4ae0-4adb-9268-91e3cf6af4ef",
        "colab": {
          "base_uri": "https://localhost:8080/",
          "height": 54
        }
      },
      "source": [
        "print(\"Unique values of price\")\n",
        "df[\"price\"].unique().shape"
      ],
      "execution_count": 12,
      "outputs": [
        {
          "output_type": "stream",
          "text": [
            "Unique values of price\n"
          ],
          "name": "stdout"
        },
        {
          "output_type": "execute_result",
          "data": {
            "text/plain": [
              "(2357,)"
            ]
          },
          "metadata": {
            "tags": []
          },
          "execution_count": 12
        }
      ]
    },
    {
      "cell_type": "code",
      "metadata": {
        "id": "OwwzWsKfjd56",
        "colab_type": "code",
        "outputId": "df770e76-221b-43db-ae5a-072cb71b42ef",
        "colab": {
          "base_uri": "https://localhost:8080/",
          "height": 199
        }
      },
      "source": [
        "print(\"Basic statistical measurement of price\")\n",
        "df[\"price\"].describe()"
      ],
      "execution_count": 13,
      "outputs": [
        {
          "output_type": "stream",
          "text": [
            "Basic statistical measurement of price\n"
          ],
          "name": "stdout"
        },
        {
          "output_type": "execute_result",
          "data": {
            "text/plain": [
              "count    5.000000e+04\n",
              "mean     9.840044e+03\n",
              "std      4.811044e+05\n",
              "min      0.000000e+00\n",
              "25%      1.100000e+03\n",
              "50%      2.950000e+03\n",
              "75%      7.200000e+03\n",
              "max      1.000000e+08\n",
              "Name: price, dtype: float64"
            ]
          },
          "metadata": {
            "tags": []
          },
          "execution_count": 13
        }
      ]
    },
    {
      "cell_type": "code",
      "metadata": {
        "id": "gMHwpc14jl_a",
        "colab_type": "code",
        "outputId": "16c0e569-47da-47e5-feda-bebf89868e17",
        "colab": {
          "base_uri": "https://localhost:8080/",
          "height": 235
        }
      },
      "source": [
        "print(\"Value counts of price\")\n",
        "df[\"price\"].value_counts().head(10)"
      ],
      "execution_count": 14,
      "outputs": [
        {
          "output_type": "stream",
          "text": [
            "Value counts of price\n"
          ],
          "name": "stdout"
        },
        {
          "output_type": "execute_result",
          "data": {
            "text/plain": [
              "0.0       1421\n",
              "500.0      781\n",
              "1500.0     734\n",
              "2500.0     643\n",
              "1200.0     639\n",
              "1000.0     639\n",
              "600.0      531\n",
              "800.0      498\n",
              "3500.0     498\n",
              "2000.0     460\n",
              "Name: price, dtype: int64"
            ]
          },
          "metadata": {
            "tags": []
          },
          "execution_count": 14
        }
      ]
    },
    {
      "cell_type": "code",
      "metadata": {
        "id": "E4_hAtqskW86",
        "colab_type": "code",
        "outputId": "14e45b66-26b6-4cfb-ba89-421fa9845ae5",
        "colab": {
          "base_uri": "https://localhost:8080/",
          "height": 54
        }
      },
      "source": [
        "print(\"Unique values of odometer_km\")\n",
        "df[\"odometer_km\"].unique().shape"
      ],
      "execution_count": 15,
      "outputs": [
        {
          "output_type": "stream",
          "text": [
            "Unique values of odometer_km\n"
          ],
          "name": "stdout"
        },
        {
          "output_type": "execute_result",
          "data": {
            "text/plain": [
              "(13,)"
            ]
          },
          "metadata": {
            "tags": []
          },
          "execution_count": 15
        }
      ]
    },
    {
      "cell_type": "code",
      "metadata": {
        "id": "GErSoN-qkl-G",
        "colab_type": "code",
        "outputId": "5f951660-1024-46d2-ca6c-ee67dffe02c9",
        "colab": {
          "base_uri": "https://localhost:8080/",
          "height": 199
        }
      },
      "source": [
        "print(\"Basic statistical measurement of odometer_km\")\n",
        "df[\"odometer_km\"].describe()"
      ],
      "execution_count": 16,
      "outputs": [
        {
          "output_type": "stream",
          "text": [
            "Basic statistical measurement of odometer_km\n"
          ],
          "name": "stdout"
        },
        {
          "output_type": "execute_result",
          "data": {
            "text/plain": [
              "count     50000.000000\n",
              "mean     125732.700000\n",
              "std       40042.211706\n",
              "min        5000.000000\n",
              "25%      125000.000000\n",
              "50%      150000.000000\n",
              "75%      150000.000000\n",
              "max      150000.000000\n",
              "Name: odometer_km, dtype: float64"
            ]
          },
          "metadata": {
            "tags": []
          },
          "execution_count": 16
        }
      ]
    },
    {
      "cell_type": "code",
      "metadata": {
        "id": "XTYVoXEakne6",
        "colab_type": "code",
        "outputId": "36ef11d1-f602-4ad3-a66f-2160cf784fbc",
        "colab": {
          "base_uri": "https://localhost:8080/",
          "height": 235
        }
      },
      "source": [
        "print(\"Value counts of odometer_km\")\n",
        "df[\"odometer_km\"].value_counts().head(10)"
      ],
      "execution_count": 17,
      "outputs": [
        {
          "output_type": "stream",
          "text": [
            "Value counts of odometer_km\n"
          ],
          "name": "stdout"
        },
        {
          "output_type": "execute_result",
          "data": {
            "text/plain": [
              "150000.0    32424\n",
              "125000.0     5170\n",
              "100000.0     2169\n",
              "90000.0      1757\n",
              "80000.0      1436\n",
              "70000.0      1230\n",
              "60000.0      1164\n",
              "50000.0      1027\n",
              "5000.0        967\n",
              "40000.0       819\n",
              "Name: odometer_km, dtype: int64"
            ]
          },
          "metadata": {
            "tags": []
          },
          "execution_count": 17
        }
      ]
    },
    {
      "cell_type": "markdown",
      "metadata": {
        "id": "g1-TAbaekx-u",
        "colab_type": "text"
      },
      "source": [
        "## Studying the date columns\n",
        "Within this dataset, five columns representing date values are **date_crawled**, **last_seen**, **ad_created**, **registration_month** and **registration_year**. The former two are added by the crawler while the latter three are created from the website automatically. It should be noted also that **date_crawled**, **last_seen**, and **ad_created** are written in string; therefore, it should be converted into numeric data. for further use. "
      ]
    },
    {
      "cell_type": "code",
      "metadata": {
        "id": "QuD6_IKQktQK",
        "colab_type": "code",
        "outputId": "806aaba9-95e6-455a-9822-9e272ba37a94",
        "colab": {
          "base_uri": "https://localhost:8080/",
          "height": 348
        }
      },
      "source": [
        "# Some examples of three string date columns\n",
        "df[[\"date_crawled\", \"ad_created\", \"last_seen\"]][0:10]"
      ],
      "execution_count": 18,
      "outputs": [
        {
          "output_type": "execute_result",
          "data": {
            "text/html": [
              "<div>\n",
              "<style scoped>\n",
              "    .dataframe tbody tr th:only-of-type {\n",
              "        vertical-align: middle;\n",
              "    }\n",
              "\n",
              "    .dataframe tbody tr th {\n",
              "        vertical-align: top;\n",
              "    }\n",
              "\n",
              "    .dataframe thead th {\n",
              "        text-align: right;\n",
              "    }\n",
              "</style>\n",
              "<table border=\"1\" class=\"dataframe\">\n",
              "  <thead>\n",
              "    <tr style=\"text-align: right;\">\n",
              "      <th></th>\n",
              "      <th>date_crawled</th>\n",
              "      <th>ad_created</th>\n",
              "      <th>last_seen</th>\n",
              "    </tr>\n",
              "  </thead>\n",
              "  <tbody>\n",
              "    <tr>\n",
              "      <th>0</th>\n",
              "      <td>2016-03-26 17:47:46</td>\n",
              "      <td>2016-03-26 00:00:00</td>\n",
              "      <td>2016-04-06 06:45:54</td>\n",
              "    </tr>\n",
              "    <tr>\n",
              "      <th>1</th>\n",
              "      <td>2016-04-04 13:38:56</td>\n",
              "      <td>2016-04-04 00:00:00</td>\n",
              "      <td>2016-04-06 14:45:08</td>\n",
              "    </tr>\n",
              "    <tr>\n",
              "      <th>2</th>\n",
              "      <td>2016-03-26 18:57:24</td>\n",
              "      <td>2016-03-26 00:00:00</td>\n",
              "      <td>2016-04-06 20:15:37</td>\n",
              "    </tr>\n",
              "    <tr>\n",
              "      <th>3</th>\n",
              "      <td>2016-03-12 16:58:10</td>\n",
              "      <td>2016-03-12 00:00:00</td>\n",
              "      <td>2016-03-15 03:16:28</td>\n",
              "    </tr>\n",
              "    <tr>\n",
              "      <th>4</th>\n",
              "      <td>2016-04-01 14:38:50</td>\n",
              "      <td>2016-04-01 00:00:00</td>\n",
              "      <td>2016-04-01 14:38:50</td>\n",
              "    </tr>\n",
              "    <tr>\n",
              "      <th>5</th>\n",
              "      <td>2016-03-21 13:47:45</td>\n",
              "      <td>2016-03-21 00:00:00</td>\n",
              "      <td>2016-04-06 09:45:21</td>\n",
              "    </tr>\n",
              "    <tr>\n",
              "      <th>6</th>\n",
              "      <td>2016-03-20 17:55:21</td>\n",
              "      <td>2016-03-20 00:00:00</td>\n",
              "      <td>2016-03-23 02:48:59</td>\n",
              "    </tr>\n",
              "    <tr>\n",
              "      <th>7</th>\n",
              "      <td>2016-03-16 18:55:19</td>\n",
              "      <td>2016-03-16 00:00:00</td>\n",
              "      <td>2016-04-07 03:17:32</td>\n",
              "    </tr>\n",
              "    <tr>\n",
              "      <th>8</th>\n",
              "      <td>2016-03-22 16:51:34</td>\n",
              "      <td>2016-03-22 00:00:00</td>\n",
              "      <td>2016-03-26 18:18:10</td>\n",
              "    </tr>\n",
              "    <tr>\n",
              "      <th>9</th>\n",
              "      <td>2016-03-16 13:47:02</td>\n",
              "      <td>2016-03-16 00:00:00</td>\n",
              "      <td>2016-04-06 10:46:35</td>\n",
              "    </tr>\n",
              "  </tbody>\n",
              "</table>\n",
              "</div>"
            ],
            "text/plain": [
              "          date_crawled           ad_created            last_seen\n",
              "0  2016-03-26 17:47:46  2016-03-26 00:00:00  2016-04-06 06:45:54\n",
              "1  2016-04-04 13:38:56  2016-04-04 00:00:00  2016-04-06 14:45:08\n",
              "2  2016-03-26 18:57:24  2016-03-26 00:00:00  2016-04-06 20:15:37\n",
              "3  2016-03-12 16:58:10  2016-03-12 00:00:00  2016-03-15 03:16:28\n",
              "4  2016-04-01 14:38:50  2016-04-01 00:00:00  2016-04-01 14:38:50\n",
              "5  2016-03-21 13:47:45  2016-03-21 00:00:00  2016-04-06 09:45:21\n",
              "6  2016-03-20 17:55:21  2016-03-20 00:00:00  2016-03-23 02:48:59\n",
              "7  2016-03-16 18:55:19  2016-03-16 00:00:00  2016-04-07 03:17:32\n",
              "8  2016-03-22 16:51:34  2016-03-22 00:00:00  2016-03-26 18:18:10\n",
              "9  2016-03-16 13:47:02  2016-03-16 00:00:00  2016-04-06 10:46:35"
            ]
          },
          "metadata": {
            "tags": []
          },
          "execution_count": 18
        }
      ]
    },
    {
      "cell_type": "code",
      "metadata": {
        "id": "y9lvSd22wSoJ",
        "colab_type": "code",
        "outputId": "8c4c6b9f-e777-4a2e-f251-6f3c479d1fdd",
        "colab": {
          "base_uri": "https://localhost:8080/",
          "height": 181
        }
      },
      "source": [
        "df[\"registration_year\"].describe()"
      ],
      "execution_count": 19,
      "outputs": [
        {
          "output_type": "execute_result",
          "data": {
            "text/plain": [
              "count    50000.000000\n",
              "mean      2005.073280\n",
              "std        105.712813\n",
              "min       1000.000000\n",
              "25%       1999.000000\n",
              "50%       2003.000000\n",
              "75%       2008.000000\n",
              "max       9999.000000\n",
              "Name: registration_year, dtype: float64"
            ]
          },
          "metadata": {
            "tags": []
          },
          "execution_count": 19
        }
      ]
    },
    {
      "cell_type": "markdown",
      "metadata": {
        "id": "Qavbajl-wYb6",
        "colab_type": "text"
      },
      "source": [
        "It is noticeable that the there were mistakes in the data of `registraton_year`. Infact, the minimum and maximum value were 1000 and 9000 respectively. which are infeasible. It is suggested that to have the registration_year in the parameter of 1900-2018, any data outside would be removed. "
      ]
    },
    {
      "cell_type": "markdown",
      "metadata": {
        "id": "dh3CIFMBwI1j",
        "colab_type": "text"
      },
      "source": [
        "##Fixing incorrect registration_year data"
      ]
    },
    {
      "cell_type": "code",
      "metadata": {
        "id": "A-DKV70qwPqi",
        "colab_type": "code",
        "outputId": "7f6263d5-5f46-42cd-cbcc-28398a6b7058",
        "colab": {
          "base_uri": "https://localhost:8080/",
          "height": 35
        }
      },
      "source": [
        "df.loc[~df[\"registration_year\"].between(1899, 2017), \"registration_year\"].shape"
      ],
      "execution_count": 20,
      "outputs": [
        {
          "output_type": "execute_result",
          "data": {
            "text/plain": [
              "(519,)"
            ]
          },
          "metadata": {
            "tags": []
          },
          "execution_count": 20
        }
      ]
    },
    {
      "cell_type": "code",
      "metadata": {
        "id": "dnODF6LPyJ8F",
        "colab_type": "code",
        "colab": {}
      },
      "source": [
        "# replace these incorrect numbers with NaN\n",
        "df.loc[~df[\"registration_year\"].between(1899, 2017), \"registration_year\"] = np.nan"
      ],
      "execution_count": 0,
      "outputs": []
    },
    {
      "cell_type": "code",
      "metadata": {
        "id": "Zq-TPj7wy6kV",
        "colab_type": "code",
        "colab": {}
      },
      "source": [
        "# remove NaN value\n",
        "df.dropna(subset=[\"registration_year\"], axis=0, inplace=True)"
      ],
      "execution_count": 0,
      "outputs": []
    },
    {
      "cell_type": "code",
      "metadata": {
        "id": "452HPVa-zW6F",
        "colab_type": "code",
        "outputId": "949f850c-cdb4-4ee9-ac9f-a69f1f4672eb",
        "colab": {
          "base_uri": "https://localhost:8080/",
          "height": 1000
        }
      },
      "source": [
        "df['registration_year'].value_counts(normalize=True)\n"
      ],
      "execution_count": 23,
      "outputs": [
        {
          "output_type": "execute_result",
          "data": {
            "text/plain": [
              "2000.0    0.067784\n",
              "2005.0    0.060932\n",
              "1999.0    0.060629\n",
              "2004.0    0.055314\n",
              "2003.0    0.055112\n",
              "2006.0    0.054728\n",
              "2001.0    0.054627\n",
              "2002.0    0.051191\n",
              "1998.0    0.049575\n",
              "2007.0    0.046563\n",
              "2008.0    0.045088\n",
              "2009.0    0.042400\n",
              "1997.0    0.040985\n",
              "2011.0    0.033023\n",
              "2010.0    0.032275\n",
              "2017.0    0.029365\n",
              "1996.0    0.029183\n",
              "2012.0    0.026738\n",
              "2016.0    0.026596\n",
              "1995.0    0.026535\n",
              "2013.0    0.016289\n",
              "2014.0    0.013460\n",
              "1994.0    0.013338\n",
              "1993.0    0.008993\n",
              "2015.0    0.008064\n",
              "1990.0    0.007983\n",
              "1992.0    0.007902\n",
              "1991.0    0.007195\n",
              "1989.0    0.003658\n",
              "1988.0    0.002870\n",
              "            ...   \n",
              "1977.0    0.000445\n",
              "1966.0    0.000445\n",
              "1975.0    0.000384\n",
              "1969.0    0.000384\n",
              "1965.0    0.000344\n",
              "1964.0    0.000243\n",
              "1910.0    0.000182\n",
              "1963.0    0.000182\n",
              "1959.0    0.000141\n",
              "1961.0    0.000121\n",
              "1956.0    0.000101\n",
              "1962.0    0.000081\n",
              "1958.0    0.000081\n",
              "1937.0    0.000081\n",
              "1950.0    0.000061\n",
              "1934.0    0.000040\n",
              "1941.0    0.000040\n",
              "1951.0    0.000040\n",
              "1954.0    0.000040\n",
              "1955.0    0.000040\n",
              "1957.0    0.000040\n",
              "1952.0    0.000020\n",
              "1953.0    0.000020\n",
              "1948.0    0.000020\n",
              "1943.0    0.000020\n",
              "1939.0    0.000020\n",
              "1938.0    0.000020\n",
              "1931.0    0.000020\n",
              "1929.0    0.000020\n",
              "1927.0    0.000020\n",
              "Name: registration_year, Length: 79, dtype: float64"
            ]
          },
          "metadata": {
            "tags": []
          },
          "execution_count": 23
        }
      ]
    },
    {
      "cell_type": "markdown",
      "metadata": {
        "id": "7tnkd3S2zvky",
        "colab_type": "text"
      },
      "source": [
        "## Studying the relationship between price and mileage\n",
        "The price and mileage across various car brands are analzyed and compared to idenfity the relationship"
      ]
    },
    {
      "cell_type": "code",
      "metadata": {
        "id": "vgEiRLdFzpxF",
        "colab_type": "code",
        "outputId": "74c77721-a71c-479f-f8c6-d71351ba9bf1",
        "colab": {
          "base_uri": "https://localhost:8080/",
          "height": 145
        }
      },
      "source": [
        "# List ou the car brand\n",
        "df[\"brand\"].unique()"
      ],
      "execution_count": 24,
      "outputs": [
        {
          "output_type": "execute_result",
          "data": {
            "text/plain": [
              "array(['peugeot', 'bmw', 'volkswagen', 'smart', 'ford', 'chrysler',\n",
              "       'seat', 'renault', 'mercedes_benz', 'audi', 'sonstige_autos',\n",
              "       'opel', 'mazda', 'porsche', 'mini', 'toyota', 'dacia', 'nissan',\n",
              "       'jeep', 'saab', 'volvo', 'mitsubishi', 'jaguar', 'fiat', 'skoda',\n",
              "       'subaru', 'kia', 'citroen', 'chevrolet', 'hyundai', 'honda',\n",
              "       'daewoo', 'suzuki', 'trabant', 'land_rover', 'alfa_romeo', 'lada',\n",
              "       'rover', 'daihatsu', 'lancia'], dtype=object)"
            ]
          },
          "metadata": {
            "tags": []
          },
          "execution_count": 24
        }
      ]
    },
    {
      "cell_type": "code",
      "metadata": {
        "id": "KpzUl4q70EiV",
        "colab_type": "code",
        "outputId": "8a39a60b-b1d6-4bb9-c6e2-ba329146e926",
        "colab": {
          "base_uri": "https://localhost:8080/",
          "height": 763
        }
      },
      "source": [
        "df[\"brand\"].value_counts()"
      ],
      "execution_count": 25,
      "outputs": [
        {
          "output_type": "execute_result",
          "data": {
            "text/plain": [
              "volkswagen        10566\n",
              "opel               5391\n",
              "bmw                5383\n",
              "mercedes_benz      4690\n",
              "audi               4254\n",
              "ford               3451\n",
              "renault            2368\n",
              "peugeot            1449\n",
              "fiat               1288\n",
              "seat                915\n",
              "skoda               782\n",
              "mazda               751\n",
              "nissan              749\n",
              "smart               695\n",
              "citroen             693\n",
              "toyota              615\n",
              "sonstige_autos      534\n",
              "hyundai             485\n",
              "volvo               454\n",
              "mini                424\n",
              "mitsubishi          399\n",
              "honda               391\n",
              "kia                 353\n",
              "alfa_romeo          327\n",
              "porsche             293\n",
              "suzuki              289\n",
              "chevrolet           279\n",
              "chrysler            181\n",
              "dacia               128\n",
              "daihatsu            126\n",
              "jeep                109\n",
              "subaru              107\n",
              "land_rover           99\n",
              "saab                 78\n",
              "daewoo               78\n",
              "trabant              77\n",
              "jaguar               76\n",
              "rover                69\n",
              "lancia               56\n",
              "lada                 29\n",
              "Name: brand, dtype: int64"
            ]
          },
          "metadata": {
            "tags": []
          },
          "execution_count": 25
        }
      ]
    },
    {
      "cell_type": "code",
      "metadata": {
        "id": "fuh1A0bs0Inl",
        "colab_type": "code",
        "outputId": "7bf0c6c5-ca4f-458e-f796-bee7c97ccdb9",
        "colab": {
          "base_uri": "https://localhost:8080/",
          "height": 745
        }
      },
      "source": [
        "brand_avg_prices = {}\n",
        "brands = df[\"brand\"].unique()\n",
        "\n",
        "for brand in brands:\n",
        "  brand_avg_prices[brand] = df.loc[df[\"brand\"] == brand, \"price\"].mean()\n",
        "  \n",
        "brand_avg_prices"
      ],
      "execution_count": 26,
      "outputs": [
        {
          "output_type": "execute_result",
          "data": {
            "text/plain": [
              "{'alfa_romeo': 3955.4495412844035,\n",
              " 'audi': 8989.552891396334,\n",
              " 'bmw': 8279.482258963404,\n",
              " 'chevrolet': 6496.311827956989,\n",
              " 'chrysler': 3286.0552486187844,\n",
              " 'citroen': 43097.88888888889,\n",
              " 'dacia': 5920.3828125,\n",
              " 'daewoo': 1049.1025641025642,\n",
              " 'daihatsu': 1535.4603174603174,\n",
              " 'fiat': 12276.558229813665,\n",
              " 'ford': 7140.0625905534625,\n",
              " 'honda': 3928.2762148337597,\n",
              " 'hyundai': 5303.065979381443,\n",
              " 'jaguar': 11176.197368421053,\n",
              " 'jeep': 11377.550458715596,\n",
              " 'kia': 5724.385269121813,\n",
              " 'lada': 2502.896551724138,\n",
              " 'lancia': 3057.339285714286,\n",
              " 'land_rover': 18934.272727272728,\n",
              " 'mazda': 3968.7709720372836,\n",
              " 'mercedes_benz': 29704.757995735607,\n",
              " 'mini': 10392.393867924528,\n",
              " 'mitsubishi': 3320.187969924812,\n",
              " 'nissan': 4589.3564753004,\n",
              " 'opel': 5143.339454646633,\n",
              " 'peugeot': 3014.3381642512077,\n",
              " 'porsche': 44553.46757679181,\n",
              " 'renault': 2364.367820945946,\n",
              " 'rover': 1494.5217391304348,\n",
              " 'saab': 3192.269230769231,\n",
              " 'seat': 4259.546448087432,\n",
              " 'skoda': 6300.735294117647,\n",
              " 'smart': 3494.264748201439,\n",
              " 'sonstige_autos': 39098.70599250936,\n",
              " 'subaru': 3702.1401869158876,\n",
              " 'suzuki': 4028.59169550173,\n",
              " 'toyota': 5101.678048780488,\n",
              " 'trabant': 1557.2077922077922,\n",
              " 'volkswagen': 6417.041169789892,\n",
              " 'volvo': 4690.112334801762}"
            ]
          },
          "metadata": {
            "tags": []
          },
          "execution_count": 26
        }
      ]
    },
    {
      "cell_type": "code",
      "metadata": {
        "id": "GIWH6-De1c-I",
        "colab_type": "code",
        "outputId": "a24a9572-9088-46dc-dc9e-450e834dec9e",
        "colab": {
          "base_uri": "https://localhost:8080/",
          "height": 745
        }
      },
      "source": [
        "brand_avg_mileage = {}\n",
        "brands = df[\"brand\"].unique()\n",
        "\n",
        "for brand in brands:\n",
        "  brand_avg_mileage[brand] = df.loc[df[\"brand\"] == brand, \"odometer_km\"].mean()\n",
        "  \n",
        "brand_avg_mileage"
      ],
      "execution_count": 27,
      "outputs": [
        {
          "output_type": "execute_result",
          "data": {
            "text/plain": [
              "{'alfa_romeo': 131437.30886850154,\n",
              " 'audi': 129561.58909261871,\n",
              " 'bmw': 132520.89912688092,\n",
              " 'chevrolet': 99014.33691756273,\n",
              " 'chrysler': 133149.17127071825,\n",
              " 'citroen': 119834.05483405484,\n",
              " 'dacia': 84218.75,\n",
              " 'daewoo': 121346.15384615384,\n",
              " 'daihatsu': 115714.28571428571,\n",
              " 'fiat': 116836.1801242236,\n",
              " 'ford': 124058.24398725007,\n",
              " 'honda': 123631.71355498722,\n",
              " 'hyundai': 106690.72164948453,\n",
              " 'jaguar': 120921.05263157895,\n",
              " 'jeep': 127522.93577981651,\n",
              " 'kia': 112719.54674220963,\n",
              " 'lada': 85517.24137931035,\n",
              " 'lancia': 123125.0,\n",
              " 'land_rover': 118333.33333333333,\n",
              " 'mazda': 124933.42210386152,\n",
              " 'mercedes_benz': 131041.57782515991,\n",
              " 'mini': 89375.0,\n",
              " 'mitsubishi': 126904.76190476191,\n",
              " 'nissan': 118951.93591455274,\n",
              " 'opel': 129326.65553700613,\n",
              " 'peugeot': 127311.939268461,\n",
              " 'porsche': 97457.33788395904,\n",
              " 'renault': 128230.57432432432,\n",
              " 'rover': 136449.27536231885,\n",
              " 'saab': 144487.1794871795,\n",
              " 'seat': 122027.32240437159,\n",
              " 'skoda': 111074.16879795397,\n",
              " 'smart': 100489.20863309353,\n",
              " 'sonstige_autos': 87303.37078651685,\n",
              " 'subaru': 125327.10280373832,\n",
              " 'suzuki': 109290.65743944637,\n",
              " 'toyota': 116105.69105691057,\n",
              " 'trabant': 60064.93506493507,\n",
              " 'volkswagen': 128976.4338444066,\n",
              " 'volvo': 138557.26872246695}"
            ]
          },
          "metadata": {
            "tags": []
          },
          "execution_count": 27
        }
      ]
    },
    {
      "cell_type": "code",
      "metadata": {
        "id": "38Cro64V3DY0",
        "colab_type": "code",
        "outputId": "caf223f3-38ae-40ef-9870-3f1811e7a504",
        "colab": {
          "base_uri": "https://localhost:8080/",
          "height": 1000
        }
      },
      "source": [
        "# Combine the data from both series objects into a single dataframe\n",
        "brand_avg_prices = pd.Series(brand_avg_prices)\n",
        "brand_avg_mileage = pd.Series(brand_avg_mileage)\n",
        "brand_avg = pd.DataFrame(brand_avg_prices, columns = [\"avg_prices\"])\n",
        "brand_avg[\"avg_mileage\"] = brand_avg_mileage\n",
        "brand_avg"
      ],
      "execution_count": 28,
      "outputs": [
        {
          "output_type": "execute_result",
          "data": {
            "text/html": [
              "<div>\n",
              "<style scoped>\n",
              "    .dataframe tbody tr th:only-of-type {\n",
              "        vertical-align: middle;\n",
              "    }\n",
              "\n",
              "    .dataframe tbody tr th {\n",
              "        vertical-align: top;\n",
              "    }\n",
              "\n",
              "    .dataframe thead th {\n",
              "        text-align: right;\n",
              "    }\n",
              "</style>\n",
              "<table border=\"1\" class=\"dataframe\">\n",
              "  <thead>\n",
              "    <tr style=\"text-align: right;\">\n",
              "      <th></th>\n",
              "      <th>avg_prices</th>\n",
              "      <th>avg_mileage</th>\n",
              "    </tr>\n",
              "  </thead>\n",
              "  <tbody>\n",
              "    <tr>\n",
              "      <th>peugeot</th>\n",
              "      <td>3014.338164</td>\n",
              "      <td>127311.939268</td>\n",
              "    </tr>\n",
              "    <tr>\n",
              "      <th>bmw</th>\n",
              "      <td>8279.482259</td>\n",
              "      <td>132520.899127</td>\n",
              "    </tr>\n",
              "    <tr>\n",
              "      <th>volkswagen</th>\n",
              "      <td>6417.041170</td>\n",
              "      <td>128976.433844</td>\n",
              "    </tr>\n",
              "    <tr>\n",
              "      <th>smart</th>\n",
              "      <td>3494.264748</td>\n",
              "      <td>100489.208633</td>\n",
              "    </tr>\n",
              "    <tr>\n",
              "      <th>ford</th>\n",
              "      <td>7140.062591</td>\n",
              "      <td>124058.243987</td>\n",
              "    </tr>\n",
              "    <tr>\n",
              "      <th>chrysler</th>\n",
              "      <td>3286.055249</td>\n",
              "      <td>133149.171271</td>\n",
              "    </tr>\n",
              "    <tr>\n",
              "      <th>seat</th>\n",
              "      <td>4259.546448</td>\n",
              "      <td>122027.322404</td>\n",
              "    </tr>\n",
              "    <tr>\n",
              "      <th>renault</th>\n",
              "      <td>2364.367821</td>\n",
              "      <td>128230.574324</td>\n",
              "    </tr>\n",
              "    <tr>\n",
              "      <th>mercedes_benz</th>\n",
              "      <td>29704.757996</td>\n",
              "      <td>131041.577825</td>\n",
              "    </tr>\n",
              "    <tr>\n",
              "      <th>audi</th>\n",
              "      <td>8989.552891</td>\n",
              "      <td>129561.589093</td>\n",
              "    </tr>\n",
              "    <tr>\n",
              "      <th>sonstige_autos</th>\n",
              "      <td>39098.705993</td>\n",
              "      <td>87303.370787</td>\n",
              "    </tr>\n",
              "    <tr>\n",
              "      <th>opel</th>\n",
              "      <td>5143.339455</td>\n",
              "      <td>129326.655537</td>\n",
              "    </tr>\n",
              "    <tr>\n",
              "      <th>mazda</th>\n",
              "      <td>3968.770972</td>\n",
              "      <td>124933.422104</td>\n",
              "    </tr>\n",
              "    <tr>\n",
              "      <th>porsche</th>\n",
              "      <td>44553.467577</td>\n",
              "      <td>97457.337884</td>\n",
              "    </tr>\n",
              "    <tr>\n",
              "      <th>mini</th>\n",
              "      <td>10392.393868</td>\n",
              "      <td>89375.000000</td>\n",
              "    </tr>\n",
              "    <tr>\n",
              "      <th>toyota</th>\n",
              "      <td>5101.678049</td>\n",
              "      <td>116105.691057</td>\n",
              "    </tr>\n",
              "    <tr>\n",
              "      <th>dacia</th>\n",
              "      <td>5920.382812</td>\n",
              "      <td>84218.750000</td>\n",
              "    </tr>\n",
              "    <tr>\n",
              "      <th>nissan</th>\n",
              "      <td>4589.356475</td>\n",
              "      <td>118951.935915</td>\n",
              "    </tr>\n",
              "    <tr>\n",
              "      <th>jeep</th>\n",
              "      <td>11377.550459</td>\n",
              "      <td>127522.935780</td>\n",
              "    </tr>\n",
              "    <tr>\n",
              "      <th>saab</th>\n",
              "      <td>3192.269231</td>\n",
              "      <td>144487.179487</td>\n",
              "    </tr>\n",
              "    <tr>\n",
              "      <th>volvo</th>\n",
              "      <td>4690.112335</td>\n",
              "      <td>138557.268722</td>\n",
              "    </tr>\n",
              "    <tr>\n",
              "      <th>mitsubishi</th>\n",
              "      <td>3320.187970</td>\n",
              "      <td>126904.761905</td>\n",
              "    </tr>\n",
              "    <tr>\n",
              "      <th>jaguar</th>\n",
              "      <td>11176.197368</td>\n",
              "      <td>120921.052632</td>\n",
              "    </tr>\n",
              "    <tr>\n",
              "      <th>fiat</th>\n",
              "      <td>12276.558230</td>\n",
              "      <td>116836.180124</td>\n",
              "    </tr>\n",
              "    <tr>\n",
              "      <th>skoda</th>\n",
              "      <td>6300.735294</td>\n",
              "      <td>111074.168798</td>\n",
              "    </tr>\n",
              "    <tr>\n",
              "      <th>subaru</th>\n",
              "      <td>3702.140187</td>\n",
              "      <td>125327.102804</td>\n",
              "    </tr>\n",
              "    <tr>\n",
              "      <th>kia</th>\n",
              "      <td>5724.385269</td>\n",
              "      <td>112719.546742</td>\n",
              "    </tr>\n",
              "    <tr>\n",
              "      <th>citroen</th>\n",
              "      <td>43097.888889</td>\n",
              "      <td>119834.054834</td>\n",
              "    </tr>\n",
              "    <tr>\n",
              "      <th>chevrolet</th>\n",
              "      <td>6496.311828</td>\n",
              "      <td>99014.336918</td>\n",
              "    </tr>\n",
              "    <tr>\n",
              "      <th>hyundai</th>\n",
              "      <td>5303.065979</td>\n",
              "      <td>106690.721649</td>\n",
              "    </tr>\n",
              "    <tr>\n",
              "      <th>honda</th>\n",
              "      <td>3928.276215</td>\n",
              "      <td>123631.713555</td>\n",
              "    </tr>\n",
              "    <tr>\n",
              "      <th>daewoo</th>\n",
              "      <td>1049.102564</td>\n",
              "      <td>121346.153846</td>\n",
              "    </tr>\n",
              "    <tr>\n",
              "      <th>suzuki</th>\n",
              "      <td>4028.591696</td>\n",
              "      <td>109290.657439</td>\n",
              "    </tr>\n",
              "    <tr>\n",
              "      <th>trabant</th>\n",
              "      <td>1557.207792</td>\n",
              "      <td>60064.935065</td>\n",
              "    </tr>\n",
              "    <tr>\n",
              "      <th>land_rover</th>\n",
              "      <td>18934.272727</td>\n",
              "      <td>118333.333333</td>\n",
              "    </tr>\n",
              "    <tr>\n",
              "      <th>alfa_romeo</th>\n",
              "      <td>3955.449541</td>\n",
              "      <td>131437.308869</td>\n",
              "    </tr>\n",
              "    <tr>\n",
              "      <th>lada</th>\n",
              "      <td>2502.896552</td>\n",
              "      <td>85517.241379</td>\n",
              "    </tr>\n",
              "    <tr>\n",
              "      <th>rover</th>\n",
              "      <td>1494.521739</td>\n",
              "      <td>136449.275362</td>\n",
              "    </tr>\n",
              "    <tr>\n",
              "      <th>daihatsu</th>\n",
              "      <td>1535.460317</td>\n",
              "      <td>115714.285714</td>\n",
              "    </tr>\n",
              "    <tr>\n",
              "      <th>lancia</th>\n",
              "      <td>3057.339286</td>\n",
              "      <td>123125.000000</td>\n",
              "    </tr>\n",
              "  </tbody>\n",
              "</table>\n",
              "</div>"
            ],
            "text/plain": [
              "                  avg_prices    avg_mileage\n",
              "peugeot          3014.338164  127311.939268\n",
              "bmw              8279.482259  132520.899127\n",
              "volkswagen       6417.041170  128976.433844\n",
              "smart            3494.264748  100489.208633\n",
              "ford             7140.062591  124058.243987\n",
              "chrysler         3286.055249  133149.171271\n",
              "seat             4259.546448  122027.322404\n",
              "renault          2364.367821  128230.574324\n",
              "mercedes_benz   29704.757996  131041.577825\n",
              "audi             8989.552891  129561.589093\n",
              "sonstige_autos  39098.705993   87303.370787\n",
              "opel             5143.339455  129326.655537\n",
              "mazda            3968.770972  124933.422104\n",
              "porsche         44553.467577   97457.337884\n",
              "mini            10392.393868   89375.000000\n",
              "toyota           5101.678049  116105.691057\n",
              "dacia            5920.382812   84218.750000\n",
              "nissan           4589.356475  118951.935915\n",
              "jeep            11377.550459  127522.935780\n",
              "saab             3192.269231  144487.179487\n",
              "volvo            4690.112335  138557.268722\n",
              "mitsubishi       3320.187970  126904.761905\n",
              "jaguar          11176.197368  120921.052632\n",
              "fiat            12276.558230  116836.180124\n",
              "skoda            6300.735294  111074.168798\n",
              "subaru           3702.140187  125327.102804\n",
              "kia              5724.385269  112719.546742\n",
              "citroen         43097.888889  119834.054834\n",
              "chevrolet        6496.311828   99014.336918\n",
              "hyundai          5303.065979  106690.721649\n",
              "honda            3928.276215  123631.713555\n",
              "daewoo           1049.102564  121346.153846\n",
              "suzuki           4028.591696  109290.657439\n",
              "trabant          1557.207792   60064.935065\n",
              "land_rover      18934.272727  118333.333333\n",
              "alfa_romeo       3955.449541  131437.308869\n",
              "lada             2502.896552   85517.241379\n",
              "rover            1494.521739  136449.275362\n",
              "daihatsu         1535.460317  115714.285714\n",
              "lancia           3057.339286  123125.000000"
            ]
          },
          "metadata": {
            "tags": []
          },
          "execution_count": 28
        }
      ]
    },
    {
      "cell_type": "code",
      "metadata": {
        "id": "XOPd2agJ3t-E",
        "colab_type": "code",
        "colab": {}
      },
      "source": [
        ""
      ],
      "execution_count": 0,
      "outputs": []
    }
  ]
}