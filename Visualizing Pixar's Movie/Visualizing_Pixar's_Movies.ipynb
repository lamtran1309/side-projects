{
  "nbformat": 4,
  "nbformat_minor": 0,
  "metadata": {
    "colab": {
      "name": "Visualizing Pixar's Movies.ipynb",
      "version": "0.3.2",
      "provenance": [],
      "collapsed_sections": []
    },
    "kernelspec": {
      "name": "python3",
      "display_name": "Python 3"
    }
  },
  "cells": [
    {
      "cell_type": "markdown",
      "metadata": {
        "id": "lDtBrtkH-VDZ",
        "colab_type": "text"
      },
      "source": [
        "# Visualizing Pixar's Movies\n",
        "This project aims to analyze some hit movies produced by Pixar between 2005 and 2015 to get more information about some of the most popular animation by kids around the world."
      ]
    },
    {
      "cell_type": "markdown",
      "metadata": {
        "id": "51bxWOPB_5Zz",
        "colab_type": "text"
      },
      "source": [
        "## Loading necessary libraries and data"
      ]
    },
    {
      "cell_type": "code",
      "metadata": {
        "id": "WuXiErkW-Wwx",
        "colab_type": "code",
        "colab": {}
      },
      "source": [
        "import pandas as pd\n",
        "import matplotlib.pyplot as plt"
      ],
      "execution_count": 0,
      "outputs": []
    },
    {
      "cell_type": "code",
      "metadata": {
        "id": "udOVjhUkBHg5",
        "colab_type": "code",
        "colab": {
          "base_uri": "https://localhost:8080/",
          "height": 656
        },
        "outputId": "3bc3c0c9-f2ba-435a-985b-0ac0e4b38008"
      },
      "source": [
        "# Load file from Github\n",
        "url = \"https://raw.githubusercontent.com/lamtran1309/side-projects/master/Visualizing%20Pixar's%20Movie/PixarMovies.csv\"\n",
        "movies = pd.read_csv(url, encoding =\"Latin-1\")\n",
        "movies.dropna()"
      ],
      "execution_count": 2,
      "outputs": [
        {
          "output_type": "execute_result",
          "data": {
            "text/html": [
              "<div>\n",
              "<style scoped>\n",
              "    .dataframe tbody tr th:only-of-type {\n",
              "        vertical-align: middle;\n",
              "    }\n",
              "\n",
              "    .dataframe tbody tr th {\n",
              "        vertical-align: top;\n",
              "    }\n",
              "\n",
              "    .dataframe thead th {\n",
              "        text-align: right;\n",
              "    }\n",
              "</style>\n",
              "<table border=\"1\" class=\"dataframe\">\n",
              "  <thead>\n",
              "    <tr style=\"text-align: right;\">\n",
              "      <th></th>\n",
              "      <th>Year Released</th>\n",
              "      <th>Movie</th>\n",
              "      <th>Length</th>\n",
              "      <th>RT Score</th>\n",
              "      <th>IMDB Score</th>\n",
              "      <th>Metacritic Score</th>\n",
              "      <th>Opening Weekend</th>\n",
              "      <th>Worldwide Gross</th>\n",
              "      <th>Domestic Gross</th>\n",
              "      <th>Adjusted Domestic Gross</th>\n",
              "      <th>International Gross</th>\n",
              "      <th>Domestic %</th>\n",
              "      <th>International %</th>\n",
              "      <th>Production Budget</th>\n",
              "      <th>Oscars Nominated</th>\n",
              "      <th>Oscars Won</th>\n",
              "    </tr>\n",
              "  </thead>\n",
              "  <tbody>\n",
              "    <tr>\n",
              "      <th>0</th>\n",
              "      <td>1995</td>\n",
              "      <td>Toy Story</td>\n",
              "      <td>81</td>\n",
              "      <td>100</td>\n",
              "      <td>8.3</td>\n",
              "      <td>92</td>\n",
              "      <td>29.14</td>\n",
              "      <td>362.0</td>\n",
              "      <td>191.8</td>\n",
              "      <td>356.21</td>\n",
              "      <td>170.2</td>\n",
              "      <td>52.98%</td>\n",
              "      <td>47.02%</td>\n",
              "      <td>30</td>\n",
              "      <td>3.0</td>\n",
              "      <td>0.0</td>\n",
              "    </tr>\n",
              "    <tr>\n",
              "      <th>1</th>\n",
              "      <td>1998</td>\n",
              "      <td>A Bug's Life</td>\n",
              "      <td>96</td>\n",
              "      <td>92</td>\n",
              "      <td>7.2</td>\n",
              "      <td>77</td>\n",
              "      <td>33.26</td>\n",
              "      <td>363.4</td>\n",
              "      <td>162.8</td>\n",
              "      <td>277.18</td>\n",
              "      <td>200.6</td>\n",
              "      <td>44.80%</td>\n",
              "      <td>55.20%</td>\n",
              "      <td>45</td>\n",
              "      <td>1.0</td>\n",
              "      <td>0.0</td>\n",
              "    </tr>\n",
              "    <tr>\n",
              "      <th>2</th>\n",
              "      <td>1999</td>\n",
              "      <td>Toy Story 2</td>\n",
              "      <td>92</td>\n",
              "      <td>100</td>\n",
              "      <td>7.9</td>\n",
              "      <td>88</td>\n",
              "      <td>57.39</td>\n",
              "      <td>485.0</td>\n",
              "      <td>245.9</td>\n",
              "      <td>388.43</td>\n",
              "      <td>239.2</td>\n",
              "      <td>50.70%</td>\n",
              "      <td>49.32%</td>\n",
              "      <td>90</td>\n",
              "      <td>1.0</td>\n",
              "      <td>0.0</td>\n",
              "    </tr>\n",
              "    <tr>\n",
              "      <th>3</th>\n",
              "      <td>2001</td>\n",
              "      <td>Monsters, Inc.</td>\n",
              "      <td>90</td>\n",
              "      <td>96</td>\n",
              "      <td>8.1</td>\n",
              "      <td>78</td>\n",
              "      <td>62.58</td>\n",
              "      <td>528.8</td>\n",
              "      <td>255.9</td>\n",
              "      <td>366.12</td>\n",
              "      <td>272.9</td>\n",
              "      <td>48.39%</td>\n",
              "      <td>51.61%</td>\n",
              "      <td>115</td>\n",
              "      <td>3.0</td>\n",
              "      <td>1.0</td>\n",
              "    </tr>\n",
              "    <tr>\n",
              "      <th>4</th>\n",
              "      <td>2003</td>\n",
              "      <td>Finding Nemo</td>\n",
              "      <td>104</td>\n",
              "      <td>99</td>\n",
              "      <td>8.2</td>\n",
              "      <td>90</td>\n",
              "      <td>70.25</td>\n",
              "      <td>895.6</td>\n",
              "      <td>339.7</td>\n",
              "      <td>457.46</td>\n",
              "      <td>555.9</td>\n",
              "      <td>37.93%</td>\n",
              "      <td>62.07%</td>\n",
              "      <td>94</td>\n",
              "      <td>4.0</td>\n",
              "      <td>1.0</td>\n",
              "    </tr>\n",
              "    <tr>\n",
              "      <th>5</th>\n",
              "      <td>2004</td>\n",
              "      <td>The Incredibles</td>\n",
              "      <td>115</td>\n",
              "      <td>97</td>\n",
              "      <td>8.0</td>\n",
              "      <td>90</td>\n",
              "      <td>70.47</td>\n",
              "      <td>631.4</td>\n",
              "      <td>261.4</td>\n",
              "      <td>341.28</td>\n",
              "      <td>370.0</td>\n",
              "      <td>41.40%</td>\n",
              "      <td>58.60%</td>\n",
              "      <td>92</td>\n",
              "      <td>4.0</td>\n",
              "      <td>2.0</td>\n",
              "    </tr>\n",
              "    <tr>\n",
              "      <th>6</th>\n",
              "      <td>2006</td>\n",
              "      <td>Cars</td>\n",
              "      <td>116</td>\n",
              "      <td>74</td>\n",
              "      <td>7.2</td>\n",
              "      <td>73</td>\n",
              "      <td>60.12</td>\n",
              "      <td>462.0</td>\n",
              "      <td>244.1</td>\n",
              "      <td>302.59</td>\n",
              "      <td>217.9</td>\n",
              "      <td>52.84%</td>\n",
              "      <td>47.16%</td>\n",
              "      <td>70</td>\n",
              "      <td>2.0</td>\n",
              "      <td>0.0</td>\n",
              "    </tr>\n",
              "    <tr>\n",
              "      <th>7</th>\n",
              "      <td>2007</td>\n",
              "      <td>Ratatouille</td>\n",
              "      <td>111</td>\n",
              "      <td>96</td>\n",
              "      <td>8.0</td>\n",
              "      <td>96</td>\n",
              "      <td>47.00</td>\n",
              "      <td>623.7</td>\n",
              "      <td>206.4</td>\n",
              "      <td>243.65</td>\n",
              "      <td>417.3</td>\n",
              "      <td>33.09%</td>\n",
              "      <td>66.91%</td>\n",
              "      <td>150</td>\n",
              "      <td>5.0</td>\n",
              "      <td>1.0</td>\n",
              "    </tr>\n",
              "    <tr>\n",
              "      <th>8</th>\n",
              "      <td>2008</td>\n",
              "      <td>WALL-E</td>\n",
              "      <td>97</td>\n",
              "      <td>96</td>\n",
              "      <td>8.4</td>\n",
              "      <td>94</td>\n",
              "      <td>63.10</td>\n",
              "      <td>521.3</td>\n",
              "      <td>223.8</td>\n",
              "      <td>253.11</td>\n",
              "      <td>297.5</td>\n",
              "      <td>42.93%</td>\n",
              "      <td>57.07%</td>\n",
              "      <td>180</td>\n",
              "      <td>6.0</td>\n",
              "      <td>1.0</td>\n",
              "    </tr>\n",
              "    <tr>\n",
              "      <th>9</th>\n",
              "      <td>2009</td>\n",
              "      <td>Up</td>\n",
              "      <td>96</td>\n",
              "      <td>98</td>\n",
              "      <td>8.3</td>\n",
              "      <td>88</td>\n",
              "      <td>68.11</td>\n",
              "      <td>731.3</td>\n",
              "      <td>293.0</td>\n",
              "      <td>318.90</td>\n",
              "      <td>438.3</td>\n",
              "      <td>40.07%</td>\n",
              "      <td>59.93%</td>\n",
              "      <td>175</td>\n",
              "      <td>5.0</td>\n",
              "      <td>2.0</td>\n",
              "    </tr>\n",
              "    <tr>\n",
              "      <th>10</th>\n",
              "      <td>2010</td>\n",
              "      <td>Toy Story 3</td>\n",
              "      <td>103</td>\n",
              "      <td>99</td>\n",
              "      <td>8.4</td>\n",
              "      <td>92</td>\n",
              "      <td>110.31</td>\n",
              "      <td>1063.2</td>\n",
              "      <td>415.0</td>\n",
              "      <td>423.88</td>\n",
              "      <td>648.2</td>\n",
              "      <td>39.03%</td>\n",
              "      <td>60.97%</td>\n",
              "      <td>200</td>\n",
              "      <td>5.0</td>\n",
              "      <td>2.0</td>\n",
              "    </tr>\n",
              "    <tr>\n",
              "      <th>11</th>\n",
              "      <td>2011</td>\n",
              "      <td>Cars 2</td>\n",
              "      <td>113</td>\n",
              "      <td>39</td>\n",
              "      <td>6.3</td>\n",
              "      <td>57</td>\n",
              "      <td>109.00</td>\n",
              "      <td>559.9</td>\n",
              "      <td>191.5</td>\n",
              "      <td>194.43</td>\n",
              "      <td>368.4</td>\n",
              "      <td>34.20%</td>\n",
              "      <td>65.80%</td>\n",
              "      <td>200</td>\n",
              "      <td>0.0</td>\n",
              "      <td>0.0</td>\n",
              "    </tr>\n",
              "    <tr>\n",
              "      <th>12</th>\n",
              "      <td>2012</td>\n",
              "      <td>Brave</td>\n",
              "      <td>100</td>\n",
              "      <td>78</td>\n",
              "      <td>7.2</td>\n",
              "      <td>69</td>\n",
              "      <td>66.30</td>\n",
              "      <td>539.0</td>\n",
              "      <td>237.3</td>\n",
              "      <td>243.39</td>\n",
              "      <td>301.7</td>\n",
              "      <td>44.03%</td>\n",
              "      <td>55.97%</td>\n",
              "      <td>185</td>\n",
              "      <td>1.0</td>\n",
              "      <td>1.0</td>\n",
              "    </tr>\n",
              "    <tr>\n",
              "      <th>13</th>\n",
              "      <td>2013</td>\n",
              "      <td>Monsters University</td>\n",
              "      <td>107</td>\n",
              "      <td>78</td>\n",
              "      <td>7.4</td>\n",
              "      <td>65</td>\n",
              "      <td>82.43</td>\n",
              "      <td>743.6</td>\n",
              "      <td>268.5</td>\n",
              "      <td>269.59</td>\n",
              "      <td>475.1</td>\n",
              "      <td>36.11%</td>\n",
              "      <td>63.89%</td>\n",
              "      <td>200</td>\n",
              "      <td>0.0</td>\n",
              "      <td>0.0</td>\n",
              "    </tr>\n",
              "  </tbody>\n",
              "</table>\n",
              "</div>"
            ],
            "text/plain": [
              "    Year Released                Movie  ...  Oscars Nominated  Oscars Won\n",
              "0            1995            Toy Story  ...               3.0         0.0\n",
              "1            1998         A Bug's Life  ...               1.0         0.0\n",
              "2            1999          Toy Story 2  ...               1.0         0.0\n",
              "3            2001       Monsters, Inc.  ...               3.0         1.0\n",
              "4            2003         Finding Nemo  ...               4.0         1.0\n",
              "5            2004      The Incredibles  ...               4.0         2.0\n",
              "6            2006                 Cars  ...               2.0         0.0\n",
              "7            2007          Ratatouille  ...               5.0         1.0\n",
              "8            2008               WALL-E  ...               6.0         1.0\n",
              "9            2009                   Up  ...               5.0         2.0\n",
              "10           2010          Toy Story 3  ...               5.0         2.0\n",
              "11           2011               Cars 2  ...               0.0         0.0\n",
              "12           2012                Brave  ...               1.0         1.0\n",
              "13           2013  Monsters University  ...               0.0         0.0\n",
              "\n",
              "[14 rows x 16 columns]"
            ]
          },
          "metadata": {
            "tags": []
          },
          "execution_count": 2
        }
      ]
    },
    {
      "cell_type": "markdown",
      "metadata": {
        "id": "ROwmDnmqACRi",
        "colab_type": "text"
      },
      "source": [
        "Data dictionary is listed below with explanation:\n",
        "* **Year Released** — the year the movie was released. \n",
        "* **Movie** — the name of the movie. \n",
        "* **RT Score** — the Rotten Tomatoes rating for the movie. \n",
        "* **IMDB Score** — the IMDB rating for the movie. \n",
        "* **Metacritic SCore** — the Metacritic rating for the movie. \n",
        "* **Opening Weekend** — the amount of revenue the movie made on opening weekend (in millions of dollars). \n",
        "* **Worldwide Gross** — the total amount of revenue the movie has made to date. \n",
        "* **Production Budget** — the amount of money spent to produce the film (in millions of dollars). \n",
        "* **Oscars bold text Won** — the number of Oscar awards the movie won. "
      ]
    },
    {
      "cell_type": "code",
      "metadata": {
        "id": "wwQ8y6OUAszj",
        "colab_type": "code",
        "colab": {
          "base_uri": "https://localhost:8080/",
          "height": 351
        },
        "outputId": "1d4da6aa-7b77-411b-98e5-dcd6c3034ab4"
      },
      "source": [
        "movies.describe()"
      ],
      "execution_count": 3,
      "outputs": [
        {
          "output_type": "execute_result",
          "data": {
            "text/html": [
              "<div>\n",
              "<style scoped>\n",
              "    .dataframe tbody tr th:only-of-type {\n",
              "        vertical-align: middle;\n",
              "    }\n",
              "\n",
              "    .dataframe tbody tr th {\n",
              "        vertical-align: top;\n",
              "    }\n",
              "\n",
              "    .dataframe thead th {\n",
              "        text-align: right;\n",
              "    }\n",
              "</style>\n",
              "<table border=\"1\" class=\"dataframe\">\n",
              "  <thead>\n",
              "    <tr style=\"text-align: right;\">\n",
              "      <th></th>\n",
              "      <th>Year Released</th>\n",
              "      <th>Length</th>\n",
              "      <th>RT Score</th>\n",
              "      <th>IMDB Score</th>\n",
              "      <th>Metacritic Score</th>\n",
              "      <th>Opening Weekend</th>\n",
              "      <th>Worldwide Gross</th>\n",
              "      <th>Domestic Gross</th>\n",
              "      <th>Adjusted Domestic Gross</th>\n",
              "      <th>International Gross</th>\n",
              "      <th>Production Budget</th>\n",
              "      <th>Oscars Nominated</th>\n",
              "      <th>Oscars Won</th>\n",
              "    </tr>\n",
              "  </thead>\n",
              "  <tbody>\n",
              "    <tr>\n",
              "      <th>count</th>\n",
              "      <td>15.000000</td>\n",
              "      <td>15.000000</td>\n",
              "      <td>15.000000</td>\n",
              "      <td>15.000000</td>\n",
              "      <td>15.000000</td>\n",
              "      <td>15.000000</td>\n",
              "      <td>15.000000</td>\n",
              "      <td>15.000000</td>\n",
              "      <td>15.000000</td>\n",
              "      <td>15.000000</td>\n",
              "      <td>15.000000</td>\n",
              "      <td>14.000000</td>\n",
              "      <td>14.000000</td>\n",
              "    </tr>\n",
              "    <tr>\n",
              "      <th>mean</th>\n",
              "      <td>2006.066667</td>\n",
              "      <td>101.533333</td>\n",
              "      <td>89.333333</td>\n",
              "      <td>7.846667</td>\n",
              "      <td>82.800000</td>\n",
              "      <td>67.990667</td>\n",
              "      <td>612.486667</td>\n",
              "      <td>258.506667</td>\n",
              "      <td>318.448000</td>\n",
              "      <td>353.986667</td>\n",
              "      <td>133.400000</td>\n",
              "      <td>2.857143</td>\n",
              "      <td>0.785714</td>\n",
              "    </tr>\n",
              "    <tr>\n",
              "      <th>std</th>\n",
              "      <td>5.933761</td>\n",
              "      <td>9.927355</td>\n",
              "      <td>16.451950</td>\n",
              "      <td>0.655599</td>\n",
              "      <td>12.119642</td>\n",
              "      <td>23.270468</td>\n",
              "      <td>190.193934</td>\n",
              "      <td>66.518284</td>\n",
              "      <td>73.321064</td>\n",
              "      <td>135.061615</td>\n",
              "      <td>59.696614</td>\n",
              "      <td>2.032700</td>\n",
              "      <td>0.801784</td>\n",
              "    </tr>\n",
              "    <tr>\n",
              "      <th>min</th>\n",
              "      <td>1995.000000</td>\n",
              "      <td>81.000000</td>\n",
              "      <td>39.000000</td>\n",
              "      <td>6.300000</td>\n",
              "      <td>57.000000</td>\n",
              "      <td>29.140000</td>\n",
              "      <td>362.000000</td>\n",
              "      <td>162.800000</td>\n",
              "      <td>194.430000</td>\n",
              "      <td>170.200000</td>\n",
              "      <td>30.000000</td>\n",
              "      <td>0.000000</td>\n",
              "      <td>0.000000</td>\n",
              "    </tr>\n",
              "    <tr>\n",
              "      <th>25%</th>\n",
              "      <td>2002.000000</td>\n",
              "      <td>96.000000</td>\n",
              "      <td>85.000000</td>\n",
              "      <td>7.300000</td>\n",
              "      <td>75.000000</td>\n",
              "      <td>58.755000</td>\n",
              "      <td>503.150000</td>\n",
              "      <td>215.100000</td>\n",
              "      <td>261.350000</td>\n",
              "      <td>256.050000</td>\n",
              "      <td>91.000000</td>\n",
              "      <td>1.000000</td>\n",
              "      <td>0.000000</td>\n",
              "    </tr>\n",
              "    <tr>\n",
              "      <th>50%</th>\n",
              "      <td>2007.000000</td>\n",
              "      <td>102.000000</td>\n",
              "      <td>96.000000</td>\n",
              "      <td>8.000000</td>\n",
              "      <td>88.000000</td>\n",
              "      <td>66.300000</td>\n",
              "      <td>559.900000</td>\n",
              "      <td>245.900000</td>\n",
              "      <td>318.900000</td>\n",
              "      <td>336.600000</td>\n",
              "      <td>150.000000</td>\n",
              "      <td>3.000000</td>\n",
              "      <td>1.000000</td>\n",
              "    </tr>\n",
              "    <tr>\n",
              "      <th>75%</th>\n",
              "      <td>2010.500000</td>\n",
              "      <td>109.000000</td>\n",
              "      <td>98.500000</td>\n",
              "      <td>8.300000</td>\n",
              "      <td>92.000000</td>\n",
              "      <td>76.450000</td>\n",
              "      <td>704.200000</td>\n",
              "      <td>280.750000</td>\n",
              "      <td>361.165000</td>\n",
              "      <td>427.800000</td>\n",
              "      <td>182.500000</td>\n",
              "      <td>4.750000</td>\n",
              "      <td>1.000000</td>\n",
              "    </tr>\n",
              "    <tr>\n",
              "      <th>max</th>\n",
              "      <td>2015.000000</td>\n",
              "      <td>116.000000</td>\n",
              "      <td>100.000000</td>\n",
              "      <td>8.800000</td>\n",
              "      <td>96.000000</td>\n",
              "      <td>110.310000</td>\n",
              "      <td>1063.200000</td>\n",
              "      <td>415.000000</td>\n",
              "      <td>457.460000</td>\n",
              "      <td>648.200000</td>\n",
              "      <td>200.000000</td>\n",
              "      <td>6.000000</td>\n",
              "      <td>2.000000</td>\n",
              "    </tr>\n",
              "  </tbody>\n",
              "</table>\n",
              "</div>"
            ],
            "text/plain": [
              "       Year Released      Length  ...  Oscars Nominated  Oscars Won\n",
              "count      15.000000   15.000000  ...         14.000000   14.000000\n",
              "mean     2006.066667  101.533333  ...          2.857143    0.785714\n",
              "std         5.933761    9.927355  ...          2.032700    0.801784\n",
              "min      1995.000000   81.000000  ...          0.000000    0.000000\n",
              "25%      2002.000000   96.000000  ...          1.000000    0.000000\n",
              "50%      2007.000000  102.000000  ...          3.000000    1.000000\n",
              "75%      2010.500000  109.000000  ...          4.750000    1.000000\n",
              "max      2015.000000  116.000000  ...          6.000000    2.000000\n",
              "\n",
              "[8 rows x 13 columns]"
            ]
          },
          "metadata": {
            "tags": []
          },
          "execution_count": 3
        }
      ]
    },
    {
      "cell_type": "code",
      "metadata": {
        "id": "wUz0qaxDD43B",
        "colab_type": "code",
        "colab": {}
      },
      "source": [
        ""
      ],
      "execution_count": 0,
      "outputs": []
    },
    {
      "cell_type": "markdown",
      "metadata": {
        "id": "QdRFYpAhBlz5",
        "colab_type": "text"
      },
      "source": [
        "##Data Cleaning"
      ]
    },
    {
      "cell_type": "markdown",
      "metadata": {
        "id": "i5M913WeBysg",
        "colab_type": "text"
      },
      "source": [
        "As can be seen from the table above, the data from the columns `International %` and `Domestic %` are written in the form of string. Therefore, it should be converted to float for further calculation. "
      ]
    },
    {
      "cell_type": "code",
      "metadata": {
        "id": "yBjMYWB_BcVG",
        "colab_type": "code",
        "colab": {
          "base_uri": "https://localhost:8080/",
          "height": 514
        },
        "outputId": "ff75e018-1257-4733-e8f2-4836390175fb"
      },
      "source": [
        "# Convert International % column\n",
        "movies[\"International %\"] = movies[\"International %\"].str.replace(\"%\", \"\")\n",
        "movies[\"International %\"] = movies[\"International %\"].astype(float)\n",
        "\n",
        "# Convert Domestic % column\n",
        "movies[\"Domestic %\"] = movies[\"Domestic %\"].str.replace(\"%\", \"\")\n",
        "movies[\"Domestic %\"] = movies[\"Domestic %\"].astype(float)\n",
        "\n",
        "movies[[\"Domestic %\", \"International %\"]] "
      ],
      "execution_count": 4,
      "outputs": [
        {
          "output_type": "execute_result",
          "data": {
            "text/html": [
              "<div>\n",
              "<style scoped>\n",
              "    .dataframe tbody tr th:only-of-type {\n",
              "        vertical-align: middle;\n",
              "    }\n",
              "\n",
              "    .dataframe tbody tr th {\n",
              "        vertical-align: top;\n",
              "    }\n",
              "\n",
              "    .dataframe thead th {\n",
              "        text-align: right;\n",
              "    }\n",
              "</style>\n",
              "<table border=\"1\" class=\"dataframe\">\n",
              "  <thead>\n",
              "    <tr style=\"text-align: right;\">\n",
              "      <th></th>\n",
              "      <th>Domestic %</th>\n",
              "      <th>International %</th>\n",
              "    </tr>\n",
              "  </thead>\n",
              "  <tbody>\n",
              "    <tr>\n",
              "      <th>0</th>\n",
              "      <td>52.98</td>\n",
              "      <td>47.02</td>\n",
              "    </tr>\n",
              "    <tr>\n",
              "      <th>1</th>\n",
              "      <td>44.80</td>\n",
              "      <td>55.20</td>\n",
              "    </tr>\n",
              "    <tr>\n",
              "      <th>2</th>\n",
              "      <td>50.70</td>\n",
              "      <td>49.32</td>\n",
              "    </tr>\n",
              "    <tr>\n",
              "      <th>3</th>\n",
              "      <td>48.39</td>\n",
              "      <td>51.61</td>\n",
              "    </tr>\n",
              "    <tr>\n",
              "      <th>4</th>\n",
              "      <td>37.93</td>\n",
              "      <td>62.07</td>\n",
              "    </tr>\n",
              "    <tr>\n",
              "      <th>5</th>\n",
              "      <td>41.40</td>\n",
              "      <td>58.60</td>\n",
              "    </tr>\n",
              "    <tr>\n",
              "      <th>6</th>\n",
              "      <td>52.84</td>\n",
              "      <td>47.16</td>\n",
              "    </tr>\n",
              "    <tr>\n",
              "      <th>7</th>\n",
              "      <td>33.09</td>\n",
              "      <td>66.91</td>\n",
              "    </tr>\n",
              "    <tr>\n",
              "      <th>8</th>\n",
              "      <td>42.93</td>\n",
              "      <td>57.07</td>\n",
              "    </tr>\n",
              "    <tr>\n",
              "      <th>9</th>\n",
              "      <td>40.07</td>\n",
              "      <td>59.93</td>\n",
              "    </tr>\n",
              "    <tr>\n",
              "      <th>10</th>\n",
              "      <td>39.03</td>\n",
              "      <td>60.97</td>\n",
              "    </tr>\n",
              "    <tr>\n",
              "      <th>11</th>\n",
              "      <td>34.20</td>\n",
              "      <td>65.80</td>\n",
              "    </tr>\n",
              "    <tr>\n",
              "      <th>12</th>\n",
              "      <td>44.03</td>\n",
              "      <td>55.97</td>\n",
              "    </tr>\n",
              "    <tr>\n",
              "      <th>13</th>\n",
              "      <td>36.11</td>\n",
              "      <td>63.89</td>\n",
              "    </tr>\n",
              "    <tr>\n",
              "      <th>14</th>\n",
              "      <td>50.29</td>\n",
              "      <td>49.71</td>\n",
              "    </tr>\n",
              "  </tbody>\n",
              "</table>\n",
              "</div>"
            ],
            "text/plain": [
              "    Domestic %  International %\n",
              "0        52.98            47.02\n",
              "1        44.80            55.20\n",
              "2        50.70            49.32\n",
              "3        48.39            51.61\n",
              "4        37.93            62.07\n",
              "5        41.40            58.60\n",
              "6        52.84            47.16\n",
              "7        33.09            66.91\n",
              "8        42.93            57.07\n",
              "9        40.07            59.93\n",
              "10       39.03            60.97\n",
              "11       34.20            65.80\n",
              "12       44.03            55.97\n",
              "13       36.11            63.89\n",
              "14       50.29            49.71"
            ]
          },
          "metadata": {
            "tags": []
          },
          "execution_count": 4
        }
      ]
    },
    {
      "cell_type": "markdown",
      "metadata": {
        "id": "_8H5pbQMDlCW",
        "colab_type": "text"
      },
      "source": [
        "As original, IMDB score is on the scale of 10, it would be better to conver in to 100 point scale by multiplying with 10."
      ]
    },
    {
      "cell_type": "code",
      "metadata": {
        "id": "ifh1EfTiC1Qk",
        "colab_type": "code",
        "colab": {
          "base_uri": "https://localhost:8080/",
          "height": 289
        },
        "outputId": "38bedccc-4889-4d77-9bd3-ac74101ae642"
      },
      "source": [
        "movies[\"IMDB Score\"] = movies[\"IMDB Score\"] * 10\n",
        "movies[\"IMDB Score\"]"
      ],
      "execution_count": 5,
      "outputs": [
        {
          "output_type": "execute_result",
          "data": {
            "text/plain": [
              "0     83.0\n",
              "1     72.0\n",
              "2     79.0\n",
              "3     81.0\n",
              "4     82.0\n",
              "5     80.0\n",
              "6     72.0\n",
              "7     80.0\n",
              "8     84.0\n",
              "9     83.0\n",
              "10    84.0\n",
              "11    63.0\n",
              "12    72.0\n",
              "13    74.0\n",
              "14    88.0\n",
              "Name: IMDB Score, dtype: float64"
            ]
          },
          "metadata": {
            "tags": []
          },
          "execution_count": 5
        }
      ]
    },
    {
      "cell_type": "markdown",
      "metadata": {
        "id": "G9uivdGSEMqK",
        "colab_type": "text"
      },
      "source": [
        "In the next section where data plot is presented for each movie. Therefore, it is suggested to use `Movie` as index value"
      ]
    },
    {
      "cell_type": "markdown",
      "metadata": {
        "id": "elE_msQkE-XE",
        "colab_type": "text"
      },
      "source": [
        "##Data Visualization"
      ]
    },
    {
      "cell_type": "markdown",
      "metadata": {
        "id": "2ne29tmAFLI2",
        "colab_type": "text"
      },
      "source": [
        "### Pixar movies rating\n",
        "As each movie from Pixar are evaluated by 3 major review websites (on the scale of 100), the following graph represent the variation between those:"
      ]
    },
    {
      "cell_type": "code",
      "metadata": {
        "id": "MhQawZGZEcel",
        "colab_type": "code",
        "colab": {
          "base_uri": "https://localhost:8080/",
          "height": 619
        },
        "outputId": "142834c7-3647-432d-9fd4-b48ed9bb2f3d"
      },
      "source": [
        "movies.plot.bar(x=\"Movie\", y=[\"RT Score\", \"IMDB Score\", \"Metacritic Score\"], figsize=(12,8))\n",
        "plt.title(\"Reviews for Pixar Movies\")\n",
        "plt.xlabel(\"Movie\")\n",
        "plt.ylabel(\"Reviews\")"
      ],
      "execution_count": 6,
      "outputs": [
        {
          "output_type": "execute_result",
          "data": {
            "text/plain": [
              "Text(0, 0.5, 'Reviews')"
            ]
          },
          "metadata": {
            "tags": []
          },
          "execution_count": 6
        },
        {
          "output_type": "display_data",
          "data": {
            "image/png": "[encoded data removed]",
            "text/plain": [
              "<Figure size 864x576 with 1 Axes>"
            ]
          },
          "metadata": {
            "tags": []
          }
        }
      ]
    },
    {
      "cell_type": "markdown",
      "metadata": {
        "id": "TQjfatj2JoYs",
        "colab_type": "text"
      },
      "source": [
        "Overall, most Pixar movies receive relatively high score from 3 review sites with average points of above 70, except Cars 2. Specifically, Rotten Tomatoes rate higher ratings for Pixar movies then the other two."
      ]
    },
    {
      "cell_type": "code",
      "metadata": {
        "id": "3pDOYigjKLE0",
        "colab_type": "code",
        "colab": {
          "base_uri": "https://localhost:8080/",
          "height": 503
        },
        "outputId": "5b18030e-ae07-4e66-db84-5b3f0921b84b"
      },
      "source": [
        "movies[[\"RT Score\", \"IMDB Score\", \"Metacritic Score\"]].plot(kind=\"box\", figsize=(12,8))"
      ],
      "execution_count": 7,
      "outputs": [
        {
          "output_type": "execute_result",
          "data": {
            "text/plain": [
              "<matplotlib.axes._subplots.AxesSubplot at 0x7fc412c0d128>"
            ]
          },
          "metadata": {
            "tags": []
          },
          "execution_count": 7
        },
        {
          "output_type": "display_data",
          "data": {
            "image/png": "[encoded data removed]",
            "text/plain": [
              "<Figure size 864x576 with 1 Axes>"
            ]
          },
          "metadata": {
            "tags": []
          }
        }
      ]
    },
    {
      "cell_type": "markdown",
      "metadata": {
        "id": "iulZCLLaKZd6",
        "colab_type": "text"
      },
      "source": [
        "The box plot reinforce the judgment above that Rotten Tomatoes rates Pixar movies higher than the other two reviewers. In addition, the rating from Metacritic Score has wide variation, rangin from 60 to below 100."
      ]
    },
    {
      "cell_type": "markdown",
      "metadata": {
        "id": "87KmE29yKFyI",
        "colab_type": "text"
      },
      "source": [
        "###Pixar Movies Revenue"
      ]
    },
    {
      "cell_type": "code",
      "metadata": {
        "id": "BncnXHoWJ6f4",
        "colab_type": "code",
        "colab": {
          "base_uri": "https://localhost:8080/",
          "height": 607
        },
        "outputId": "c4e2c664-0421-4e8b-c5b3-5d2ee704e7de"
      },
      "source": [
        "movies.plot.bar(x = \"Movie\", y = [\"Domestic %\", \"International %\"], stacked=True, figsize=(12,8), color=[\"blue\", \"green\"])"
      ],
      "execution_count": 8,
      "outputs": [
        {
          "output_type": "execute_result",
          "data": {
            "text/plain": [
              "<matplotlib.axes._subplots.AxesSubplot at 0x7fc410355128>"
            ]
          },
          "metadata": {
            "tags": []
          },
          "execution_count": 8
        },
        {
          "output_type": "display_data",
          "data": {
            "image/png": "[encoded data removed]",
            "text/plain": [
              "<Figure size 864x576 with 1 Axes>"
            ]
          },
          "metadata": {
            "tags": []
          }
        }
      ]
    },
    {
      "cell_type": "markdown",
      "metadata": {
        "id": "ofSjZ7T5MOdE",
        "colab_type": "text"
      },
      "source": [
        "Most of the Pixar movies get higher revenue from international market than in US land. There is a decrease trend in proportion of revenue generated domestically since Toy Story in 1995"
      ]
    },
    {
      "cell_type": "markdown",
      "metadata": {
        "id": "gW5NY0PAM42T",
        "colab_type": "text"
      },
      "source": [
        "###Oscars Nominations/Won"
      ]
    },
    {
      "cell_type": "code",
      "metadata": {
        "id": "26Fv6J2JLmzC",
        "colab_type": "code",
        "colab": {
          "base_uri": "https://localhost:8080/",
          "height": 619
        },
        "outputId": "512357ca-b84c-4be6-9a18-8f32e9551cc6"
      },
      "source": [
        "movies.plot.bar(x=\"Movie\", y=[\"Oscars Nominated\", \"Oscars Won\"], figsize=(12,8), color=[\"blue\", \"green\"])\n",
        "plt.title(\"Oscars Nominated and Oscars Won per Movie\")\n",
        "plt.xlabel(\"Movie\")\n",
        "plt.ylabel(\"Oscars\")"
      ],
      "execution_count": 9,
      "outputs": [
        {
          "output_type": "execute_result",
          "data": {
            "text/plain": [
              "Text(0, 0.5, 'Oscars')"
            ]
          },
          "metadata": {
            "tags": []
          },
          "execution_count": 9
        },
        {
          "output_type": "display_data",
          "data": {
            "image/png": "[encoded data removed]",
            "text/plain": [
              "<Figure size 864x576 with 1 Axes>"
            ]
          },
          "metadata": {
            "tags": []
          }
        }
      ]
    },
    {
      "cell_type": "markdown",
      "metadata": {
        "id": "zccKZ_i1Nxl0",
        "colab_type": "text"
      },
      "source": [
        "There are three movies from Pixar, \"Cars 2\", \"Inside Out\" and \"Monsters University\" did not receive any Oscar Nominations or Awards; especially the last one which had one of the biggest International Revenue. While Wall-E has highest number of nominations (6), but only got 1 Oscars win."
      ]
    }
  ]
}