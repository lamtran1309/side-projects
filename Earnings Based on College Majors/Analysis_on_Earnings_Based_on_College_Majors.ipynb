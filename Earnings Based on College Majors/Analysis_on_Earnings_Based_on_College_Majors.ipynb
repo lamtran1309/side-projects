{
  "nbformat": 4,
  "nbformat_minor": 0,
  "metadata": {
    "colab": {
      "name": "Analysis on Earnings Based on College Majors.ipynb",
      "version": "0.3.2",
      "provenance": [],
      "collapsed_sections": []
    },
    "kernelspec": {
      "name": "python3",
      "display_name": "Python 3"
    },
    "accelerator": "GPU"
  },
  "cells": [
    {
      "cell_type": "markdown",
      "metadata": {
        "id": "AY_xnAYmErxS",
        "colab_type": "text"
      },
      "source": [
        "# Earnings Based on College Majors\n",
        "This project aims to study the variation in income of workers whose educational background varying across various field in the university. The insights taken from this investigation will give insights and answers for three below thesis questions:\n",
        "\n",
        "\n",
        "*1.   Do students who graduate from more popular majors have higher income?* <br>\n",
        "*2.   Which majors are more preferrable by male? or by female?* <br>\n",
        "*3.   Which major categories was most chosen by students?*\n",
        "\n",
        "\n",
        "This project narrows the scope down to 173 majors from many popular categories, such as Engineering, Health, Physical Sciences, etc. and from recently graduated students at the age of below 28 between 2010 and 2012. \n",
        "\n",
        "\n"
      ]
    },
    {
      "cell_type": "markdown",
      "metadata": {
        "id": "dCcXVd7bG5hy",
        "colab_type": "text"
      },
      "source": [
        "## Opening and Exploring the Data\n"
      ]
    },
    {
      "cell_type": "code",
      "metadata": {
        "id": "5qFq6FExDwIX",
        "colab_type": "code",
        "colab": {}
      },
      "source": [
        "# Load necessary libraries\n",
        "import pandas as pd\n",
        "import matplotlib.pyplot as plt\n",
        "%matplotlib inline \n",
        "plt.show()"
      ],
      "execution_count": 0,
      "outputs": []
    },
    {
      "cell_type": "code",
      "metadata": {
        "id": "YDBiBdWnH46w",
        "colab_type": "code",
        "outputId": "6dba8d06-bd33-4c04-f7c8-d3a1aaf19fb0",
        "colab": {
          "base_uri": "https://localhost:8080/",
          "height": 1000
        }
      },
      "source": [
        "# Load data\n",
        "url = \"https://raw.githubusercontent.com/lamtran1309/side-projects/master/Earnings%20Based%20on%20College%20Majors/recent-grads.csv\"\n",
        "majors = pd.read_csv(url, encoding = \"Latin-1\")\n",
        "majors"
      ],
      "execution_count": 2,
      "outputs": [
        {
          "output_type": "execute_result",
          "data": {
            "text/html": [
              "<div>\n",
              "<style scoped>\n",
              "    .dataframe tbody tr th:only-of-type {\n",
              "        vertical-align: middle;\n",
              "    }\n",
              "\n",
              "    .dataframe tbody tr th {\n",
              "        vertical-align: top;\n",
              "    }\n",
              "\n",
              "    .dataframe thead th {\n",
              "        text-align: right;\n",
              "    }\n",
              "</style>\n",
              "<table border=\"1\" class=\"dataframe\">\n",
              "  <thead>\n",
              "    <tr style=\"text-align: right;\">\n",
              "      <th></th>\n",
              "      <th>Rank</th>\n",
              "      <th>Major_code</th>\n",
              "      <th>Major</th>\n",
              "      <th>Major_category</th>\n",
              "      <th>Total</th>\n",
              "      <th>Sample_size</th>\n",
              "      <th>Men</th>\n",
              "      <th>Women</th>\n",
              "      <th>ShareWomen</th>\n",
              "      <th>Employed</th>\n",
              "      <th>Full_time</th>\n",
              "      <th>Part_time</th>\n",
              "      <th>Full_time_year_round</th>\n",
              "      <th>Unemployed</th>\n",
              "      <th>Unemployment_rate</th>\n",
              "      <th>Median</th>\n",
              "      <th>P25th</th>\n",
              "      <th>P75th</th>\n",
              "      <th>College_jobs</th>\n",
              "      <th>Non_college_jobs</th>\n",
              "      <th>Low_wage_jobs</th>\n",
              "    </tr>\n",
              "  </thead>\n",
              "  <tbody>\n",
              "    <tr>\n",
              "      <th>0</th>\n",
              "      <td>1</td>\n",
              "      <td>2419</td>\n",
              "      <td>PETROLEUM ENGINEERING</td>\n",
              "      <td>Engineering</td>\n",
              "      <td>2339</td>\n",
              "      <td>36</td>\n",
              "      <td>2057</td>\n",
              "      <td>282</td>\n",
              "      <td>0.120564</td>\n",
              "      <td>1976</td>\n",
              "      <td>1849</td>\n",
              "      <td>270</td>\n",
              "      <td>1207</td>\n",
              "      <td>37</td>\n",
              "      <td>0.018381</td>\n",
              "      <td>110000</td>\n",
              "      <td>95000</td>\n",
              "      <td>125000</td>\n",
              "      <td>1534</td>\n",
              "      <td>364</td>\n",
              "      <td>193</td>\n",
              "    </tr>\n",
              "    <tr>\n",
              "      <th>1</th>\n",
              "      <td>2</td>\n",
              "      <td>2416</td>\n",
              "      <td>MINING AND MINERAL ENGINEERING</td>\n",
              "      <td>Engineering</td>\n",
              "      <td>756</td>\n",
              "      <td>7</td>\n",
              "      <td>679</td>\n",
              "      <td>77</td>\n",
              "      <td>0.101852</td>\n",
              "      <td>640</td>\n",
              "      <td>556</td>\n",
              "      <td>170</td>\n",
              "      <td>388</td>\n",
              "      <td>85</td>\n",
              "      <td>0.117241</td>\n",
              "      <td>75000</td>\n",
              "      <td>55000</td>\n",
              "      <td>90000</td>\n",
              "      <td>350</td>\n",
              "      <td>257</td>\n",
              "      <td>50</td>\n",
              "    </tr>\n",
              "    <tr>\n",
              "      <th>2</th>\n",
              "      <td>3</td>\n",
              "      <td>2415</td>\n",
              "      <td>METALLURGICAL ENGINEERING</td>\n",
              "      <td>Engineering</td>\n",
              "      <td>856</td>\n",
              "      <td>3</td>\n",
              "      <td>725</td>\n",
              "      <td>131</td>\n",
              "      <td>0.153037</td>\n",
              "      <td>648</td>\n",
              "      <td>558</td>\n",
              "      <td>133</td>\n",
              "      <td>340</td>\n",
              "      <td>16</td>\n",
              "      <td>0.024096</td>\n",
              "      <td>73000</td>\n",
              "      <td>50000</td>\n",
              "      <td>105000</td>\n",
              "      <td>456</td>\n",
              "      <td>176</td>\n",
              "      <td>0</td>\n",
              "    </tr>\n",
              "    <tr>\n",
              "      <th>3</th>\n",
              "      <td>4</td>\n",
              "      <td>2417</td>\n",
              "      <td>NAVAL ARCHITECTURE AND MARINE ENGINEERING</td>\n",
              "      <td>Engineering</td>\n",
              "      <td>1258</td>\n",
              "      <td>16</td>\n",
              "      <td>1123</td>\n",
              "      <td>135</td>\n",
              "      <td>0.107313</td>\n",
              "      <td>758</td>\n",
              "      <td>1069</td>\n",
              "      <td>150</td>\n",
              "      <td>692</td>\n",
              "      <td>40</td>\n",
              "      <td>0.050125</td>\n",
              "      <td>70000</td>\n",
              "      <td>43000</td>\n",
              "      <td>80000</td>\n",
              "      <td>529</td>\n",
              "      <td>102</td>\n",
              "      <td>0</td>\n",
              "    </tr>\n",
              "    <tr>\n",
              "      <th>4</th>\n",
              "      <td>5</td>\n",
              "      <td>2405</td>\n",
              "      <td>CHEMICAL ENGINEERING</td>\n",
              "      <td>Engineering</td>\n",
              "      <td>32260</td>\n",
              "      <td>289</td>\n",
              "      <td>21239</td>\n",
              "      <td>11021</td>\n",
              "      <td>0.341631</td>\n",
              "      <td>25694</td>\n",
              "      <td>23170</td>\n",
              "      <td>5180</td>\n",
              "      <td>16697</td>\n",
              "      <td>1672</td>\n",
              "      <td>0.061098</td>\n",
              "      <td>65000</td>\n",
              "      <td>50000</td>\n",
              "      <td>75000</td>\n",
              "      <td>18314</td>\n",
              "      <td>4440</td>\n",
              "      <td>972</td>\n",
              "    </tr>\n",
              "    <tr>\n",
              "      <th>5</th>\n",
              "      <td>6</td>\n",
              "      <td>2418</td>\n",
              "      <td>NUCLEAR ENGINEERING</td>\n",
              "      <td>Engineering</td>\n",
              "      <td>2573</td>\n",
              "      <td>17</td>\n",
              "      <td>2200</td>\n",
              "      <td>373</td>\n",
              "      <td>0.144967</td>\n",
              "      <td>1857</td>\n",
              "      <td>2038</td>\n",
              "      <td>264</td>\n",
              "      <td>1449</td>\n",
              "      <td>400</td>\n",
              "      <td>0.177226</td>\n",
              "      <td>65000</td>\n",
              "      <td>50000</td>\n",
              "      <td>102000</td>\n",
              "      <td>1142</td>\n",
              "      <td>657</td>\n",
              "      <td>244</td>\n",
              "    </tr>\n",
              "    <tr>\n",
              "      <th>6</th>\n",
              "      <td>7</td>\n",
              "      <td>6202</td>\n",
              "      <td>ACTUARIAL SCIENCE</td>\n",
              "      <td>Business</td>\n",
              "      <td>3777</td>\n",
              "      <td>51</td>\n",
              "      <td>832</td>\n",
              "      <td>960</td>\n",
              "      <td>0.535714</td>\n",
              "      <td>2912</td>\n",
              "      <td>2924</td>\n",
              "      <td>296</td>\n",
              "      <td>2482</td>\n",
              "      <td>308</td>\n",
              "      <td>0.095652</td>\n",
              "      <td>62000</td>\n",
              "      <td>53000</td>\n",
              "      <td>72000</td>\n",
              "      <td>1768</td>\n",
              "      <td>314</td>\n",
              "      <td>259</td>\n",
              "    </tr>\n",
              "    <tr>\n",
              "      <th>7</th>\n",
              "      <td>8</td>\n",
              "      <td>5001</td>\n",
              "      <td>ASTRONOMY AND ASTROPHYSICS</td>\n",
              "      <td>Physical Sciences</td>\n",
              "      <td>1792</td>\n",
              "      <td>10</td>\n",
              "      <td>2110</td>\n",
              "      <td>1667</td>\n",
              "      <td>0.441356</td>\n",
              "      <td>1526</td>\n",
              "      <td>1085</td>\n",
              "      <td>553</td>\n",
              "      <td>827</td>\n",
              "      <td>33</td>\n",
              "      <td>0.021167</td>\n",
              "      <td>62000</td>\n",
              "      <td>31500</td>\n",
              "      <td>109000</td>\n",
              "      <td>972</td>\n",
              "      <td>500</td>\n",
              "      <td>220</td>\n",
              "    </tr>\n",
              "    <tr>\n",
              "      <th>8</th>\n",
              "      <td>9</td>\n",
              "      <td>2414</td>\n",
              "      <td>MECHANICAL ENGINEERING</td>\n",
              "      <td>Engineering</td>\n",
              "      <td>91227</td>\n",
              "      <td>1029</td>\n",
              "      <td>12953</td>\n",
              "      <td>2105</td>\n",
              "      <td>0.139793</td>\n",
              "      <td>76442</td>\n",
              "      <td>71298</td>\n",
              "      <td>13101</td>\n",
              "      <td>54639</td>\n",
              "      <td>4650</td>\n",
              "      <td>0.057342</td>\n",
              "      <td>60000</td>\n",
              "      <td>48000</td>\n",
              "      <td>70000</td>\n",
              "      <td>52844</td>\n",
              "      <td>16384</td>\n",
              "      <td>3253</td>\n",
              "    </tr>\n",
              "    <tr>\n",
              "      <th>9</th>\n",
              "      <td>10</td>\n",
              "      <td>2408</td>\n",
              "      <td>ELECTRICAL ENGINEERING</td>\n",
              "      <td>Engineering</td>\n",
              "      <td>81527</td>\n",
              "      <td>631</td>\n",
              "      <td>8407</td>\n",
              "      <td>6548</td>\n",
              "      <td>0.437847</td>\n",
              "      <td>61928</td>\n",
              "      <td>55450</td>\n",
              "      <td>12695</td>\n",
              "      <td>41413</td>\n",
              "      <td>3895</td>\n",
              "      <td>0.059174</td>\n",
              "      <td>60000</td>\n",
              "      <td>45000</td>\n",
              "      <td>72000</td>\n",
              "      <td>45829</td>\n",
              "      <td>10874</td>\n",
              "      <td>3170</td>\n",
              "    </tr>\n",
              "    <tr>\n",
              "      <th>10</th>\n",
              "      <td>11</td>\n",
              "      <td>2407</td>\n",
              "      <td>COMPUTER ENGINEERING</td>\n",
              "      <td>Engineering</td>\n",
              "      <td>41542</td>\n",
              "      <td>399</td>\n",
              "      <td>33258</td>\n",
              "      <td>8284</td>\n",
              "      <td>0.199413</td>\n",
              "      <td>32506</td>\n",
              "      <td>30315</td>\n",
              "      <td>5146</td>\n",
              "      <td>23621</td>\n",
              "      <td>2275</td>\n",
              "      <td>0.065409</td>\n",
              "      <td>60000</td>\n",
              "      <td>45000</td>\n",
              "      <td>75000</td>\n",
              "      <td>23694</td>\n",
              "      <td>5721</td>\n",
              "      <td>980</td>\n",
              "    </tr>\n",
              "    <tr>\n",
              "      <th>11</th>\n",
              "      <td>12</td>\n",
              "      <td>2401</td>\n",
              "      <td>AEROSPACE ENGINEERING</td>\n",
              "      <td>Engineering</td>\n",
              "      <td>15058</td>\n",
              "      <td>147</td>\n",
              "      <td>65511</td>\n",
              "      <td>16016</td>\n",
              "      <td>0.196450</td>\n",
              "      <td>11391</td>\n",
              "      <td>11106</td>\n",
              "      <td>2724</td>\n",
              "      <td>8790</td>\n",
              "      <td>794</td>\n",
              "      <td>0.065162</td>\n",
              "      <td>60000</td>\n",
              "      <td>42000</td>\n",
              "      <td>70000</td>\n",
              "      <td>8184</td>\n",
              "      <td>2425</td>\n",
              "      <td>372</td>\n",
              "    </tr>\n",
              "    <tr>\n",
              "      <th>12</th>\n",
              "      <td>13</td>\n",
              "      <td>2404</td>\n",
              "      <td>BIOMEDICAL ENGINEERING</td>\n",
              "      <td>Engineering</td>\n",
              "      <td>14955</td>\n",
              "      <td>79</td>\n",
              "      <td>80320</td>\n",
              "      <td>10907</td>\n",
              "      <td>0.119559</td>\n",
              "      <td>10047</td>\n",
              "      <td>9017</td>\n",
              "      <td>2694</td>\n",
              "      <td>5986</td>\n",
              "      <td>1019</td>\n",
              "      <td>0.092084</td>\n",
              "      <td>60000</td>\n",
              "      <td>36000</td>\n",
              "      <td>70000</td>\n",
              "      <td>6439</td>\n",
              "      <td>2471</td>\n",
              "      <td>789</td>\n",
              "    </tr>\n",
              "    <tr>\n",
              "      <th>13</th>\n",
              "      <td>14</td>\n",
              "      <td>5008</td>\n",
              "      <td>MATERIALS SCIENCE</td>\n",
              "      <td>Engineering</td>\n",
              "      <td>4279</td>\n",
              "      <td>22</td>\n",
              "      <td>2949</td>\n",
              "      <td>1330</td>\n",
              "      <td>0.310820</td>\n",
              "      <td>3307</td>\n",
              "      <td>2751</td>\n",
              "      <td>878</td>\n",
              "      <td>1967</td>\n",
              "      <td>78</td>\n",
              "      <td>0.023043</td>\n",
              "      <td>60000</td>\n",
              "      <td>39000</td>\n",
              "      <td>65000</td>\n",
              "      <td>2626</td>\n",
              "      <td>391</td>\n",
              "      <td>81</td>\n",
              "    </tr>\n",
              "    <tr>\n",
              "      <th>14</th>\n",
              "      <td>15</td>\n",
              "      <td>2409</td>\n",
              "      <td>ENGINEERING MECHANICS PHYSICS AND SCIENCE</td>\n",
              "      <td>Engineering</td>\n",
              "      <td>4321</td>\n",
              "      <td>30</td>\n",
              "      <td>3526</td>\n",
              "      <td>795</td>\n",
              "      <td>0.183985</td>\n",
              "      <td>3608</td>\n",
              "      <td>2999</td>\n",
              "      <td>811</td>\n",
              "      <td>2004</td>\n",
              "      <td>23</td>\n",
              "      <td>0.006334</td>\n",
              "      <td>58000</td>\n",
              "      <td>25000</td>\n",
              "      <td>74000</td>\n",
              "      <td>2439</td>\n",
              "      <td>947</td>\n",
              "      <td>263</td>\n",
              "    </tr>\n",
              "    <tr>\n",
              "      <th>15</th>\n",
              "      <td>16</td>\n",
              "      <td>2402</td>\n",
              "      <td>BIOLOGICAL ENGINEERING</td>\n",
              "      <td>Engineering</td>\n",
              "      <td>8925</td>\n",
              "      <td>55</td>\n",
              "      <td>6062</td>\n",
              "      <td>2863</td>\n",
              "      <td>0.320784</td>\n",
              "      <td>6170</td>\n",
              "      <td>5455</td>\n",
              "      <td>1983</td>\n",
              "      <td>3413</td>\n",
              "      <td>589</td>\n",
              "      <td>0.087143</td>\n",
              "      <td>57100</td>\n",
              "      <td>40000</td>\n",
              "      <td>76000</td>\n",
              "      <td>3603</td>\n",
              "      <td>1595</td>\n",
              "      <td>524</td>\n",
              "    </tr>\n",
              "    <tr>\n",
              "      <th>16</th>\n",
              "      <td>17</td>\n",
              "      <td>2412</td>\n",
              "      <td>INDUSTRIAL AND MANUFACTURING ENGINEERING</td>\n",
              "      <td>Engineering</td>\n",
              "      <td>18968</td>\n",
              "      <td>183</td>\n",
              "      <td>12453</td>\n",
              "      <td>6515</td>\n",
              "      <td>0.343473</td>\n",
              "      <td>15604</td>\n",
              "      <td>14879</td>\n",
              "      <td>2243</td>\n",
              "      <td>11326</td>\n",
              "      <td>699</td>\n",
              "      <td>0.042876</td>\n",
              "      <td>57000</td>\n",
              "      <td>37900</td>\n",
              "      <td>67000</td>\n",
              "      <td>8306</td>\n",
              "      <td>3235</td>\n",
              "      <td>640</td>\n",
              "    </tr>\n",
              "    <tr>\n",
              "      <th>17</th>\n",
              "      <td>18</td>\n",
              "      <td>2400</td>\n",
              "      <td>GENERAL ENGINEERING</td>\n",
              "      <td>Engineering</td>\n",
              "      <td>61152</td>\n",
              "      <td>425</td>\n",
              "      <td>45683</td>\n",
              "      <td>15469</td>\n",
              "      <td>0.252960</td>\n",
              "      <td>44931</td>\n",
              "      <td>41235</td>\n",
              "      <td>7199</td>\n",
              "      <td>33540</td>\n",
              "      <td>2859</td>\n",
              "      <td>0.059824</td>\n",
              "      <td>56000</td>\n",
              "      <td>36000</td>\n",
              "      <td>69000</td>\n",
              "      <td>26898</td>\n",
              "      <td>11734</td>\n",
              "      <td>3192</td>\n",
              "    </tr>\n",
              "    <tr>\n",
              "      <th>18</th>\n",
              "      <td>19</td>\n",
              "      <td>2403</td>\n",
              "      <td>ARCHITECTURAL ENGINEERING</td>\n",
              "      <td>Engineering</td>\n",
              "      <td>2825</td>\n",
              "      <td>26</td>\n",
              "      <td>1835</td>\n",
              "      <td>990</td>\n",
              "      <td>0.350442</td>\n",
              "      <td>2575</td>\n",
              "      <td>2277</td>\n",
              "      <td>343</td>\n",
              "      <td>1848</td>\n",
              "      <td>170</td>\n",
              "      <td>0.061931</td>\n",
              "      <td>54000</td>\n",
              "      <td>38000</td>\n",
              "      <td>65000</td>\n",
              "      <td>1665</td>\n",
              "      <td>649</td>\n",
              "      <td>137</td>\n",
              "    </tr>\n",
              "    <tr>\n",
              "      <th>19</th>\n",
              "      <td>20</td>\n",
              "      <td>3201</td>\n",
              "      <td>COURT REPORTING</td>\n",
              "      <td>Law &amp; Public Policy</td>\n",
              "      <td>1148</td>\n",
              "      <td>14</td>\n",
              "      <td>877</td>\n",
              "      <td>271</td>\n",
              "      <td>0.236063</td>\n",
              "      <td>930</td>\n",
              "      <td>808</td>\n",
              "      <td>223</td>\n",
              "      <td>808</td>\n",
              "      <td>11</td>\n",
              "      <td>0.011690</td>\n",
              "      <td>54000</td>\n",
              "      <td>50000</td>\n",
              "      <td>54000</td>\n",
              "      <td>402</td>\n",
              "      <td>528</td>\n",
              "      <td>144</td>\n",
              "    </tr>\n",
              "    <tr>\n",
              "      <th>20</th>\n",
              "      <td>21</td>\n",
              "      <td>2102</td>\n",
              "      <td>COMPUTER SCIENCE</td>\n",
              "      <td>Computers &amp; Mathematics</td>\n",
              "      <td>128319</td>\n",
              "      <td>1196</td>\n",
              "      <td>1837</td>\n",
              "      <td>2524</td>\n",
              "      <td>0.578766</td>\n",
              "      <td>102087</td>\n",
              "      <td>91485</td>\n",
              "      <td>18726</td>\n",
              "      <td>70932</td>\n",
              "      <td>6884</td>\n",
              "      <td>0.063173</td>\n",
              "      <td>53000</td>\n",
              "      <td>39000</td>\n",
              "      <td>70000</td>\n",
              "      <td>68622</td>\n",
              "      <td>25667</td>\n",
              "      <td>5144</td>\n",
              "    </tr>\n",
              "    <tr>\n",
              "      <th>21</th>\n",
              "      <td>22</td>\n",
              "      <td>1104</td>\n",
              "      <td>FOOD SCIENCE</td>\n",
              "      <td>Agriculture &amp; Natural Resources</td>\n",
              "      <td>4361</td>\n",
              "      <td>36</td>\n",
              "      <td>99743</td>\n",
              "      <td>28576</td>\n",
              "      <td>0.222695</td>\n",
              "      <td>3149</td>\n",
              "      <td>2558</td>\n",
              "      <td>1121</td>\n",
              "      <td>1735</td>\n",
              "      <td>338</td>\n",
              "      <td>0.096931</td>\n",
              "      <td>53000</td>\n",
              "      <td>32000</td>\n",
              "      <td>70000</td>\n",
              "      <td>1183</td>\n",
              "      <td>1274</td>\n",
              "      <td>485</td>\n",
              "    </tr>\n",
              "    <tr>\n",
              "      <th>22</th>\n",
              "      <td>23</td>\n",
              "      <td>2502</td>\n",
              "      <td>ELECTRICAL ENGINEERING TECHNOLOGY</td>\n",
              "      <td>Engineering</td>\n",
              "      <td>11565</td>\n",
              "      <td>97</td>\n",
              "      <td>2020</td>\n",
              "      <td>973</td>\n",
              "      <td>0.325092</td>\n",
              "      <td>8587</td>\n",
              "      <td>7530</td>\n",
              "      <td>1873</td>\n",
              "      <td>5681</td>\n",
              "      <td>824</td>\n",
              "      <td>0.087557</td>\n",
              "      <td>52000</td>\n",
              "      <td>35000</td>\n",
              "      <td>60000</td>\n",
              "      <td>5126</td>\n",
              "      <td>2686</td>\n",
              "      <td>696</td>\n",
              "    </tr>\n",
              "    <tr>\n",
              "      <th>23</th>\n",
              "      <td>24</td>\n",
              "      <td>2413</td>\n",
              "      <td>MATERIALS ENGINEERING AND MATERIALS SCIENCE</td>\n",
              "      <td>Engineering</td>\n",
              "      <td>2993</td>\n",
              "      <td>22</td>\n",
              "      <td>8181</td>\n",
              "      <td>3384</td>\n",
              "      <td>0.292607</td>\n",
              "      <td>2449</td>\n",
              "      <td>1658</td>\n",
              "      <td>1040</td>\n",
              "      <td>1151</td>\n",
              "      <td>70</td>\n",
              "      <td>0.027789</td>\n",
              "      <td>52000</td>\n",
              "      <td>35000</td>\n",
              "      <td>62000</td>\n",
              "      <td>1911</td>\n",
              "      <td>305</td>\n",
              "      <td>70</td>\n",
              "    </tr>\n",
              "    <tr>\n",
              "      <th>24</th>\n",
              "      <td>25</td>\n",
              "      <td>6212</td>\n",
              "      <td>MANAGEMENT INFORMATION SYSTEMS AND STATISTICS</td>\n",
              "      <td>Business</td>\n",
              "      <td>18713</td>\n",
              "      <td>278</td>\n",
              "      <td>13496</td>\n",
              "      <td>5217</td>\n",
              "      <td>0.278790</td>\n",
              "      <td>16413</td>\n",
              "      <td>15141</td>\n",
              "      <td>2420</td>\n",
              "      <td>13017</td>\n",
              "      <td>1015</td>\n",
              "      <td>0.058240</td>\n",
              "      <td>51000</td>\n",
              "      <td>38000</td>\n",
              "      <td>60000</td>\n",
              "      <td>6342</td>\n",
              "      <td>5741</td>\n",
              "      <td>708</td>\n",
              "    </tr>\n",
              "    <tr>\n",
              "      <th>25</th>\n",
              "      <td>26</td>\n",
              "      <td>2406</td>\n",
              "      <td>CIVIL ENGINEERING</td>\n",
              "      <td>Engineering</td>\n",
              "      <td>53153</td>\n",
              "      <td>565</td>\n",
              "      <td>41081</td>\n",
              "      <td>12072</td>\n",
              "      <td>0.227118</td>\n",
              "      <td>43041</td>\n",
              "      <td>38302</td>\n",
              "      <td>10080</td>\n",
              "      <td>29196</td>\n",
              "      <td>3270</td>\n",
              "      <td>0.070610</td>\n",
              "      <td>50000</td>\n",
              "      <td>40000</td>\n",
              "      <td>60000</td>\n",
              "      <td>28526</td>\n",
              "      <td>9356</td>\n",
              "      <td>2899</td>\n",
              "    </tr>\n",
              "    <tr>\n",
              "      <th>26</th>\n",
              "      <td>27</td>\n",
              "      <td>5601</td>\n",
              "      <td>CONSTRUCTION SERVICES</td>\n",
              "      <td>Industrial Arts &amp; Consumer Services</td>\n",
              "      <td>18498</td>\n",
              "      <td>295</td>\n",
              "      <td>2662</td>\n",
              "      <td>1385</td>\n",
              "      <td>0.342229</td>\n",
              "      <td>16318</td>\n",
              "      <td>15690</td>\n",
              "      <td>1751</td>\n",
              "      <td>12313</td>\n",
              "      <td>1042</td>\n",
              "      <td>0.060023</td>\n",
              "      <td>50000</td>\n",
              "      <td>36000</td>\n",
              "      <td>60000</td>\n",
              "      <td>3275</td>\n",
              "      <td>5351</td>\n",
              "      <td>703</td>\n",
              "    </tr>\n",
              "    <tr>\n",
              "      <th>27</th>\n",
              "      <td>28</td>\n",
              "      <td>6204</td>\n",
              "      <td>OPERATIONS LOGISTICS AND E-COMMERCE</td>\n",
              "      <td>Business</td>\n",
              "      <td>11732</td>\n",
              "      <td>156</td>\n",
              "      <td>488</td>\n",
              "      <td>232</td>\n",
              "      <td>0.322222</td>\n",
              "      <td>10027</td>\n",
              "      <td>9639</td>\n",
              "      <td>1183</td>\n",
              "      <td>7724</td>\n",
              "      <td>504</td>\n",
              "      <td>0.047859</td>\n",
              "      <td>50000</td>\n",
              "      <td>40000</td>\n",
              "      <td>60000</td>\n",
              "      <td>1466</td>\n",
              "      <td>3629</td>\n",
              "      <td>285</td>\n",
              "    </tr>\n",
              "    <tr>\n",
              "      <th>28</th>\n",
              "      <td>29</td>\n",
              "      <td>2499</td>\n",
              "      <td>MISCELLANEOUS ENGINEERING</td>\n",
              "      <td>Engineering</td>\n",
              "      <td>9133</td>\n",
              "      <td>118</td>\n",
              "      <td>7398</td>\n",
              "      <td>1735</td>\n",
              "      <td>0.189970</td>\n",
              "      <td>7428</td>\n",
              "      <td>6811</td>\n",
              "      <td>1662</td>\n",
              "      <td>5476</td>\n",
              "      <td>597</td>\n",
              "      <td>0.074393</td>\n",
              "      <td>50000</td>\n",
              "      <td>39000</td>\n",
              "      <td>65000</td>\n",
              "      <td>3445</td>\n",
              "      <td>2426</td>\n",
              "      <td>365</td>\n",
              "    </tr>\n",
              "    <tr>\n",
              "      <th>29</th>\n",
              "      <td>30</td>\n",
              "      <td>5402</td>\n",
              "      <td>PUBLIC POLICY</td>\n",
              "      <td>Law &amp; Public Policy</td>\n",
              "      <td>5978</td>\n",
              "      <td>55</td>\n",
              "      <td>2695</td>\n",
              "      <td>905</td>\n",
              "      <td>0.251389</td>\n",
              "      <td>4547</td>\n",
              "      <td>4163</td>\n",
              "      <td>1306</td>\n",
              "      <td>2776</td>\n",
              "      <td>670</td>\n",
              "      <td>0.128426</td>\n",
              "      <td>50000</td>\n",
              "      <td>35000</td>\n",
              "      <td>70000</td>\n",
              "      <td>1550</td>\n",
              "      <td>1871</td>\n",
              "      <td>340</td>\n",
              "    </tr>\n",
              "    <tr>\n",
              "      <th>...</th>\n",
              "      <td>...</td>\n",
              "      <td>...</td>\n",
              "      <td>...</td>\n",
              "      <td>...</td>\n",
              "      <td>...</td>\n",
              "      <td>...</td>\n",
              "      <td>...</td>\n",
              "      <td>...</td>\n",
              "      <td>...</td>\n",
              "      <td>...</td>\n",
              "      <td>...</td>\n",
              "      <td>...</td>\n",
              "      <td>...</td>\n",
              "      <td>...</td>\n",
              "      <td>...</td>\n",
              "      <td>...</td>\n",
              "      <td>...</td>\n",
              "      <td>...</td>\n",
              "      <td>...</td>\n",
              "      <td>...</td>\n",
              "      <td>...</td>\n",
              "    </tr>\n",
              "    <tr>\n",
              "      <th>143</th>\n",
              "      <td>144</td>\n",
              "      <td>1105</td>\n",
              "      <td>PLANT SCIENCE AND AGRONOMY</td>\n",
              "      <td>Agriculture &amp; Natural Resources</td>\n",
              "      <td>7416</td>\n",
              "      <td>110</td>\n",
              "      <td>5079</td>\n",
              "      <td>7841</td>\n",
              "      <td>0.606889</td>\n",
              "      <td>6594</td>\n",
              "      <td>5798</td>\n",
              "      <td>1246</td>\n",
              "      <td>4522</td>\n",
              "      <td>314</td>\n",
              "      <td>0.045455</td>\n",
              "      <td>32000</td>\n",
              "      <td>22900</td>\n",
              "      <td>40000</td>\n",
              "      <td>2089</td>\n",
              "      <td>3545</td>\n",
              "      <td>1231</td>\n",
              "    </tr>\n",
              "    <tr>\n",
              "      <th>144</th>\n",
              "      <td>145</td>\n",
              "      <td>2308</td>\n",
              "      <td>SCIENCE AND COMPUTER TEACHER EDUCATION</td>\n",
              "      <td>Education</td>\n",
              "      <td>6483</td>\n",
              "      <td>59</td>\n",
              "      <td>22357</td>\n",
              "      <td>16404</td>\n",
              "      <td>0.423209</td>\n",
              "      <td>5362</td>\n",
              "      <td>4764</td>\n",
              "      <td>1227</td>\n",
              "      <td>3247</td>\n",
              "      <td>266</td>\n",
              "      <td>0.047264</td>\n",
              "      <td>32000</td>\n",
              "      <td>28000</td>\n",
              "      <td>39000</td>\n",
              "      <td>4214</td>\n",
              "      <td>1106</td>\n",
              "      <td>591</td>\n",
              "    </tr>\n",
              "    <tr>\n",
              "      <th>145</th>\n",
              "      <td>146</td>\n",
              "      <td>5200</td>\n",
              "      <td>PSYCHOLOGY</td>\n",
              "      <td>Psychology &amp; Social Work</td>\n",
              "      <td>393735</td>\n",
              "      <td>2584</td>\n",
              "      <td>86648</td>\n",
              "      <td>307087</td>\n",
              "      <td>0.779933</td>\n",
              "      <td>307933</td>\n",
              "      <td>233205</td>\n",
              "      <td>115172</td>\n",
              "      <td>174438</td>\n",
              "      <td>28169</td>\n",
              "      <td>0.083811</td>\n",
              "      <td>31500</td>\n",
              "      <td>24000</td>\n",
              "      <td>41000</td>\n",
              "      <td>125148</td>\n",
              "      <td>141860</td>\n",
              "      <td>48207</td>\n",
              "    </tr>\n",
              "    <tr>\n",
              "      <th>146</th>\n",
              "      <td>147</td>\n",
              "      <td>6002</td>\n",
              "      <td>MUSIC</td>\n",
              "      <td>Arts</td>\n",
              "      <td>60633</td>\n",
              "      <td>419</td>\n",
              "      <td>15670</td>\n",
              "      <td>12543</td>\n",
              "      <td>0.444582</td>\n",
              "      <td>47662</td>\n",
              "      <td>29010</td>\n",
              "      <td>24943</td>\n",
              "      <td>21425</td>\n",
              "      <td>3918</td>\n",
              "      <td>0.075960</td>\n",
              "      <td>31000</td>\n",
              "      <td>22300</td>\n",
              "      <td>42000</td>\n",
              "      <td>13752</td>\n",
              "      <td>28786</td>\n",
              "      <td>9286</td>\n",
              "    </tr>\n",
              "    <tr>\n",
              "      <th>147</th>\n",
              "      <td>148</td>\n",
              "      <td>2306</td>\n",
              "      <td>PHYSICAL AND HEALTH EDUCATION TEACHING</td>\n",
              "      <td>Education</td>\n",
              "      <td>28213</td>\n",
              "      <td>259</td>\n",
              "      <td>29909</td>\n",
              "      <td>30724</td>\n",
              "      <td>0.506721</td>\n",
              "      <td>23794</td>\n",
              "      <td>19420</td>\n",
              "      <td>7230</td>\n",
              "      <td>13651</td>\n",
              "      <td>1920</td>\n",
              "      <td>0.074667</td>\n",
              "      <td>31000</td>\n",
              "      <td>24000</td>\n",
              "      <td>40000</td>\n",
              "      <td>12777</td>\n",
              "      <td>9328</td>\n",
              "      <td>2042</td>\n",
              "    </tr>\n",
              "    <tr>\n",
              "      <th>148</th>\n",
              "      <td>149</td>\n",
              "      <td>6006</td>\n",
              "      <td>ART HISTORY AND CRITICISM</td>\n",
              "      <td>Humanities &amp; Liberal Arts</td>\n",
              "      <td>21030</td>\n",
              "      <td>204</td>\n",
              "      <td>3240</td>\n",
              "      <td>17790</td>\n",
              "      <td>0.845934</td>\n",
              "      <td>17579</td>\n",
              "      <td>13262</td>\n",
              "      <td>6140</td>\n",
              "      <td>9965</td>\n",
              "      <td>1128</td>\n",
              "      <td>0.060298</td>\n",
              "      <td>31000</td>\n",
              "      <td>23000</td>\n",
              "      <td>40000</td>\n",
              "      <td>5139</td>\n",
              "      <td>9738</td>\n",
              "      <td>3426</td>\n",
              "    </tr>\n",
              "    <tr>\n",
              "      <th>149</th>\n",
              "      <td>150</td>\n",
              "      <td>6000</td>\n",
              "      <td>FINE ARTS</td>\n",
              "      <td>Arts</td>\n",
              "      <td>74440</td>\n",
              "      <td>623</td>\n",
              "      <td>24786</td>\n",
              "      <td>49654</td>\n",
              "      <td>0.667034</td>\n",
              "      <td>59679</td>\n",
              "      <td>42764</td>\n",
              "      <td>23656</td>\n",
              "      <td>31877</td>\n",
              "      <td>5486</td>\n",
              "      <td>0.084186</td>\n",
              "      <td>30500</td>\n",
              "      <td>21000</td>\n",
              "      <td>41000</td>\n",
              "      <td>20792</td>\n",
              "      <td>32725</td>\n",
              "      <td>11880</td>\n",
              "    </tr>\n",
              "    <tr>\n",
              "      <th>150</th>\n",
              "      <td>151</td>\n",
              "      <td>2901</td>\n",
              "      <td>FAMILY AND CONSUMER SCIENCES</td>\n",
              "      <td>Industrial Arts &amp; Consumer Services</td>\n",
              "      <td>58001</td>\n",
              "      <td>518</td>\n",
              "      <td>5347</td>\n",
              "      <td>16226</td>\n",
              "      <td>0.752144</td>\n",
              "      <td>46624</td>\n",
              "      <td>36747</td>\n",
              "      <td>15872</td>\n",
              "      <td>26906</td>\n",
              "      <td>3355</td>\n",
              "      <td>0.067128</td>\n",
              "      <td>30000</td>\n",
              "      <td>22900</td>\n",
              "      <td>40000</td>\n",
              "      <td>20985</td>\n",
              "      <td>20133</td>\n",
              "      <td>5248</td>\n",
              "    </tr>\n",
              "    <tr>\n",
              "      <th>151</th>\n",
              "      <td>152</td>\n",
              "      <td>5404</td>\n",
              "      <td>SOCIAL WORK</td>\n",
              "      <td>Psychology &amp; Social Work</td>\n",
              "      <td>53552</td>\n",
              "      <td>374</td>\n",
              "      <td>2734</td>\n",
              "      <td>11709</td>\n",
              "      <td>0.810704</td>\n",
              "      <td>45038</td>\n",
              "      <td>34941</td>\n",
              "      <td>13481</td>\n",
              "      <td>27588</td>\n",
              "      <td>3329</td>\n",
              "      <td>0.068828</td>\n",
              "      <td>30000</td>\n",
              "      <td>25000</td>\n",
              "      <td>35000</td>\n",
              "      <td>27449</td>\n",
              "      <td>14416</td>\n",
              "      <td>4344</td>\n",
              "    </tr>\n",
              "    <tr>\n",
              "      <th>152</th>\n",
              "      <td>153</td>\n",
              "      <td>1103</td>\n",
              "      <td>ANIMAL SCIENCES</td>\n",
              "      <td>Agriculture &amp; Natural Resources</td>\n",
              "      <td>21573</td>\n",
              "      <td>255</td>\n",
              "      <td>5166</td>\n",
              "      <td>52835</td>\n",
              "      <td>0.910933</td>\n",
              "      <td>17112</td>\n",
              "      <td>14479</td>\n",
              "      <td>5353</td>\n",
              "      <td>10824</td>\n",
              "      <td>917</td>\n",
              "      <td>0.050862</td>\n",
              "      <td>30000</td>\n",
              "      <td>22000</td>\n",
              "      <td>40000</td>\n",
              "      <td>5443</td>\n",
              "      <td>9571</td>\n",
              "      <td>2125</td>\n",
              "    </tr>\n",
              "    <tr>\n",
              "      <th>153</th>\n",
              "      <td>154</td>\n",
              "      <td>6003</td>\n",
              "      <td>VISUAL AND PERFORMING ARTS</td>\n",
              "      <td>Arts</td>\n",
              "      <td>16250</td>\n",
              "      <td>132</td>\n",
              "      <td>2013</td>\n",
              "      <td>4639</td>\n",
              "      <td>0.697384</td>\n",
              "      <td>12870</td>\n",
              "      <td>8447</td>\n",
              "      <td>6253</td>\n",
              "      <td>6322</td>\n",
              "      <td>1465</td>\n",
              "      <td>0.102197</td>\n",
              "      <td>30000</td>\n",
              "      <td>22000</td>\n",
              "      <td>40000</td>\n",
              "      <td>3849</td>\n",
              "      <td>7635</td>\n",
              "      <td>2840</td>\n",
              "    </tr>\n",
              "    <tr>\n",
              "      <th>154</th>\n",
              "      <td>155</td>\n",
              "      <td>2312</td>\n",
              "      <td>TEACHER EDUCATION: MULTIPLE LEVELS</td>\n",
              "      <td>Education</td>\n",
              "      <td>14443</td>\n",
              "      <td>142</td>\n",
              "      <td>1936</td>\n",
              "      <td>7692</td>\n",
              "      <td>0.798920</td>\n",
              "      <td>13076</td>\n",
              "      <td>11734</td>\n",
              "      <td>2214</td>\n",
              "      <td>8457</td>\n",
              "      <td>496</td>\n",
              "      <td>0.036546</td>\n",
              "      <td>30000</td>\n",
              "      <td>24000</td>\n",
              "      <td>37000</td>\n",
              "      <td>10766</td>\n",
              "      <td>1949</td>\n",
              "      <td>722</td>\n",
              "    </tr>\n",
              "    <tr>\n",
              "      <th>155</th>\n",
              "      <td>156</td>\n",
              "      <td>5299</td>\n",
              "      <td>MISCELLANEOUS PSYCHOLOGY</td>\n",
              "      <td>Psychology &amp; Social Work</td>\n",
              "      <td>9628</td>\n",
              "      <td>60</td>\n",
              "      <td>885</td>\n",
              "      <td>8489</td>\n",
              "      <td>0.905590</td>\n",
              "      <td>7653</td>\n",
              "      <td>5201</td>\n",
              "      <td>3221</td>\n",
              "      <td>3838</td>\n",
              "      <td>419</td>\n",
              "      <td>0.051908</td>\n",
              "      <td>30000</td>\n",
              "      <td>20800</td>\n",
              "      <td>40000</td>\n",
              "      <td>2960</td>\n",
              "      <td>3948</td>\n",
              "      <td>1650</td>\n",
              "    </tr>\n",
              "    <tr>\n",
              "      <th>156</th>\n",
              "      <td>157</td>\n",
              "      <td>5403</td>\n",
              "      <td>HUMAN SERVICES AND COMMUNITY ORGANIZATION</td>\n",
              "      <td>Psychology &amp; Social Work</td>\n",
              "      <td>9374</td>\n",
              "      <td>89</td>\n",
              "      <td>5137</td>\n",
              "      <td>48415</td>\n",
              "      <td>0.904075</td>\n",
              "      <td>8294</td>\n",
              "      <td>6455</td>\n",
              "      <td>2405</td>\n",
              "      <td>5061</td>\n",
              "      <td>326</td>\n",
              "      <td>0.037819</td>\n",
              "      <td>30000</td>\n",
              "      <td>24000</td>\n",
              "      <td>35000</td>\n",
              "      <td>2878</td>\n",
              "      <td>4595</td>\n",
              "      <td>724</td>\n",
              "    </tr>\n",
              "    <tr>\n",
              "      <th>157</th>\n",
              "      <td>158</td>\n",
              "      <td>3402</td>\n",
              "      <td>HUMANITIES</td>\n",
              "      <td>Humanities &amp; Liberal Arts</td>\n",
              "      <td>6652</td>\n",
              "      <td>49</td>\n",
              "      <td>4133</td>\n",
              "      <td>12117</td>\n",
              "      <td>0.745662</td>\n",
              "      <td>5052</td>\n",
              "      <td>3565</td>\n",
              "      <td>2225</td>\n",
              "      <td>2661</td>\n",
              "      <td>372</td>\n",
              "      <td>0.068584</td>\n",
              "      <td>30000</td>\n",
              "      <td>20000</td>\n",
              "      <td>49000</td>\n",
              "      <td>1168</td>\n",
              "      <td>3354</td>\n",
              "      <td>1141</td>\n",
              "    </tr>\n",
              "    <tr>\n",
              "      <th>158</th>\n",
              "      <td>159</td>\n",
              "      <td>4901</td>\n",
              "      <td>THEOLOGY AND RELIGIOUS VOCATIONS</td>\n",
              "      <td>Humanities &amp; Liberal Arts</td>\n",
              "      <td>30207</td>\n",
              "      <td>310</td>\n",
              "      <td>404</td>\n",
              "      <td>1084</td>\n",
              "      <td>0.728495</td>\n",
              "      <td>24202</td>\n",
              "      <td>18079</td>\n",
              "      <td>8767</td>\n",
              "      <td>13944</td>\n",
              "      <td>1617</td>\n",
              "      <td>0.062628</td>\n",
              "      <td>29000</td>\n",
              "      <td>22000</td>\n",
              "      <td>38000</td>\n",
              "      <td>9927</td>\n",
              "      <td>12037</td>\n",
              "      <td>3304</td>\n",
              "    </tr>\n",
              "    <tr>\n",
              "      <th>159</th>\n",
              "      <td>160</td>\n",
              "      <td>6007</td>\n",
              "      <td>STUDIO ARTS</td>\n",
              "      <td>Arts</td>\n",
              "      <td>16977</td>\n",
              "      <td>182</td>\n",
              "      <td>4364</td>\n",
              "      <td>6146</td>\n",
              "      <td>0.584776</td>\n",
              "      <td>13908</td>\n",
              "      <td>10451</td>\n",
              "      <td>5673</td>\n",
              "      <td>7413</td>\n",
              "      <td>1368</td>\n",
              "      <td>0.089552</td>\n",
              "      <td>29000</td>\n",
              "      <td>19200</td>\n",
              "      <td>38300</td>\n",
              "      <td>3948</td>\n",
              "      <td>8707</td>\n",
              "      <td>3586</td>\n",
              "    </tr>\n",
              "    <tr>\n",
              "      <th>160</th>\n",
              "      <td>161</td>\n",
              "      <td>2201</td>\n",
              "      <td>COSMETOLOGY SERVICES AND CULINARY ARTS</td>\n",
              "      <td>Industrial Arts &amp; Consumer Services</td>\n",
              "      <td>10510</td>\n",
              "      <td>117</td>\n",
              "      <td>18616</td>\n",
              "      <td>11591</td>\n",
              "      <td>0.383719</td>\n",
              "      <td>8650</td>\n",
              "      <td>7662</td>\n",
              "      <td>2064</td>\n",
              "      <td>5949</td>\n",
              "      <td>510</td>\n",
              "      <td>0.055677</td>\n",
              "      <td>29000</td>\n",
              "      <td>20000</td>\n",
              "      <td>36000</td>\n",
              "      <td>563</td>\n",
              "      <td>7384</td>\n",
              "      <td>3163</td>\n",
              "    </tr>\n",
              "    <tr>\n",
              "      <th>161</th>\n",
              "      <td>162</td>\n",
              "      <td>1199</td>\n",
              "      <td>MISCELLANEOUS AGRICULTURE</td>\n",
              "      <td>Agriculture &amp; Natural Resources</td>\n",
              "      <td>1488</td>\n",
              "      <td>24</td>\n",
              "      <td>4754</td>\n",
              "      <td>12223</td>\n",
              "      <td>0.719974</td>\n",
              "      <td>1290</td>\n",
              "      <td>1098</td>\n",
              "      <td>335</td>\n",
              "      <td>936</td>\n",
              "      <td>82</td>\n",
              "      <td>0.059767</td>\n",
              "      <td>29000</td>\n",
              "      <td>23000</td>\n",
              "      <td>42100</td>\n",
              "      <td>483</td>\n",
              "      <td>626</td>\n",
              "      <td>31</td>\n",
              "    </tr>\n",
              "    <tr>\n",
              "      <th>162</th>\n",
              "      <td>163</td>\n",
              "      <td>5502</td>\n",
              "      <td>ANTHROPOLOGY AND ARCHEOLOGY</td>\n",
              "      <td>Humanities &amp; Liberal Arts</td>\n",
              "      <td>38844</td>\n",
              "      <td>247</td>\n",
              "      <td>1167</td>\n",
              "      <td>36422</td>\n",
              "      <td>0.968954</td>\n",
              "      <td>29633</td>\n",
              "      <td>20147</td>\n",
              "      <td>14515</td>\n",
              "      <td>13232</td>\n",
              "      <td>3395</td>\n",
              "      <td>0.102792</td>\n",
              "      <td>28000</td>\n",
              "      <td>20000</td>\n",
              "      <td>38000</td>\n",
              "      <td>9805</td>\n",
              "      <td>16693</td>\n",
              "      <td>6866</td>\n",
              "    </tr>\n",
              "    <tr>\n",
              "      <th>163</th>\n",
              "      <td>164</td>\n",
              "      <td>6102</td>\n",
              "      <td>COMMUNICATION DISORDERS SCIENCES AND SERVICES</td>\n",
              "      <td>Health</td>\n",
              "      <td>38279</td>\n",
              "      <td>95</td>\n",
              "      <td>11376</td>\n",
              "      <td>27468</td>\n",
              "      <td>0.707136</td>\n",
              "      <td>29763</td>\n",
              "      <td>19975</td>\n",
              "      <td>13862</td>\n",
              "      <td>14460</td>\n",
              "      <td>1487</td>\n",
              "      <td>0.047584</td>\n",
              "      <td>28000</td>\n",
              "      <td>20000</td>\n",
              "      <td>40000</td>\n",
              "      <td>19957</td>\n",
              "      <td>9404</td>\n",
              "      <td>5125</td>\n",
              "    </tr>\n",
              "    <tr>\n",
              "      <th>164</th>\n",
              "      <td>165</td>\n",
              "      <td>2307</td>\n",
              "      <td>EARLY CHILDHOOD EDUCATION</td>\n",
              "      <td>Education</td>\n",
              "      <td>37589</td>\n",
              "      <td>342</td>\n",
              "      <td>1225</td>\n",
              "      <td>37054</td>\n",
              "      <td>0.967998</td>\n",
              "      <td>32551</td>\n",
              "      <td>27569</td>\n",
              "      <td>7001</td>\n",
              "      <td>20748</td>\n",
              "      <td>1360</td>\n",
              "      <td>0.040105</td>\n",
              "      <td>28000</td>\n",
              "      <td>21000</td>\n",
              "      <td>35000</td>\n",
              "      <td>23515</td>\n",
              "      <td>7705</td>\n",
              "      <td>2868</td>\n",
              "    </tr>\n",
              "    <tr>\n",
              "      <th>165</th>\n",
              "      <td>166</td>\n",
              "      <td>2603</td>\n",
              "      <td>OTHER FOREIGN LANGUAGES</td>\n",
              "      <td>Humanities &amp; Liberal Arts</td>\n",
              "      <td>11204</td>\n",
              "      <td>56</td>\n",
              "      <td>3472</td>\n",
              "      <td>7732</td>\n",
              "      <td>0.690111</td>\n",
              "      <td>7052</td>\n",
              "      <td>5197</td>\n",
              "      <td>3685</td>\n",
              "      <td>3214</td>\n",
              "      <td>846</td>\n",
              "      <td>0.107116</td>\n",
              "      <td>27500</td>\n",
              "      <td>22900</td>\n",
              "      <td>38000</td>\n",
              "      <td>2326</td>\n",
              "      <td>3703</td>\n",
              "      <td>1115</td>\n",
              "    </tr>\n",
              "    <tr>\n",
              "      <th>166</th>\n",
              "      <td>167</td>\n",
              "      <td>6001</td>\n",
              "      <td>DRAMA AND THEATER ARTS</td>\n",
              "      <td>Arts</td>\n",
              "      <td>43249</td>\n",
              "      <td>357</td>\n",
              "      <td>7022</td>\n",
              "      <td>11931</td>\n",
              "      <td>0.629505</td>\n",
              "      <td>36165</td>\n",
              "      <td>25147</td>\n",
              "      <td>15994</td>\n",
              "      <td>16891</td>\n",
              "      <td>3040</td>\n",
              "      <td>0.077541</td>\n",
              "      <td>27000</td>\n",
              "      <td>19200</td>\n",
              "      <td>35000</td>\n",
              "      <td>6994</td>\n",
              "      <td>25313</td>\n",
              "      <td>11068</td>\n",
              "    </tr>\n",
              "    <tr>\n",
              "      <th>167</th>\n",
              "      <td>168</td>\n",
              "      <td>3302</td>\n",
              "      <td>COMPOSITION AND RHETORIC</td>\n",
              "      <td>Humanities &amp; Liberal Arts</td>\n",
              "      <td>18953</td>\n",
              "      <td>151</td>\n",
              "      <td>14440</td>\n",
              "      <td>28809</td>\n",
              "      <td>0.666119</td>\n",
              "      <td>15053</td>\n",
              "      <td>10121</td>\n",
              "      <td>6612</td>\n",
              "      <td>7832</td>\n",
              "      <td>1340</td>\n",
              "      <td>0.081742</td>\n",
              "      <td>27000</td>\n",
              "      <td>20000</td>\n",
              "      <td>35000</td>\n",
              "      <td>4855</td>\n",
              "      <td>8100</td>\n",
              "      <td>3466</td>\n",
              "    </tr>\n",
              "    <tr>\n",
              "      <th>168</th>\n",
              "      <td>169</td>\n",
              "      <td>3609</td>\n",
              "      <td>ZOOLOGY</td>\n",
              "      <td>Biology &amp; Life Science</td>\n",
              "      <td>8409</td>\n",
              "      <td>47</td>\n",
              "      <td>3050</td>\n",
              "      <td>5359</td>\n",
              "      <td>0.637293</td>\n",
              "      <td>6259</td>\n",
              "      <td>5043</td>\n",
              "      <td>2190</td>\n",
              "      <td>3602</td>\n",
              "      <td>304</td>\n",
              "      <td>0.046320</td>\n",
              "      <td>26000</td>\n",
              "      <td>20000</td>\n",
              "      <td>39000</td>\n",
              "      <td>2771</td>\n",
              "      <td>2947</td>\n",
              "      <td>743</td>\n",
              "    </tr>\n",
              "    <tr>\n",
              "      <th>169</th>\n",
              "      <td>170</td>\n",
              "      <td>5201</td>\n",
              "      <td>EDUCATIONAL PSYCHOLOGY</td>\n",
              "      <td>Psychology &amp; Social Work</td>\n",
              "      <td>2854</td>\n",
              "      <td>7</td>\n",
              "      <td>522</td>\n",
              "      <td>2332</td>\n",
              "      <td>0.817099</td>\n",
              "      <td>2125</td>\n",
              "      <td>1848</td>\n",
              "      <td>572</td>\n",
              "      <td>1211</td>\n",
              "      <td>148</td>\n",
              "      <td>0.065112</td>\n",
              "      <td>25000</td>\n",
              "      <td>24000</td>\n",
              "      <td>34000</td>\n",
              "      <td>1488</td>\n",
              "      <td>615</td>\n",
              "      <td>82</td>\n",
              "    </tr>\n",
              "    <tr>\n",
              "      <th>170</th>\n",
              "      <td>171</td>\n",
              "      <td>5202</td>\n",
              "      <td>CLINICAL PSYCHOLOGY</td>\n",
              "      <td>Psychology &amp; Social Work</td>\n",
              "      <td>2838</td>\n",
              "      <td>13</td>\n",
              "      <td>568</td>\n",
              "      <td>2270</td>\n",
              "      <td>0.799859</td>\n",
              "      <td>2101</td>\n",
              "      <td>1724</td>\n",
              "      <td>648</td>\n",
              "      <td>1293</td>\n",
              "      <td>368</td>\n",
              "      <td>0.149048</td>\n",
              "      <td>25000</td>\n",
              "      <td>25000</td>\n",
              "      <td>40000</td>\n",
              "      <td>986</td>\n",
              "      <td>870</td>\n",
              "      <td>622</td>\n",
              "    </tr>\n",
              "    <tr>\n",
              "      <th>171</th>\n",
              "      <td>172</td>\n",
              "      <td>5203</td>\n",
              "      <td>COUNSELING PSYCHOLOGY</td>\n",
              "      <td>Psychology &amp; Social Work</td>\n",
              "      <td>4626</td>\n",
              "      <td>21</td>\n",
              "      <td>931</td>\n",
              "      <td>3695</td>\n",
              "      <td>0.798746</td>\n",
              "      <td>3777</td>\n",
              "      <td>3154</td>\n",
              "      <td>965</td>\n",
              "      <td>2738</td>\n",
              "      <td>214</td>\n",
              "      <td>0.053621</td>\n",
              "      <td>23400</td>\n",
              "      <td>19200</td>\n",
              "      <td>26000</td>\n",
              "      <td>2403</td>\n",
              "      <td>1245</td>\n",
              "      <td>308</td>\n",
              "    </tr>\n",
              "    <tr>\n",
              "      <th>172</th>\n",
              "      <td>173</td>\n",
              "      <td>3501</td>\n",
              "      <td>LIBRARY SCIENCE</td>\n",
              "      <td>Education</td>\n",
              "      <td>1098</td>\n",
              "      <td>2</td>\n",
              "      <td>134</td>\n",
              "      <td>964</td>\n",
              "      <td>0.877960</td>\n",
              "      <td>742</td>\n",
              "      <td>593</td>\n",
              "      <td>237</td>\n",
              "      <td>410</td>\n",
              "      <td>87</td>\n",
              "      <td>0.104946</td>\n",
              "      <td>22000</td>\n",
              "      <td>20000</td>\n",
              "      <td>22000</td>\n",
              "      <td>288</td>\n",
              "      <td>338</td>\n",
              "      <td>192</td>\n",
              "    </tr>\n",
              "  </tbody>\n",
              "</table>\n",
              "<p>173 rows × 21 columns</p>\n",
              "</div>"
            ],
            "text/plain": [
              "     Rank  Major_code  ... Non_college_jobs Low_wage_jobs\n",
              "0       1        2419  ...              364           193\n",
              "1       2        2416  ...              257            50\n",
              "2       3        2415  ...              176             0\n",
              "3       4        2417  ...              102             0\n",
              "4       5        2405  ...             4440           972\n",
              "5       6        2418  ...              657           244\n",
              "6       7        6202  ...              314           259\n",
              "7       8        5001  ...              500           220\n",
              "8       9        2414  ...            16384          3253\n",
              "9      10        2408  ...            10874          3170\n",
              "10     11        2407  ...             5721           980\n",
              "11     12        2401  ...             2425           372\n",
              "12     13        2404  ...             2471           789\n",
              "13     14        5008  ...              391            81\n",
              "14     15        2409  ...              947           263\n",
              "15     16        2402  ...             1595           524\n",
              "16     17        2412  ...             3235           640\n",
              "17     18        2400  ...            11734          3192\n",
              "18     19        2403  ...              649           137\n",
              "19     20        3201  ...              528           144\n",
              "20     21        2102  ...            25667          5144\n",
              "21     22        1104  ...             1274           485\n",
              "22     23        2502  ...             2686           696\n",
              "23     24        2413  ...              305            70\n",
              "24     25        6212  ...             5741           708\n",
              "25     26        2406  ...             9356          2899\n",
              "26     27        5601  ...             5351           703\n",
              "27     28        6204  ...             3629           285\n",
              "28     29        2499  ...             2426           365\n",
              "29     30        5402  ...             1871           340\n",
              "..    ...         ...  ...              ...           ...\n",
              "143   144        1105  ...             3545          1231\n",
              "144   145        2308  ...             1106           591\n",
              "145   146        5200  ...           141860         48207\n",
              "146   147        6002  ...            28786          9286\n",
              "147   148        2306  ...             9328          2042\n",
              "148   149        6006  ...             9738          3426\n",
              "149   150        6000  ...            32725         11880\n",
              "150   151        2901  ...            20133          5248\n",
              "151   152        5404  ...            14416          4344\n",
              "152   153        1103  ...             9571          2125\n",
              "153   154        6003  ...             7635          2840\n",
              "154   155        2312  ...             1949           722\n",
              "155   156        5299  ...             3948          1650\n",
              "156   157        5403  ...             4595           724\n",
              "157   158        3402  ...             3354          1141\n",
              "158   159        4901  ...            12037          3304\n",
              "159   160        6007  ...             8707          3586\n",
              "160   161        2201  ...             7384          3163\n",
              "161   162        1199  ...              626            31\n",
              "162   163        5502  ...            16693          6866\n",
              "163   164        6102  ...             9404          5125\n",
              "164   165        2307  ...             7705          2868\n",
              "165   166        2603  ...             3703          1115\n",
              "166   167        6001  ...            25313         11068\n",
              "167   168        3302  ...             8100          3466\n",
              "168   169        3609  ...             2947           743\n",
              "169   170        5201  ...              615            82\n",
              "170   171        5202  ...              870           622\n",
              "171   172        5203  ...             1245           308\n",
              "172   173        3501  ...              338           192\n",
              "\n",
              "[173 rows x 21 columns]"
            ]
          },
          "metadata": {
            "tags": []
          },
          "execution_count": 2
        }
      ]
    },
    {
      "cell_type": "code",
      "metadata": {
        "id": "a2E8p5IEIEZp",
        "colab_type": "code",
        "outputId": "b4376206-8939-4002-fdf9-660a2ce9cc26",
        "colab": {
          "base_uri": "https://localhost:8080/",
          "height": 391
        }
      },
      "source": [
        "# First row of dataset\n",
        "print(majors.iloc[0]) "
      ],
      "execution_count": 3,
      "outputs": [
        {
          "output_type": "stream",
          "text": [
            "Rank                                        1\n",
            "Major_code                               2419\n",
            "Major                   PETROLEUM ENGINEERING\n",
            "Major_category                    Engineering\n",
            "Total                                    2339\n",
            "Sample_size                                36\n",
            "Men                                      2057\n",
            "Women                                     282\n",
            "ShareWomen                           0.120564\n",
            "Employed                                 1976\n",
            "Full_time                                1849\n",
            "Part_time                                 270\n",
            "Full_time_year_round                     1207\n",
            "Unemployed                                 37\n",
            "Unemployment_rate                   0.0183805\n",
            "Median                                 110000\n",
            "P25th                                   95000\n",
            "P75th                                  125000\n",
            "College_jobs                             1534\n",
            "Non_college_jobs                          364\n",
            "Low_wage_jobs                             193\n",
            "Name: 0, dtype: object\n"
          ],
          "name": "stdout"
        }
      ]
    },
    {
      "cell_type": "code",
      "metadata": {
        "id": "vEP5RO0jJeF4",
        "colab_type": "code",
        "outputId": "ee591563-5786-4056-e207-4793f3860811",
        "colab": {
          "base_uri": "https://localhost:8080/",
          "height": 238
        }
      },
      "source": [
        "# First ten rows\n",
        "print(majors.head(10)) "
      ],
      "execution_count": 4,
      "outputs": [
        {
          "output_type": "stream",
          "text": [
            "   Rank  Major_code  ... Non_college_jobs Low_wage_jobs\n",
            "0     1        2419  ...              364           193\n",
            "1     2        2416  ...              257            50\n",
            "2     3        2415  ...              176             0\n",
            "3     4        2417  ...              102             0\n",
            "4     5        2405  ...             4440           972\n",
            "5     6        2418  ...              657           244\n",
            "6     7        6202  ...              314           259\n",
            "7     8        5001  ...              500           220\n",
            "8     9        2414  ...            16384          3253\n",
            "9    10        2408  ...            10874          3170\n",
            "\n",
            "[10 rows x 21 columns]\n"
          ],
          "name": "stdout"
        }
      ]
    },
    {
      "cell_type": "code",
      "metadata": {
        "id": "RXOZXGSVJtsB",
        "colab_type": "code",
        "outputId": "d05156e3-3318-47ce-b20c-17b2080bae6f",
        "colab": {
          "base_uri": "https://localhost:8080/",
          "height": 238
        }
      },
      "source": [
        "# Last ten rows\n",
        "print(majors.tail(10)) "
      ],
      "execution_count": 5,
      "outputs": [
        {
          "output_type": "stream",
          "text": [
            "     Rank  Major_code  ... Non_college_jobs Low_wage_jobs\n",
            "163   164        6102  ...             9404          5125\n",
            "164   165        2307  ...             7705          2868\n",
            "165   166        2603  ...             3703          1115\n",
            "166   167        6001  ...            25313         11068\n",
            "167   168        3302  ...             8100          3466\n",
            "168   169        3609  ...             2947           743\n",
            "169   170        5201  ...              615            82\n",
            "170   171        5202  ...              870           622\n",
            "171   172        5203  ...             1245           308\n",
            "172   173        3501  ...              338           192\n",
            "\n",
            "[10 rows x 21 columns]\n"
          ],
          "name": "stdout"
        }
      ]
    },
    {
      "cell_type": "code",
      "metadata": {
        "id": "UZ-OTUrbJ5P-",
        "colab_type": "code",
        "outputId": "711286c0-8359-498e-c19d-c0e1a3f6225d",
        "colab": {
          "base_uri": "https://localhost:8080/",
          "height": 317
        }
      },
      "source": [
        "# Remove NA values\n",
        "majors = majors.dropna() \n",
        "majors.describe()"
      ],
      "execution_count": 6,
      "outputs": [
        {
          "output_type": "execute_result",
          "data": {
            "text/html": [
              "<div>\n",
              "<style scoped>\n",
              "    .dataframe tbody tr th:only-of-type {\n",
              "        vertical-align: middle;\n",
              "    }\n",
              "\n",
              "    .dataframe tbody tr th {\n",
              "        vertical-align: top;\n",
              "    }\n",
              "\n",
              "    .dataframe thead th {\n",
              "        text-align: right;\n",
              "    }\n",
              "</style>\n",
              "<table border=\"1\" class=\"dataframe\">\n",
              "  <thead>\n",
              "    <tr style=\"text-align: right;\">\n",
              "      <th></th>\n",
              "      <th>Rank</th>\n",
              "      <th>Major_code</th>\n",
              "      <th>Total</th>\n",
              "      <th>Sample_size</th>\n",
              "      <th>Men</th>\n",
              "      <th>Women</th>\n",
              "      <th>ShareWomen</th>\n",
              "      <th>Employed</th>\n",
              "      <th>Full_time</th>\n",
              "      <th>Part_time</th>\n",
              "      <th>Full_time_year_round</th>\n",
              "      <th>Unemployed</th>\n",
              "      <th>Unemployment_rate</th>\n",
              "      <th>Median</th>\n",
              "      <th>P25th</th>\n",
              "      <th>P75th</th>\n",
              "      <th>College_jobs</th>\n",
              "      <th>Non_college_jobs</th>\n",
              "      <th>Low_wage_jobs</th>\n",
              "    </tr>\n",
              "  </thead>\n",
              "  <tbody>\n",
              "    <tr>\n",
              "      <th>count</th>\n",
              "      <td>172.000000</td>\n",
              "      <td>172.000000</td>\n",
              "      <td>172.000000</td>\n",
              "      <td>172.000000</td>\n",
              "      <td>172.000000</td>\n",
              "      <td>172.000000</td>\n",
              "      <td>172.000000</td>\n",
              "      <td>172.000000</td>\n",
              "      <td>172.000000</td>\n",
              "      <td>172.000000</td>\n",
              "      <td>172.000000</td>\n",
              "      <td>172.000000</td>\n",
              "      <td>172.000000</td>\n",
              "      <td>172.000000</td>\n",
              "      <td>172.000000</td>\n",
              "      <td>172.000000</td>\n",
              "      <td>172.000000</td>\n",
              "      <td>172.000000</td>\n",
              "      <td>172.000000</td>\n",
              "    </tr>\n",
              "    <tr>\n",
              "      <th>mean</th>\n",
              "      <td>87.075581</td>\n",
              "      <td>3880.273256</td>\n",
              "      <td>39394.715116</td>\n",
              "      <td>358.127907</td>\n",
              "      <td>16723.877907</td>\n",
              "      <td>22653.656977</td>\n",
              "      <td>0.523090</td>\n",
              "      <td>31374.116279</td>\n",
              "      <td>26179.994186</td>\n",
              "      <td>8883.750000</td>\n",
              "      <td>19808.284884</td>\n",
              "      <td>2430.377907</td>\n",
              "      <td>0.068587</td>\n",
              "      <td>40152.325581</td>\n",
              "      <td>29440.406977</td>\n",
              "      <td>51561.046512</td>\n",
              "      <td>12394.279070</td>\n",
              "      <td>13361.732558</td>\n",
              "      <td>3881.453488</td>\n",
              "    </tr>\n",
              "    <tr>\n",
              "      <th>std</th>\n",
              "      <td>50.221266</td>\n",
              "      <td>1692.670105</td>\n",
              "      <td>63468.993551</td>\n",
              "      <td>619.578329</td>\n",
              "      <td>28122.182046</td>\n",
              "      <td>41053.785020</td>\n",
              "      <td>0.231135</td>\n",
              "      <td>50766.623538</td>\n",
              "      <td>42948.847324</td>\n",
              "      <td>14675.322609</td>\n",
              "      <td>33223.830918</td>\n",
              "      <td>4120.646319</td>\n",
              "      <td>0.029967</td>\n",
              "      <td>11503.665592</td>\n",
              "      <td>9157.437674</td>\n",
              "      <td>14923.788658</td>\n",
              "      <td>21341.142889</td>\n",
              "      <td>23837.351017</td>\n",
              "      <td>6958.985234</td>\n",
              "    </tr>\n",
              "    <tr>\n",
              "      <th>min</th>\n",
              "      <td>1.000000</td>\n",
              "      <td>1100.000000</td>\n",
              "      <td>609.000000</td>\n",
              "      <td>2.000000</td>\n",
              "      <td>119.000000</td>\n",
              "      <td>0.000000</td>\n",
              "      <td>0.000000</td>\n",
              "      <td>559.000000</td>\n",
              "      <td>488.000000</td>\n",
              "      <td>0.000000</td>\n",
              "      <td>340.000000</td>\n",
              "      <td>0.000000</td>\n",
              "      <td>0.000000</td>\n",
              "      <td>22000.000000</td>\n",
              "      <td>18500.000000</td>\n",
              "      <td>22000.000000</td>\n",
              "      <td>162.000000</td>\n",
              "      <td>50.000000</td>\n",
              "      <td>0.000000</td>\n",
              "    </tr>\n",
              "    <tr>\n",
              "      <th>25%</th>\n",
              "      <td>43.750000</td>\n",
              "      <td>2402.750000</td>\n",
              "      <td>4559.750000</td>\n",
              "      <td>42.000000</td>\n",
              "      <td>2177.500000</td>\n",
              "      <td>1851.500000</td>\n",
              "      <td>0.336026</td>\n",
              "      <td>3734.750000</td>\n",
              "      <td>3181.000000</td>\n",
              "      <td>1037.500000</td>\n",
              "      <td>2474.750000</td>\n",
              "      <td>307.000000</td>\n",
              "      <td>0.050723</td>\n",
              "      <td>33000.000000</td>\n",
              "      <td>24000.000000</td>\n",
              "      <td>42000.000000</td>\n",
              "      <td>1744.750000</td>\n",
              "      <td>1594.000000</td>\n",
              "      <td>342.250000</td>\n",
              "    </tr>\n",
              "    <tr>\n",
              "      <th>50%</th>\n",
              "      <td>87.500000</td>\n",
              "      <td>3607.500000</td>\n",
              "      <td>15104.000000</td>\n",
              "      <td>131.000000</td>\n",
              "      <td>5434.000000</td>\n",
              "      <td>8386.500000</td>\n",
              "      <td>0.539560</td>\n",
              "      <td>12031.500000</td>\n",
              "      <td>10073.500000</td>\n",
              "      <td>3332.500000</td>\n",
              "      <td>7436.500000</td>\n",
              "      <td>905.000000</td>\n",
              "      <td>0.068272</td>\n",
              "      <td>36000.000000</td>\n",
              "      <td>27000.000000</td>\n",
              "      <td>47050.000000</td>\n",
              "      <td>4467.500000</td>\n",
              "      <td>4603.500000</td>\n",
              "      <td>1238.500000</td>\n",
              "    </tr>\n",
              "    <tr>\n",
              "      <th>75%</th>\n",
              "      <td>130.250000</td>\n",
              "      <td>5503.250000</td>\n",
              "      <td>38909.750000</td>\n",
              "      <td>339.000000</td>\n",
              "      <td>14631.000000</td>\n",
              "      <td>22553.750000</td>\n",
              "      <td>0.703299</td>\n",
              "      <td>31701.250000</td>\n",
              "      <td>25447.250000</td>\n",
              "      <td>9981.000000</td>\n",
              "      <td>17674.750000</td>\n",
              "      <td>2397.000000</td>\n",
              "      <td>0.087599</td>\n",
              "      <td>45000.000000</td>\n",
              "      <td>33000.000000</td>\n",
              "      <td>60000.000000</td>\n",
              "      <td>14595.750000</td>\n",
              "      <td>11791.750000</td>\n",
              "      <td>3496.000000</td>\n",
              "    </tr>\n",
              "    <tr>\n",
              "      <th>max</th>\n",
              "      <td>173.000000</td>\n",
              "      <td>6403.000000</td>\n",
              "      <td>393735.000000</td>\n",
              "      <td>4212.000000</td>\n",
              "      <td>173809.000000</td>\n",
              "      <td>307087.000000</td>\n",
              "      <td>0.968954</td>\n",
              "      <td>307933.000000</td>\n",
              "      <td>251540.000000</td>\n",
              "      <td>115172.000000</td>\n",
              "      <td>199897.000000</td>\n",
              "      <td>28169.000000</td>\n",
              "      <td>0.177226</td>\n",
              "      <td>110000.000000</td>\n",
              "      <td>95000.000000</td>\n",
              "      <td>125000.000000</td>\n",
              "      <td>151643.000000</td>\n",
              "      <td>148395.000000</td>\n",
              "      <td>48207.000000</td>\n",
              "    </tr>\n",
              "  </tbody>\n",
              "</table>\n",
              "</div>"
            ],
            "text/plain": [
              "             Rank   Major_code  ...  Non_college_jobs  Low_wage_jobs\n",
              "count  172.000000   172.000000  ...        172.000000     172.000000\n",
              "mean    87.075581  3880.273256  ...      13361.732558    3881.453488\n",
              "std     50.221266  1692.670105  ...      23837.351017    6958.985234\n",
              "min      1.000000  1100.000000  ...         50.000000       0.000000\n",
              "25%     43.750000  2402.750000  ...       1594.000000     342.250000\n",
              "50%     87.500000  3607.500000  ...       4603.500000    1238.500000\n",
              "75%    130.250000  5503.250000  ...      11791.750000    3496.000000\n",
              "max    173.000000  6403.000000  ...     148395.000000   48207.000000\n",
              "\n",
              "[8 rows x 19 columns]"
            ]
          },
          "metadata": {
            "tags": []
          },
          "execution_count": 6
        }
      ]
    },
    {
      "cell_type": "code",
      "metadata": {
        "id": "hs_x4DTFHs9f",
        "colab_type": "code",
        "outputId": "ecf58c95-3105-4561-87ea-4a002f8577a4",
        "colab": {
          "base_uri": "https://localhost:8080/",
          "height": 374
        }
      },
      "source": [
        "# List of columns\n",
        "list(majors.head(0))"
      ],
      "execution_count": 7,
      "outputs": [
        {
          "output_type": "execute_result",
          "data": {
            "text/plain": [
              "['Rank',\n",
              " 'Major_code',\n",
              " 'Major',\n",
              " 'Major_category',\n",
              " 'Total',\n",
              " 'Sample_size',\n",
              " 'Men',\n",
              " 'Women',\n",
              " 'ShareWomen',\n",
              " 'Employed',\n",
              " 'Full_time',\n",
              " 'Part_time',\n",
              " 'Full_time_year_round',\n",
              " 'Unemployed',\n",
              " 'Unemployment_rate',\n",
              " 'Median',\n",
              " 'P25th',\n",
              " 'P75th',\n",
              " 'College_jobs',\n",
              " 'Non_college_jobs',\n",
              " 'Low_wage_jobs']"
            ]
          },
          "metadata": {
            "tags": []
          },
          "execution_count": 7
        }
      ]
    },
    {
      "cell_type": "markdown",
      "metadata": {
        "id": "sajezB8uA64k",
        "colab_type": "text"
      },
      "source": [
        "## Relationship between pairs of variables using Scatter Plot\n",
        "Followings are graphs illustrating the relationship of distribution between two variables represented in scatter plot"
      ]
    },
    {
      "cell_type": "code",
      "metadata": {
        "id": "p_739wSvKKrA",
        "colab_type": "code",
        "colab": {}
      },
      "source": [
        "# This code give flexibility; however quite long and complicated\n",
        "#x = majors[\"Sample_size\"]\n",
        "#y = majors[\"Median\"]\n",
        "#fig1 = plt.figure()\n",
        "#ax1 = fig1.add_axes([0.1, 0.2, 0.8, 0.9])\n",
        "#ax1.plot(x, y, marker=\"o\", linestyle = \"\", color = \"red\")\n",
        "#ax1.set_title(\"Sample size vs Median\")"
      ],
      "execution_count": 0,
      "outputs": []
    },
    {
      "cell_type": "code",
      "metadata": {
        "id": "Jn9qG_VrJt9i",
        "colab_type": "code",
        "outputId": "b2dfb756-3ba5-433c-e391-1582b29e0309",
        "colab": {
          "base_uri": "https://localhost:8080/",
          "height": 369
        }
      },
      "source": [
        "fig1, axes = plt.subplots(nrows=1, ncols=2, figsize=(8,5))\n",
        "y = majors[\"Employed\"]\n",
        "a = majors[\"Sample_size\"]\n",
        "b = majors[\"Total\"]\n",
        "\n",
        "axes[0].plot(a,y, marker=\"o\", linestyle = \"\", color = \"green\")\n",
        "axes[1].plot(b,y, marker=\"o\", linestyle = \"\", color = \"green\")\n",
        "\n",
        "axes[0].set_title(\"Sample_size vs Employed\")\n",
        "axes[1].set_title(\"Total vs Employed\")\n",
        "\n",
        "axes[0].set_xlabel(\"Sample_size\")\n",
        "axes[0].set_ylabel(\"Employed\")\n",
        "\n",
        "axes[1].set_xlabel(\"Total\")\n",
        "axes[1].set_ylabel(\"Employed\")\n",
        "\n",
        "plt.tight_layout()"
      ],
      "execution_count": 9,
      "outputs": [
        {
          "output_type": "display_data",
          "data": {
            "image/png": "[encoded data removed]",
            "text/plain": [
              "<Figure size 576x360 with 2 Axes>"
            ]
          },
          "metadata": {
            "tags": []
          }
        }
      ]
    },
    {
      "cell_type": "markdown",
      "metadata": {
        "id": "fmczLMAQLmCc",
        "colab_type": "text"
      },
      "source": [
        "In order to determine the popularity of each course, the relationship between `Sample_size` and `Employed` is established (Left graph). However, the data distribution is relatively scattered. It is suggested to use `Total` to be more accurate (Right graph)\n",
        "\n",
        "Since there are so many data records lieing at the lower end of `Total`, the histogram plot below indicates the distribution of `Total` variable:\n",
        "\n"
      ]
    },
    {
      "cell_type": "code",
      "metadata": {
        "id": "4HCeq0HIMe9E",
        "colab_type": "code",
        "outputId": "cb86ab84-70fe-4064-ef5a-a0f338582075",
        "colab": {
          "base_uri": "https://localhost:8080/",
          "height": 405
        }
      },
      "source": [
        "plt.hist(majors[\"Total\"], bins = 20, range=(100, 300000))"
      ],
      "execution_count": 10,
      "outputs": [
        {
          "output_type": "execute_result",
          "data": {
            "text/plain": [
              "(array([86., 31., 16.,  9.,  8.,  1.,  2.,  1.,  2.,  3.,  1.,  2.,  2.,\n",
              "         3.,  1.,  1.,  0.,  0.,  1.,  0.]),\n",
              " array([1.00000e+02, 1.50950e+04, 3.00900e+04, 4.50850e+04, 6.00800e+04,\n",
              "        7.50750e+04, 9.00700e+04, 1.05065e+05, 1.20060e+05, 1.35055e+05,\n",
              "        1.50050e+05, 1.65045e+05, 1.80040e+05, 1.95035e+05, 2.10030e+05,\n",
              "        2.25025e+05, 2.40020e+05, 2.55015e+05, 2.70010e+05, 2.85005e+05,\n",
              "        3.00000e+05]),\n",
              " <a list of 20 Patch objects>)"
            ]
          },
          "metadata": {
            "tags": []
          },
          "execution_count": 10
        },
        {
          "output_type": "display_data",
          "data": {
            "image/png": "[encoded data removed]",
            "text/plain": [
              "<Figure size 432x288 with 1 Axes>"
            ]
          },
          "metadata": {
            "tags": []
          }
        }
      ]
    },
    {
      "cell_type": "markdown",
      "metadata": {
        "id": "Ju6p3zymNE5Q",
        "colab_type": "text"
      },
      "source": [
        "It is obvious that the majority of values for `Total`variable are below 50,000, while the remaining scattered to the right making a long tail. One way to pay more focus on the high-dense data distribution is to exclude the tail. "
      ]
    },
    {
      "cell_type": "code",
      "metadata": {
        "id": "6UqjxARxN1Tz",
        "colab_type": "code",
        "outputId": "ce024260-f324-4b29-dd67-c28094b6a9c7",
        "colab": {
          "base_uri": "https://localhost:8080/",
          "height": 312
        }
      },
      "source": [
        "majors_reduced = majors[majors[\"Total\"] < majors[\"Total\"].quantile(0.9)]\n",
        "majors_reduced.plot(x = \"Total\", y = \"Employed\", title = \"Total vs Employed\", kind = \"scatter\", color = \"green\")"
      ],
      "execution_count": 11,
      "outputs": [
        {
          "output_type": "execute_result",
          "data": {
            "text/plain": [
              "<matplotlib.axes._subplots.AxesSubplot at 0x7f3f384d3da0>"
            ]
          },
          "metadata": {
            "tags": []
          },
          "execution_count": 11
        },
        {
          "output_type": "display_data",
          "data": {
            "image/png": "[encoded data removed]",
            "text/plain": [
              "<Figure size 432x288 with 1 Axes>"
            ]
          },
          "metadata": {
            "tags": []
          }
        }
      ]
    },
    {
      "cell_type": "markdown",
      "metadata": {
        "id": "yFuFMx0dPoZC",
        "colab_type": "text"
      },
      "source": [
        "There is a strong positive relationship between `Total` and `Employed`.  It yields a conclusion that \"the number of total graduates\" and \"the number employed\" are positively correlated. It should be noted that correlation does not lead to causation."
      ]
    },
    {
      "cell_type": "code",
      "metadata": {
        "id": "bRmz65IZIzMI",
        "colab_type": "code",
        "outputId": "7293e927-78fc-44db-9d21-711ba4547f50",
        "colab": {
          "base_uri": "https://localhost:8080/",
          "height": 312
        }
      },
      "source": [
        "majors.plot(x = \"Total\", y = \"Median\", title = \"Total vs Median\", kind = \"scatter\", color = \"green\")"
      ],
      "execution_count": 12,
      "outputs": [
        {
          "output_type": "execute_result",
          "data": {
            "text/plain": [
              "<matplotlib.axes._subplots.AxesSubplot at 0x7f3f384bb160>"
            ]
          },
          "metadata": {
            "tags": []
          },
          "execution_count": 12
        },
        {
          "output_type": "display_data",
          "data": {
            "image/png": "[encoded data removed]",
            "text/plain": [
              "<Figure size 432x288 with 1 Axes>"
            ]
          },
          "metadata": {
            "tags": []
          }
        }
      ]
    },
    {
      "cell_type": "markdown",
      "metadata": {
        "id": "kj6ljDNsQRk1",
        "colab_type": "text"
      },
      "source": [
        "The graph does not show a relationship between `Total` (or the number of total graduates) and `Median` (or median salary of full-time workers)"
      ]
    },
    {
      "cell_type": "code",
      "metadata": {
        "id": "nXMD5KUEQlx6",
        "colab_type": "code",
        "outputId": "d6a3af7d-9ed1-4bd9-b183-69c698978335",
        "colab": {
          "base_uri": "https://localhost:8080/",
          "height": 312
        }
      },
      "source": [
        "majors.plot(x = \"Total\", y = \"Unemployment_rate\", title = \"Total vs Unemployment_rate\", kind = \"scatter\", color = \"green\")"
      ],
      "execution_count": 13,
      "outputs": [
        {
          "output_type": "execute_result",
          "data": {
            "text/plain": [
              "<matplotlib.axes._subplots.AxesSubplot at 0x7f3f3841e160>"
            ]
          },
          "metadata": {
            "tags": []
          },
          "execution_count": 13
        },
        {
          "output_type": "display_data",
          "data": {
            "image/png": "[encoded data removed]",
            "text/plain": [
              "<Figure size 432x288 with 1 Axes>"
            ]
          },
          "metadata": {
            "tags": []
          }
        }
      ]
    },
    {
      "cell_type": "markdown",
      "metadata": {
        "id": "W682DLW3Qsfq",
        "colab_type": "text"
      },
      "source": [
        "The graph does not show a relationship between `Total` (or the number of total graduates) and `Unempployment_rate` (rate of unemployment amongst workers)"
      ]
    },
    {
      "cell_type": "code",
      "metadata": {
        "id": "BcHKrCYuRSJd",
        "colab_type": "code",
        "outputId": "2872ff94-e05d-4d91-e482-03cb2eefd238",
        "colab": {
          "base_uri": "https://localhost:8080/",
          "height": 313
        }
      },
      "source": [
        "majors.plot(x = \"Full_time\", y = \"Median\", title = \"Full_time vs Median\", kind = \"scatter\", color = \"green\")"
      ],
      "execution_count": 14,
      "outputs": [
        {
          "output_type": "execute_result",
          "data": {
            "text/plain": [
              "<matplotlib.axes._subplots.AxesSubplot at 0x7f3f383ec080>"
            ]
          },
          "metadata": {
            "tags": []
          },
          "execution_count": 14
        },
        {
          "output_type": "display_data",
          "data": {
            "image/png": "[encoded data removed]",
            "text/plain": [
              "<Figure size 432x288 with 1 Axes>"
            ]
          },
          "metadata": {
            "tags": []
          }
        }
      ]
    },
    {
      "cell_type": "markdown",
      "metadata": {
        "id": "gO6wpliXRYbq",
        "colab_type": "text"
      },
      "source": [
        "The graph does not show a relationship between `Full_time` (or the number of graduates who are working full time) and `Median` (or median salary of full-time workers)"
      ]
    },
    {
      "cell_type": "code",
      "metadata": {
        "id": "II-mVdJtJC_i",
        "colab_type": "code",
        "outputId": "ba3b99de-b281-4045-c384-b61c101ae660",
        "colab": {
          "base_uri": "https://localhost:8080/",
          "height": 369
        }
      },
      "source": [
        "fig2, axes = plt.subplots(nrows=1, ncols=2, figsize=(8,5))\n",
        "y = majors[\"Median\"]\n",
        "a = majors[\"Men\"]\n",
        "b = majors[\"Women\"]\n",
        "\n",
        "axes[0].plot(a,y, marker=\"o\", linestyle = \"\", color = \"green\")\n",
        "axes[1].plot(b,y, marker=\"o\", linestyle = \"\", color = \"green\")\n",
        "\n",
        "axes[0].set_title(\"Men vs Median\")\n",
        "axes[1].set_title(\"Women vs Median\")\n",
        "\n",
        "axes[0].set_xlabel(\"Men\")\n",
        "axes[0].set_ylabel(\"Median\")\n",
        "\n",
        "axes[1].set_xlabel(\"Women\")\n",
        "axes[1].set_ylabel(\"Median\")\n",
        "\n",
        "plt.tight_layout()"
      ],
      "execution_count": 15,
      "outputs": [
        {
          "output_type": "display_data",
          "data": {
            "image/png": "[encoded data removed]",
            "text/plain": [
              "<Figure size 576x360 with 2 Axes>"
            ]
          },
          "metadata": {
            "tags": []
          }
        }
      ]
    },
    {
      "cell_type": "markdown",
      "metadata": {
        "id": "Rofm2KXmSfeG",
        "colab_type": "text"
      },
      "source": [
        "The graphs do not show a relationship between either `Men` (or the number of graduates who are male) or `Women` (or the number of graduates who are female) and `Median` (or median salary of full-time workers)."
      ]
    },
    {
      "cell_type": "markdown",
      "metadata": {
        "id": "Cz5SCZ7STs-8",
        "colab_type": "text"
      },
      "source": [
        "## Distribution of variables by Histogram"
      ]
    },
    {
      "cell_type": "code",
      "metadata": {
        "id": "ymTGxpKNQj2c",
        "colab_type": "code",
        "outputId": "e6008bae-025c-4101-c7a1-a8d277b584bb",
        "colab": {
          "base_uri": "https://localhost:8080/",
          "height": 313
        }
      },
      "source": [
        "plt.hist(majors[\"Sample_size\"], bins = 20, range=(100, 5000))\n",
        "plt.title(\"Distribution of Sample Size\")\n",
        "plt.ylabel(\"Frequency\")\n",
        "plt.xlabel(\"Sample_size\")"
      ],
      "execution_count": 16,
      "outputs": [
        {
          "output_type": "execute_result",
          "data": {
            "text/plain": [
              "Text(0.5, 0, 'Sample_size')"
            ]
          },
          "metadata": {
            "tags": []
          },
          "execution_count": 16
        },
        {
          "output_type": "display_data",
          "data": {
            "image/png": "[encoded data removed]",
            "text/plain": [
              "<Figure size 432x288 with 1 Axes>"
            ]
          },
          "metadata": {
            "tags": []
          }
        }
      ]
    },
    {
      "cell_type": "code",
      "metadata": {
        "id": "j5bllY1ZJOOE",
        "colab_type": "code",
        "outputId": "1bd583fb-5ff3-476c-cb56-fcfb4deb6be1",
        "colab": {
          "base_uri": "https://localhost:8080/",
          "height": 312
        }
      },
      "source": [
        "plt.hist(majors[\"Total\"], bins = 20, range=(100, 400000))\n",
        "plt.title(\"Distribution of Total\")\n",
        "plt.ylabel(\"Frequency\")\n",
        "plt.xlabel(\"Total\")"
      ],
      "execution_count": 17,
      "outputs": [
        {
          "output_type": "execute_result",
          "data": {
            "text/plain": [
              "Text(0.5, 0, 'Total')"
            ]
          },
          "metadata": {
            "tags": []
          },
          "execution_count": 17
        },
        {
          "output_type": "display_data",
          "data": {
            "image/png": "[encoded data removed]",
            "text/plain": [
              "<Figure size 432x288 with 1 Axes>"
            ]
          },
          "metadata": {
            "tags": []
          }
        }
      ]
    },
    {
      "cell_type": "code",
      "metadata": {
        "id": "nRSryWGTUUjD",
        "colab_type": "code",
        "outputId": "df398273-1887-42dd-eaab-aa5b2f3ce5fd",
        "colab": {
          "base_uri": "https://localhost:8080/",
          "height": 312
        }
      },
      "source": [
        "plt.hist(majors[\"Median\"], bins = 20, range=(20000, 120000))\n",
        "plt.title(\"Distribution of Median\")\n",
        "plt.ylabel(\"Frequency\")\n",
        "plt.xlabel(\"Median\")"
      ],
      "execution_count": 18,
      "outputs": [
        {
          "output_type": "execute_result",
          "data": {
            "text/plain": [
              "Text(0.5, 0, 'Median')"
            ]
          },
          "metadata": {
            "tags": []
          },
          "execution_count": 18
        },
        {
          "output_type": "display_data",
          "data": {
            "image/png": "[encoded data removed]",
            "text/plain": [
              "<Figure size 432x288 with 1 Axes>"
            ]
          },
          "metadata": {
            "tags": []
          }
        }
      ]
    },
    {
      "cell_type": "code",
      "metadata": {
        "id": "R-ijV-u7Ueq2",
        "colab_type": "code",
        "outputId": "7b5fba64-1080-407b-bc1b-d6732cfc682a",
        "colab": {
          "base_uri": "https://localhost:8080/",
          "height": 312
        }
      },
      "source": [
        "plt.hist(majors[\"Employed\"], bins = 20, range=(0, 300000))\n",
        "plt.title(\"Distribution of Employed\")\n",
        "plt.ylabel(\"Frequency\")\n",
        "plt.xlabel(\"Employed\")"
      ],
      "execution_count": 19,
      "outputs": [
        {
          "output_type": "execute_result",
          "data": {
            "text/plain": [
              "Text(0.5, 0, 'Employed')"
            ]
          },
          "metadata": {
            "tags": []
          },
          "execution_count": 19
        },
        {
          "output_type": "display_data",
          "data": {
            "image/png": "[encoded data removed]",
            "text/plain": [
              "<Figure size 432x288 with 1 Axes>"
            ]
          },
          "metadata": {
            "tags": []
          }
        }
      ]
    },
    {
      "cell_type": "code",
      "metadata": {
        "id": "8s35D-2hUnek",
        "colab_type": "code",
        "outputId": "6ab6cba3-095f-4ffc-bbb4-9b9fce38236c",
        "colab": {
          "base_uri": "https://localhost:8080/",
          "height": 313
        }
      },
      "source": [
        "plt.hist(majors[\"Full_time\"], bins = 20, range=(100, 200000))\n",
        "plt.title(\"Distribution of Full_time\")\n",
        "plt.ylabel(\"Frequency\")\n",
        "plt.xlabel(\"Full_time\")"
      ],
      "execution_count": 20,
      "outputs": [
        {
          "output_type": "execute_result",
          "data": {
            "text/plain": [
              "Text(0.5, 0, 'Full_time')"
            ]
          },
          "metadata": {
            "tags": []
          },
          "execution_count": 20
        },
        {
          "output_type": "display_data",
          "data": {
            "image/png": "[encoded data removed]",
            "text/plain": [
              "<Figure size 432x288 with 1 Axes>"
            ]
          },
          "metadata": {
            "tags": []
          }
        }
      ]
    },
    {
      "cell_type": "code",
      "metadata": {
        "id": "10nGE1bUU2yE",
        "colab_type": "code",
        "outputId": "68c64f02-f704-4af2-86ae-82dcc5fe85a0",
        "colab": {
          "base_uri": "https://localhost:8080/",
          "height": 312
        }
      },
      "source": [
        "plt.hist(majors[\"ShareWomen\"], bins = 20, range=(0,1))\n",
        "plt.title(\"Distribution of ShareWomen\")\n",
        "plt.ylabel(\"Frequency\")\n",
        "plt.xlabel(\"ShareWomen\")"
      ],
      "execution_count": 21,
      "outputs": [
        {
          "output_type": "execute_result",
          "data": {
            "text/plain": [
              "Text(0.5, 0, 'ShareWomen')"
            ]
          },
          "metadata": {
            "tags": []
          },
          "execution_count": 21
        },
        {
          "output_type": "display_data",
          "data": {
            "image/png": "[encoded data removed]",
            "text/plain": [
              "<Figure size 432x288 with 1 Axes>"
            ]
          },
          "metadata": {
            "tags": []
          }
        }
      ]
    },
    {
      "cell_type": "code",
      "metadata": {
        "id": "tcbTyejTU9sO",
        "colab_type": "code",
        "outputId": "c2088861-86ee-48c7-94da-26bf62cfc22d",
        "colab": {
          "base_uri": "https://localhost:8080/",
          "height": 313
        }
      },
      "source": [
        "plt.hist(majors[\"Unemployment_rate\"], bins = 20, range=(0,0.2))\n",
        "plt.title(\"Distribution of Unemployment_rate\")\n",
        "plt.ylabel(\"Frequency\")\n",
        "plt.xlabel(\"Unemployment_rate\")"
      ],
      "execution_count": 22,
      "outputs": [
        {
          "output_type": "execute_result",
          "data": {
            "text/plain": [
              "Text(0.5, 0, 'Unemployment_rate')"
            ]
          },
          "metadata": {
            "tags": []
          },
          "execution_count": 22
        },
        {
          "output_type": "display_data",
          "data": {
            "image/png": "[encoded data removed]",
            "text/plain": [
              "<Figure size 432x288 with 1 Axes>"
            ]
          },
          "metadata": {
            "tags": []
          }
        }
      ]
    },
    {
      "cell_type": "markdown",
      "metadata": {
        "id": "0POs9467V9n9",
        "colab_type": "text"
      },
      "source": [
        "##Potential relationships and distributions between two variables using Scatter Matrix Plot"
      ]
    },
    {
      "cell_type": "code",
      "metadata": {
        "id": "l9I3mvQ6VERu",
        "colab_type": "code",
        "outputId": "7035bbc7-acea-4bff-beea-1a9a4dd03bc2",
        "colab": {
          "base_uri": "https://localhost:8080/",
          "height": 1000
        }
      },
      "source": [
        "from pandas.plotting import scatter_matrix\n",
        "\n",
        "scatter_matrix(majors[[\"Total\", \"Median\"]], figsize = (10,10))\n",
        "scatter_matrix(majors[[\"Total\", \"Median\", \"Unemployment_rate\"]], figsize = (10,10))\n"
      ],
      "execution_count": 23,
      "outputs": [
        {
          "output_type": "execute_result",
          "data": {
            "text/plain": [
              "array([[<matplotlib.axes._subplots.AxesSubplot object at 0x7f3f37d897f0>,\n",
              "        <matplotlib.axes._subplots.AxesSubplot object at 0x7f3f37db2860>,\n",
              "        <matplotlib.axes._subplots.AxesSubplot object at 0x7f3f37d5add8>],\n",
              "       [<matplotlib.axes._subplots.AxesSubplot object at 0x7f3f37d0e390>,\n",
              "        <matplotlib.axes._subplots.AxesSubplot object at 0x7f3f37d34908>,\n",
              "        <matplotlib.axes._subplots.AxesSubplot object at 0x7f3f37cdcd30>],\n",
              "       [<matplotlib.axes._subplots.AxesSubplot object at 0x7f3f37c8d2e8>,\n",
              "        <matplotlib.axes._subplots.AxesSubplot object at 0x7f3f37cb4898>,\n",
              "        <matplotlib.axes._subplots.AxesSubplot object at 0x7f3f37cb48d0>]],\n",
              "      dtype=object)"
            ]
          },
          "metadata": {
            "tags": []
          },
          "execution_count": 23
        },
        {
          "output_type": "display_data",
          "data": {
            "image/png": "[encoded data removed]",
            "text/plain": [
              "<Figure size 720x720 with 4 Axes>"
            ]
          },
          "metadata": {
            "tags": []
          }
        },
        {
          "output_type": "display_data",
          "data": {
            "image/png": "[encoded data removed]",
            "text/plain": [
              "<Figure size 720x720 with 9 Axes>"
            ]
          },
          "metadata": {
            "tags": []
          }
        }
      ]
    },
    {
      "cell_type": "markdown",
      "metadata": {
        "id": "uDhasKqNXVHv",
        "colab_type": "text"
      },
      "source": [
        "It can be seen that there is no correlation between `Total`, `Median` and `Unemployment_rate`"
      ]
    },
    {
      "cell_type": "code",
      "metadata": {
        "id": "OA6CzINkWTJG",
        "colab_type": "code",
        "outputId": "97c7dc2c-a243-442a-ef08-72a8b423d0ea",
        "colab": {
          "base_uri": "https://localhost:8080/",
          "height": 1000
        }
      },
      "source": [
        "scatter_matrix(majors[[\"Women\", \"Median\"]], figsize = (10,10))\n",
        "scatter_matrix(majors[[\"Women\", \"Median\", \"Part_time\"]], figsize = (10,10))"
      ],
      "execution_count": 24,
      "outputs": [
        {
          "output_type": "execute_result",
          "data": {
            "text/plain": [
              "array([[<matplotlib.axes._subplots.AxesSubplot object at 0x7f3f37ee3d30>,\n",
              "        <matplotlib.axes._subplots.AxesSubplot object at 0x7f3f37e98048>,\n",
              "        <matplotlib.axes._subplots.AxesSubplot object at 0x7f3f37ea3588>],\n",
              "       [<matplotlib.axes._subplots.AxesSubplot object at 0x7f3f36266b00>,\n",
              "        <matplotlib.axes._subplots.AxesSubplot object at 0x7f3f362180b8>,\n",
              "        <matplotlib.axes._subplots.AxesSubplot object at 0x7f3f3623d630>],\n",
              "       [<matplotlib.axes._subplots.AxesSubplot object at 0x7f3f361e6908>,\n",
              "        <matplotlib.axes._subplots.AxesSubplot object at 0x7f3f3618eeb8>,\n",
              "        <matplotlib.axes._subplots.AxesSubplot object at 0x7f3f3618eef0>]],\n",
              "      dtype=object)"
            ]
          },
          "metadata": {
            "tags": []
          },
          "execution_count": 24
        },
        {
          "output_type": "display_data",
          "data": {
            "image/png": "[encoded data removed]",
            "text/plain": [
              "<Figure size 720x720 with 4 Axes>"
            ]
          },
          "metadata": {
            "tags": []
          }
        },
        {
          "output_type": "display_data",
          "data": {
            "image/png": "[encoded data removed]",
            "text/plain": [
              "<Figure size 720x720 with 9 Axes>"
            ]
          },
          "metadata": {
            "tags": []
          }
        }
      ]
    },
    {
      "cell_type": "markdown",
      "metadata": {
        "id": "8AseO-cZXwMA",
        "colab_type": "text"
      },
      "source": [
        "It can be seen that there is a weak correlation between `Women` and `Part_time`"
      ]
    },
    {
      "cell_type": "markdown",
      "metadata": {
        "id": "k4IG8hLQX6I1",
        "colab_type": "text"
      },
      "source": [
        "## Popularity of Majors using Bar Plots"
      ]
    },
    {
      "cell_type": "markdown",
      "metadata": {
        "id": "w7tCcEOLYwPG",
        "colab_type": "text"
      },
      "source": [
        "From the master table, the data is ranked based on median earnings. Therefore, the first 10 rows are the 10 majors with highest paying."
      ]
    },
    {
      "cell_type": "code",
      "metadata": {
        "id": "qN_jRzfAa0cg",
        "colab_type": "code",
        "outputId": "10df5fd1-0622-46c1-eefc-9864b3406316",
        "colab": {
          "base_uri": "https://localhost:8080/",
          "height": 556
        }
      },
      "source": [
        "majors[:10].plot.bar(x = \"Major\", y = \"ShareWomen\")\n",
        "plt.title(\"ShareWomen by Major (10 most popular majors)\")\n",
        "plt.xlabel(\"Major\")\n",
        "plt.ylabel(\"ShareWomen\")"
      ],
      "execution_count": 25,
      "outputs": [
        {
          "output_type": "execute_result",
          "data": {
            "text/plain": [
              "Text(0, 0.5, 'ShareWomen')"
            ]
          },
          "metadata": {
            "tags": []
          },
          "execution_count": 25
        },
        {
          "output_type": "display_data",
          "data": {
            "image/png": "[encoded data removed]",
            "text/plain": [
              "<Figure size 432x288 with 1 Axes>"
            ]
          },
          "metadata": {
            "tags": []
          }
        }
      ]
    },
    {
      "cell_type": "code",
      "metadata": {
        "id": "2KkEmz-fbV_D",
        "colab_type": "code",
        "outputId": "2b6d15d1-c6f9-4310-ca72-44846c6cd94a",
        "colab": {
          "base_uri": "https://localhost:8080/",
          "height": 581
        }
      },
      "source": [
        "majors[-10:].plot.bar(x = \"Major\", y = \"ShareWomen\")\n",
        "plt.title(\"ShareWomen by Major (10 least popular majors)\")\n",
        "plt.xlabel(\"Major\")\n",
        "plt.ylabel(\"ShareWomen\")"
      ],
      "execution_count": 26,
      "outputs": [
        {
          "output_type": "execute_result",
          "data": {
            "text/plain": [
              "Text(0, 0.5, 'ShareWomen')"
            ]
          },
          "metadata": {
            "tags": []
          },
          "execution_count": 26
        },
        {
          "output_type": "display_data",
          "data": {
            "image/png": "[encoded data removed]",
            "text/plain": [
              "<Figure size 432x288 with 1 Axes>"
            ]
          },
          "metadata": {
            "tags": []
          }
        }
      ]
    },
    {
      "cell_type": "markdown",
      "metadata": {
        "id": "hrhaq61Mfui8",
        "colab_type": "text"
      },
      "source": [
        "It can be seen that there is a dominance of male in the top 10 ranking majors. To illustrate with, up to 20% of graduates from 7 of the top 10 majors are female. The contrary is seen in the bottom 10 ranking majors where the proportion of femail students outweight their counterpart. "
      ]
    },
    {
      "cell_type": "code",
      "metadata": {
        "id": "fyzOIDp3e3LL",
        "colab_type": "code",
        "outputId": "2811250d-1507-4f04-98f8-f8d2c47a8b59",
        "colab": {
          "base_uri": "https://localhost:8080/",
          "height": 556
        }
      },
      "source": [
        "majors[:10].plot.bar(x = \"Major\", y = \"Unemployment_rate\")\n",
        "plt.title(\"Unemployment_rate by Major (10 most popular majors)\")\n",
        "plt.xlabel(\"Major\")\n",
        "plt.ylabel(\"Unemployment_rate\")"
      ],
      "execution_count": 27,
      "outputs": [
        {
          "output_type": "execute_result",
          "data": {
            "text/plain": [
              "Text(0, 0.5, 'Unemployment_rate')"
            ]
          },
          "metadata": {
            "tags": []
          },
          "execution_count": 27
        },
        {
          "output_type": "display_data",
          "data": {
            "image/png": "[encoded data removed]",
            "text/plain": [
              "<Figure size 432x288 with 1 Axes>"
            ]
          },
          "metadata": {
            "tags": []
          }
        }
      ]
    },
    {
      "cell_type": "code",
      "metadata": {
        "id": "Anhh5P5MggRg",
        "colab_type": "code",
        "outputId": "91602cd4-fcc0-40b7-f206-d2d954bbe427",
        "colab": {
          "base_uri": "https://localhost:8080/",
          "height": 581
        }
      },
      "source": [
        "majors[-10:].plot.bar(x = \"Major\", y = \"Unemployment_rate\")\n",
        "plt.title(\"Unemployment_rate by Major (10 least popular majors)\")\n",
        "plt.xlabel(\"Major\")\n",
        "plt.ylabel(\"Unemployment_rate\")"
      ],
      "execution_count": 28,
      "outputs": [
        {
          "output_type": "execute_result",
          "data": {
            "text/plain": [
              "Text(0, 0.5, 'Unemployment_rate')"
            ]
          },
          "metadata": {
            "tags": []
          },
          "execution_count": 28
        },
        {
          "output_type": "display_data",
          "data": {
            "image/png": "[encoded data removed]",
            "text/plain": [
              "<Figure size 432x288 with 1 Axes>"
            ]
          },
          "metadata": {
            "tags": []
          }
        }
      ]
    },
    {
      "cell_type": "markdown",
      "metadata": {
        "id": "Hq9bupnpgqCw",
        "colab_type": "text"
      },
      "source": [
        "It can be seen that the unemployment rate for top 10 most popular ranking majors are quite low except \"Nuclear Engineering\" major has a highest unemployment rate of nearly 0.175 amongst study group, followed by \"Minung and Mineral Engineering\" and \"Actuarial Science\". The lowest unemployment rate is seen in \"Petroleum Engineering\" Major. Higher unemployment rates are experienced in the bottom 10 ranking majors, in which \"Clinial Psychology\" has a relative high rate."
      ]
    }
  ]
}